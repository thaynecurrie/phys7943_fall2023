{
 "cells": [
  {
   "cell_type": "markdown",
   "id": "c223bb72",
   "metadata": {},
   "source": [
    "# _Python for Scientific Data Analysis_\n",
    "\n",
    "\n",
    "#  Bayesian Statistics and Markov Chain Monte Carlo methods\n",
    "\n",
    "## Section 3: Parallel Tempering and Practical Applications.\n",
    "\n",
    "**caveats**\n",
    "\n",
    "(caveat: a lot of this is HEAVILY indebted to Daniel Foreman-Mackey and Imad Pasha and in many cases is just plain copied from these sources.  Please browse their work on https://dfm.io/ and https://prappleizer.github.io/.  I also borrowed a bit of text from Charles Greyer (U. Minnesota) )\n",
    "\n",
    "(caveat #2: your instructor has a heavy frequentist bias by training but likes MCMC largely for its parameter space exploration and clear visualization of correlations between parameters in leading, widely-used code)"
   ]
  },
  {
   "cell_type": "markdown",
   "id": "7f2d250d",
   "metadata": {},
   "source": [
    "In the first section we introduced the rationale behind Bayesian statistics and the Markov Chain Monte Carlo method for sampling a complex parameter space and deriving posterior distributions. We used a simple and highly contrived example -- a linear fit to data with underestimated errors -- to demonstrate MCMC modeling.\n",
    "\n",
    "In the second section we worked through a more detailed example: fitting the Milankovich Cycles to a set of sinusoidal functions with MCMC.   We discussed the importance of: convergence, number of of walkers, number of iterations, and bimodality of results.\n",
    "\n",
    "In this very short section (emph on SHORT!!!!) \n",
    "we will very briefly describe parallel tempering with MCMC and then discuss some practical applications of MCMC in astronomy research."
   ]
  },
  {
   "cell_type": "markdown",
   "id": "de744cde",
   "metadata": {},
   "source": [
    "### Parallel Tempering\n",
    "\n",
    "In the previous example, we encountered the case where we had bimodal peaks in the posterior distribution for parameters.   \n",
    "\n",
    "When your posterior is multi-modal or otherwise hard to sample with a standard MCMC, a good option to try is parallel-tempered MCMC (PTMCMC). PTMCMC runs multiple MCMC’s at different temperatures, T. Each MCMC samples from a modified posterior, given by\n",
    "\n",
    "$\\pi_{T}(x) = [l(x)]^{1/T}p(x)$\n",
    "\n",
    "As T goes to infinity the posterior becomes the prior. If the likelihood is a Gaussian with standard deviation $\\sigma$, then the tempered likelihood is proportional to a Gaussian with standard deviation $\\sigma$$\\sqrt{T}$.   Periodically during the run, the different temperatures swap members of their ensemble in a way that preserves detailed balance. The hot chains can more easily explore parameter space because the likelihood is flatter and broader, while the cold chains do a good job of exploring the peaks of the likelihood. This can dramatically improve convergence if your likelihood function has many well-separated modes.\n",
    "\n",
    "Crudely speaking, by having a range of temperatures, you are able to sample the full range of parameter space well (high temperatures) and also find localized minima (low temperatures).\n",
    "\n",
    "The package that performs MCMC with parallel tempering is a fork of the ``emcee`` package located here:\n",
    "\n",
    "https://github.com/willvousden/ptemcee"
   ]
  },
  {
   "cell_type": "markdown",
   "id": "26a167b4",
   "metadata": {},
   "source": [
    "Unfortunately, PTMCMC suffers from personnel issues.  The authors who first implemented it within an astronomy context have not kept the code up to date.  It is used in many codes \"under the hood\" but with highly complex object-oriented programming syntax.   This presents a problem for trying to do a simple demonstration of PTMCMC.   "
   ]
  },
  {
   "cell_type": "markdown",
   "id": "0888e52d",
   "metadata": {},
   "source": [
    "### Practical Applications of MCMC"
   ]
  },
  {
   "cell_type": "markdown",
   "id": "90a8e137",
   "metadata": {},
   "source": [
    "There are many practical applications of MCMC.  I will go through one in particular that I know well in class."
   ]
  },
  {
   "cell_type": "code",
   "execution_count": null,
   "id": "0d2399f9",
   "metadata": {},
   "outputs": [],
   "source": []
  }
 ],
 "metadata": {
  "kernelspec": {
   "display_name": "Python 3 (ipykernel)",
   "language": "python",
   "name": "python3"
  },
  "language_info": {
   "codemirror_mode": {
    "name": "ipython",
    "version": 3
   },
   "file_extension": ".py",
   "mimetype": "text/x-python",
   "name": "python",
   "nbconvert_exporter": "python",
   "pygments_lexer": "ipython3",
   "version": "3.10.4"
  }
 },
 "nbformat": 4,
 "nbformat_minor": 5
}
