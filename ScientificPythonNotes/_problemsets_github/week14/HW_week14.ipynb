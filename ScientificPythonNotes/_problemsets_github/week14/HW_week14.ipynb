{
 "cells": [
  {
   "cell_type": "code",
   "execution_count": 3,
   "id": "9e018473",
   "metadata": {},
   "outputs": [],
   "source": [
    "from astropy.io import fits\n",
    "import matplotlib.pyplot as plt\n",
    "import numpy as np\n",
    "%matplotlib inline\n"
   ]
  },
  {
   "cell_type": "markdown",
   "id": "3b658146",
   "metadata": {},
   "source": [
    "### Problem 1 Astrometry and Photometry with Photutils\n",
    "\n",
    "The file \"star_nopsfsub.fits\" is an unsaturated image of the star (which should be in the middle of the image).  the file \"psfsub.fits\" is the same image with the stellar halo removed to flatten the background and reveal a planet-mass companion nearly due-west of the star (it's at an x position of about 320).\n",
    "\n",
    "Assume that the pixel scale is roughly 9.952 milliarcseconds/pixel and that the image is rotated perfectly north-up, east-left.\n",
    "\n",
    "* read in this file using astropy functions\n",
    "\n",
    "* using photutils, compute the centroid of the planet-mass companion's position in pixel values (x and y).   Then, given the pixel scale, compute its position in arc-seconds in units [East, North] _relative_ to the star. \n",
    "\n",
    "    (e.g. if its position were 0.5 arcseconds east and -0.7 arcseconds south of the star then you would report this as [East, North] = [0.5,-0.7]).\n",
    "    \n",
    "    \n",
    "* using photutils, plot the radial-profile of the star.  Find where the star's brightness roughly (emphasis on **roughly**!) decreases to about half its peak value: round up to the nearest integer and set this value to be the aperture radius.\n",
    "\n",
    "\n",
    "* Compute photometry of the star and the companion with this aperture radius both in units of counts.  Then compute the contrast between the star and the planet in units of magnitudes (note: do not overthink this: it's as simple as it sounds).\n",
    "\n",
    "\n",
    "Hints: \n",
    "* to figure out a good initial guess for the centroid positions, try displaying the image using Matplotlib: the notes give a good recipe for how to do this.\n",
    "* look at the notes on photutils VERY closely to figure out how to plot the radial profile.   The answer for the half-peak value will be in between two integers: again, round up to get the aperture radius you should use.\n",
    "* you do not need to compute astrometric errors or photometric errors\n"
   ]
  },
  {
   "cell_type": "code",
   "execution_count": 4,
   "id": "c347d0b9",
   "metadata": {},
   "outputs": [],
   "source": [
    "from photutils import centroids\n",
    "from photutils.centroids import *\n",
    "import photutils"
   ]
  },
  {
   "cell_type": "code",
   "execution_count": 9,
   "id": "f9470409",
   "metadata": {},
   "outputs": [],
   "source": [
    "starimage=(fits.open('star_nopsfsub.fits'))[0].data\n",
    "planetimage=(fits.open('psfsub.fits'))[0].data"
   ]
  },
  {
   "cell_type": "code",
   "execution_count": null,
   "id": "1bfc089d",
   "metadata": {},
   "outputs": [],
   "source": [
    "#visualize the planet's position to estimate initial position\n",
    "plt.figure(figsize=(8, 8))\n",
    "clims=np.nanpercentile(planetimage,[10,99])\n",
    "\n",
    "plt.imshow(planetimage, clim=clims)"
   ]
  },
  {
   "cell_type": "code",
   "execution_count": 20,
   "id": "37996ffa",
   "metadata": {},
   "outputs": [
    {
     "data": {
      "text/plain": [
       "(194.5, 205.5)"
      ]
     },
     "execution_count": 20,
     "metadata": {},
     "output_type": "execute_result"
    },
    {
     "data": {
      "image/png": "[encoded data removed]",
      "text/plain": [
       "<Figure size 432x288 with 1 Axes>"
      ]
     },
     "metadata": {
      "needs_background": "light"
     },
     "output_type": "display_data"
    }
   ],
   "source": [
    "#its roughly at 320, 200?\n",
    "#now zoom in\n",
    "\n",
    "x0=320; y0=200\n",
    "#define a narrow window\n",
    "window=11/2.\n",
    "\n",
    "#slightly greater range to see centroid more clearly\n",
    "clims2=np.nanpercentile(planetimage,[10,99.7])\n",
    "plt.imshow(planetimage, clim=clims2)\n",
    "plt.xlabel('X',fontsize=14)\n",
    "plt.ylabel('Y',fontsize=14)\n",
    "plt.xlim(x0-window,x0+window)\n",
    "plt.ylim(y0-window,y0+window)"
   ]
  },
  {
   "cell_type": "code",
   "execution_count": 21,
   "id": "65c8cfe4",
   "metadata": {},
   "outputs": [],
   "source": [
    "#looks like a position of about 319,201 or so.\n",
    "#now centroid based off of this initial guess\n",
    "\n",
    "xo=319\n",
    "yo=201\n"
   ]
  },
  {
   "cell_type": "code",
   "execution_count": 25,
   "id": "03345b74",
   "metadata": {},
   "outputs": [
    {
     "name": "stdout",
     "output_type": "stream",
     "text": [
      "the planet has an x centroid position of 318.504 and y centroid position of 200.834\n"
     ]
    }
   ],
   "source": [
    "#centroid the planet\n",
    "\n",
    "#1d gaussian fit to marginal x & y distributions\n",
    "x1d,y1d = centroid_sources(planetimage,xo,yo,box_size=11,centroid_func=centroid_1dg)\n",
    "print(\"the planet has an x centroid position of {0:.3f} and y centroid position of {1:.3f}\".format(x1d[0],y1d[0]))"
   ]
  },
  {
   "cell_type": "code",
   "execution_count": 31,
   "id": "8c97427c",
   "metadata": {},
   "outputs": [
    {
     "data": {
      "text/plain": [
       "(195.5, 206.5)"
      ]
     },
     "execution_count": 31,
     "metadata": {},
     "output_type": "execute_result"
    },
    {
     "data": {
      "image/png": "[encoded data removed]",
      "text/plain": [
       "<Figure size 576x576 with 1 Axes>"
      ]
     },
     "metadata": {
      "needs_background": "light"
     },
     "output_type": "display_data"
    }
   ],
   "source": [
    "#do a centroid estimate for the star to confirm it's actually in the center?\n",
    "\n",
    "#visualize the planet's position to estimate initial position\n",
    "plt.figure(figsize=(8, 8))\n",
    "clims=np.nanpercentile(starimage,[10,99.9975])\n",
    "\n",
    "window=11/2.\n",
    "\n",
    "x0s=(starimage.shape)[1]//2\n",
    "y0s=(starimage.shape)[0]//2\n",
    "plt.imshow(starimage, clim=clims)\n",
    "plt.xlabel('X',fontsize=14)\n",
    "plt.ylabel('Y',fontsize=14)\n",
    "plt.xlim(x0s-window,x0+window)\n",
    "plt.ylim(y0s-window,y0+window)"
   ]
  },
  {
   "cell_type": "code",
   "execution_count": 33,
   "id": "a94f41a5",
   "metadata": {},
   "outputs": [
    {
     "name": "stdout",
     "output_type": "stream",
     "text": [
      "the star has an x centroid position of 200.985 and y centroid position of 200.996\n"
     ]
    }
   ],
   "source": [
    "#looks really close to dead-center.  Let's confirm\n",
    "\n",
    "#1d gaussian fit to marginal x & y distributions for star\n",
    "x1ds,y1ds = centroid_sources(starimage,x0s,y0s,box_size=11,centroid_func=centroid_1dg)\n",
    "print(\"the star has an x centroid position of {0:.3f} and y centroid position of {1:.3f}\".format(x1ds[0],y1ds[0]))\n",
    "\n",
    "print(\"this is very close to the exact center of the iamge\")"
   ]
  },
  {
   "cell_type": "code",
   "execution_count": 41,
   "id": "942341e5",
   "metadata": {},
   "outputs": [],
   "source": [
    "#relative astrometry of the planet\n",
    "\n",
    "east,north=-1*(x1d[0]-x1ds[0])*0.009952, (y1d[0]-y1ds[0])*0.009952\n",
    "\n",
    "\n",
    "east2,north2=-1*(x1d[0]-(planetimage.shape)[1]//2)*0.009952, (y1d[0]-(planetimage.shape)[0]//2)*0.009952"
   ]
  },
  {
   "cell_type": "code",
   "execution_count": 43,
   "id": "d430a3f9",
   "metadata": {},
   "outputs": [
    {
     "name": "stdout",
     "output_type": "stream",
     "text": [
      "-1.169549309691501 -0.0016201057110288557\n",
      "-1.1694042702175524 -0.001656971965447926\n"
     ]
    }
   ],
   "source": [
    "print(east,north)\n",
    "print(east2,north2)"
   ]
  },
  {
   "cell_type": "code",
   "execution_count": 46,
   "id": "998f2e54",
   "metadata": {},
   "outputs": [
    {
     "name": "stderr",
     "output_type": "stream",
     "text": [
      "/var/folders/jd/2nq0dfy94lsddczv0kg2y33h0000gn/T/ipykernel_57132/2253669844.py:2: DeprecationWarning: `photutils.CircularAperture` is a deprecated alias for `photutils.aperture.CircularAperture` and will be removed in the future. Instead, please use `from photutils.aperture import CircularAperture` to silence this warning.\n",
      "  from photutils import CircularAperture\n"
     ]
    }
   ],
   "source": [
    "#now, photometry\n",
    "from photutils import CircularAperture\n",
    "\n",
    "\n",
    "\n",
    "\n",
    "#from photutils import aperture_photometry\n",
    "from photutils.aperture import aperture_photometry"
   ]
  },
  {
   "cell_type": "code",
   "execution_count": 62,
   "id": "ac9cc4b7",
   "metadata": {},
   "outputs": [],
   "source": [
    "planetposition = (x1d[0],y1d[0])  # (x, y) pixel position for planet\n",
    "starposition=(x1ds[0],y1ds[0]) # (x, y) pixel position for star\n",
    "#radius = 5  # pixels\n",
    "\n",
    "radii = list(np.arange(2,10))\n",
    "\n",
    "planet_apertures = [CircularAperture(planetposition, r=r) for r in radii]\n",
    "star_apertures = [CircularAperture(starposition, r=r) for r in radii]\n",
    "#planet_aperture = CircularAperture(planetposition, r=radius)\n"
   ]
  },
  {
   "cell_type": "code",
   "execution_count": 63,
   "id": "9873063c",
   "metadata": {},
   "outputs": [
    {
     "data": {
      "text/plain": [
       "Text(0.5, 0, 'Pixels')"
      ]
     },
     "execution_count": 63,
     "metadata": {},
     "output_type": "execute_result"
    },
    {
     "data": {
      "image/png": "[encoded data removed]",
      "text/plain": [
       "<Figure size 864x288 with 2 Axes>"
      ]
     },
     "metadata": {
      "needs_background": "light"
     },
     "output_type": "display_data"
    }
   ],
   "source": [
    "from photutils.profiles import RadialProfile,CurveOfGrowth\n",
    "\n",
    "rpp=RadialProfile(planetimage,(x1d[0],y1d[0]),radii,error=None,mask=None)\n",
    "cogp=CurveOfGrowth(planetimage,[x1d[0],y1d[0]],radii,error=None,mask=None)\n",
    "\n",
    "rps=RadialProfile(starimage,(x1ds[0],y1ds[0]),radii,error=None,mask=None)\n",
    "cogs=CurveOfGrowth(starimage,[x1ds[0],y1ds[0]],radii,error=None,mask=None)\n",
    "\n",
    "fig,axes=plt.subplots(1,2,figsize=(12,4))\n",
    "axes[0].plot(rpp.radius,rpp.profile/np.max(rpp.profile),color='orange',label='planet')\n",
    "axes[0].plot(rps.radius,rps.profile/np.max(rps.profile),color='cyan',label='star')\n",
    "axes[0].set_ylabel('Radial Profile (Normalized)')\n",
    "axes[0].set_xlabel('Pixels')\n",
    "axes[0].legend(loc='best')\n",
    "axes[1].plot(cogp.radius,cogp.profile/np.max(cogp.profile),color='orange',label='planet')\n",
    "axes[1].plot(cogs.radius,cogs.profile/np.max(cogs.profile),color='cyan',label='star')\n",
    "axes[1].set_ylabel('Curve of Growth (Normalized)')\n",
    "axes[1].set_xlabel('Pixels')"
   ]
  },
  {
   "cell_type": "code",
   "execution_count": 67,
   "id": "1deadc42",
   "metadata": {},
   "outputs": [],
   "source": [
    "#Radial profile analysis sets the 1/2 peak value to be roughly 3.5 pixels. Round up to 4 pixels\n",
    "# aperture photometry\n",
    "\n",
    "\n",
    "star_aperture_final=CircularAperture(starposition, r=4)\n",
    "planet_aperture_final=CircularAperture(planetposition, r=4)\n",
    "starphot = aperture_photometry(starimage, star_aperture_final)\n",
    "planetphot = aperture_photometry(planetimage, planet_aperture_final)"
   ]
  },
  {
   "cell_type": "code",
   "execution_count": 70,
   "id": "0912554c",
   "metadata": {},
   "outputs": [
    {
     "name": "stdout",
     "output_type": "stream",
     "text": [
      " id      xcenter           ycenter          aperture_sum   \n",
      "           pix               pix                           \n",
      "--- ----------------- ------------------ ------------------\n",
      "  1 318.5044483739502 200.83350362083522 30557.612022472164\n",
      " id      xcenter            ycenter          aperture_sum   \n",
      "           pix                pix                           \n",
      "--- ------------------ ------------------ ------------------\n",
      "  1 200.98542609787495 200.99629559340644 10666315.737471849\n"
     ]
    }
   ],
   "source": [
    "print(planetphot)\n",
    "print(starphot)"
   ]
  },
  {
   "cell_type": "code",
   "execution_count": 76,
   "id": "b74546f7",
   "metadata": {},
   "outputs": [
    {
     "data": {
      "text/plain": [
       "array([6.35723756])"
      ]
     },
     "execution_count": 76,
     "metadata": {},
     "output_type": "execute_result"
    }
   ],
   "source": [
    "#contrast\n",
    "planet_flux=planetphot['aperture_sum'].value\n",
    "\n",
    "star_flux=starphot['aperture_sum'].value\n",
    "\n",
    "\n",
    "contrast=-2.5*np.log10(planet_flux/star_flux)\n",
    "contrast"
   ]
  },
  {
   "cell_type": "code",
   "execution_count": null,
   "id": "5a0ae975",
   "metadata": {},
   "outputs": [],
   "source": []
  }
 ],
 "metadata": {
  "kernelspec": {
   "display_name": "Python 3 (ipykernel)",
   "language": "python",
   "name": "python3"
  },
  "language_info": {
   "codemirror_mode": {
    "name": "ipython",
    "version": 3
   },
   "file_extension": ".py",
   "mimetype": "text/x-python",
   "name": "python",
   "nbconvert_exporter": "python",
   "pygments_lexer": "ipython3",
   "version": "3.10.4"
  }
 },
 "nbformat": 4,
 "nbformat_minor": 5
}
