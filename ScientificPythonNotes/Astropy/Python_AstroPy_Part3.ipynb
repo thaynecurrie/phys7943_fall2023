{
 "cells": [
  {
   "cell_type": "markdown",
   "id": "84651a98",
   "metadata": {},
   "source": [
    "# _Python for Scientific Data Analysis_\n",
    "\n",
    "\n",
    "#  AstroPy and AstroQuery\n",
    "\n",
    "## Section 3: AstroQuery\n"
   ]
  },
  {
   "cell_type": "markdown",
   "id": "ba0648d7",
   "metadata": {},
   "source": [
    "A lot of what it means to \"do\" astronomy involves querying public databases and downloading data from these sources.   And there are a TON of them: HST, JWST, Gaia, 2MASS, Keck, etc.   Just wait until we have LSST.\n",
    "\n",
    "Astronomy/astrophysics is a data-rich, highly accessible field (as science *should* be: not all fields are like this).   E.g. in principle, any rando anywhere in the world can download public data from many ground-based and basically all space-based observatories -- usually after some proprietary period of 6 to 18 months -- and make scientific discoveries.  \n",
    "\n",
    "E.g. I know of a few cases where -- with some cursory background in coding, statistics and knowing how to navigate the Internet -- someone could have discovered a directly imaged planet from publicly accessible data!\n",
    "\n",
    "So how do you access all of these data?   In many cases, you have to do it manually.   But for a lot of data --especially those contained in catalogues, fully reduced and analyzed -- you can use **astroquery**.  \n",
    "\n",
    "Astroquery is a set of tools for querying astronomical web forms and databases.\n",
    "\n",
    "There are two other packages with complimentary functionality as Astroquery: pyvo is an Astropy affiliated package, and Simple-Cone-Search-Creator to generate a cone search service complying with the IVOA standard. They are more oriented to general virtual observatory discovery and queries, whereas Astroquery has web service specific interfaces.  \n",
    "\n",
    "To use astroquery, we start with our same basic import functions we used for astropy:"
   ]
  },
  {
   "cell_type": "code",
   "execution_count": 1,
   "id": "ceef7c68",
   "metadata": {},
   "outputs": [],
   "source": [
    "import numpy as np\n",
    "import matplotlib.pyplot as plt\n",
    "%matplotlib inline"
   ]
  },
  {
   "cell_type": "markdown",
   "id": "698e2323",
   "metadata": {},
   "source": [
    "To these we add the astroquery import function"
   ]
  },
  {
   "cell_type": "code",
   "execution_count": 2,
   "id": "652887bf",
   "metadata": {},
   "outputs": [],
   "source": [
    "import astroquery"
   ]
  },
  {
   "cell_type": "markdown",
   "id": "00d43633",
   "metadata": {},
   "source": [
    "is the most basic import command.  But usually we want to import specific catalogues/servers from which astroquery will pull data.  E.g."
   ]
  },
  {
   "cell_type": "code",
   "execution_count": 3,
   "id": "38d21295",
   "metadata": {},
   "outputs": [],
   "source": [
    "from astroquery.simbad import Simbad #Simbad astronomical database\n",
    "from astroquery.vizier import Vizier #Vizier database"
   ]
  },
  {
   "cell_type": "markdown",
   "id": "fcd41187",
   "metadata": {},
   "source": [
    "Let's start with these two catalog queries. These are some that are the most common ones you will want to deal with.  What are they?\n",
    "\n",
    "* **Simbad** - SIMBAD (the Set of Identifications, Measurements and Bibliography for Astronomical Data) is an astronomical database of extrasolar objects beyond the Solar System.  [http://simbad.u-strasbg.fr/simbad/]()\n",
    "\n",
    "* **Vizier** - The VizieR Catalogue Service is an astronomical catalog service.   [https://vizier.cds.unistra.fr/viz-bin/VizieR]()\n",
    "\n",
    "The simplistic but helpful way of thinking about this is that Simbad will pull information for individual objects whereas Vizier details with different catalogues.  \n",
    "\n",
    "### Major Types of Queries\n",
    "\n",
    "There are multiple ways of querying these data sources for objects or data properties.   But two chief ones you will be interested in are ``query_object`` and ``query_region``.   The purpose of these are fairly straightforward to understand.   \n",
    "\n",
    "To run, do \n",
    "\n",
    "``variable=Simbad.query_object([object name])`` \n",
    "\n",
    "``variable=Simbad.query_region([coordinates],r=[radius])``\n",
    "\n",
    "etc.\n",
    "\n",
    "For ``query_object``, the [object name] simply needs to be in single or double quotes (i.e. that it is a string variable).\n",
    "\n",
    "You can then subscript the variable storing the query by keywords to extract parameters\n",
    "\n",
    "Below are some examples of basic queries of the Simbad and Vizier databases ..."
   ]
  },
  {
   "cell_type": "markdown",
   "id": "ddefda26",
   "metadata": {},
   "source": [
    "### Simbad"
   ]
  },
  {
   "cell_type": "code",
   "execution_count": 4,
   "id": "fb0f1063",
   "metadata": {},
   "outputs": [
    {
     "data": {
      "text/html": [
       "<div><i>Table length=1</i>\n",
       "<table id=\"table4615227088\" class=\"table-striped table-bordered table-condensed\">\n",
       "<thead><tr><th>MAIN_ID</th><th>RA</th><th>DEC</th><th>RA_PREC</th><th>DEC_PREC</th><th>COO_ERR_MAJA</th><th>COO_ERR_MINA</th><th>COO_ERR_ANGLE</th><th>COO_QUAL</th><th>COO_WAVELENGTH</th><th>COO_BIBCODE</th><th>SCRIPT_NUMBER_ID</th></tr></thead>\n",
       "<thead><tr><th></th><th>&quot;h:m:s&quot;</th><th>&quot;d:m:s&quot;</th><th></th><th></th><th>mas</th><th>mas</th><th>deg</th><th></th><th></th><th></th><th></th></tr></thead>\n",
       "<thead><tr><th>object</th><th>str13</th><th>str13</th><th>int16</th><th>int16</th><th>float32</th><th>float32</th><th>int16</th><th>str1</th><th>str1</th><th>object</th><th>int32</th></tr></thead>\n",
       "<tr><td>HD 218396</td><td>23 07 28.7157</td><td>+21 08 03.310</td><td>14</td><td>14</td><td>0.037</td><td>0.040</td><td>90</td><td>A</td><td>O</td><td>2020yCat.1350....0G</td><td>1</td></tr>\n",
       "</table></div>"
      ],
      "text/plain": [
       "<Table length=1>\n",
       " MAIN_ID        RA           DEC      RA_PREC DEC_PREC COO_ERR_MAJA ... COO_ERR_ANGLE COO_QUAL COO_WAVELENGTH     COO_BIBCODE     SCRIPT_NUMBER_ID\n",
       "             \"h:m:s\"       \"d:m:s\"                         mas      ...      deg                                                                  \n",
       "  object      str13         str13      int16   int16     float32    ...     int16       str1        str1             object            int32      \n",
       "--------- ------------- ------------- ------- -------- ------------ ... ------------- -------- -------------- ------------------- ----------------\n",
       "HD 218396 23 07 28.7157 +21 08 03.310      14       14        0.037 ...            90        A              O 2020yCat.1350....0G                1"
      ]
     },
     "execution_count": 4,
     "metadata": {},
     "output_type": "execute_result"
    }
   ],
   "source": [
    "#convert from coordinates in simbad to a coordinate object\n",
    "#c=coordinates.SkyCoord(Angle(var['RA']+' hours'),Angle(var['DEC'] + ' degrees'))\n",
    "\n",
    "#A Simple Query\n",
    "\n",
    "starname='hr8799'  #HR 8799\n",
    "result=Simbad.query_object(starname)\n",
    "result\n",
    "#result[0] #prints out the same thing here"
   ]
  },
  {
   "cell_type": "markdown",
   "id": "397e8e98",
   "metadata": {},
   "source": [
    "after querying Simbad for this object, you can then return specific values listed:"
   ]
  },
  {
   "cell_type": "code",
   "execution_count": 5,
   "id": "49bf900e",
   "metadata": {},
   "outputs": [
    {
     "data": {
      "text/plain": [
       "'2020yCat.1350....0G'"
      ]
     },
     "execution_count": 5,
     "metadata": {},
     "output_type": "execute_result"
    }
   ],
   "source": [
    "result['RA'][0] #result[0]['RA'] also works here.  it means you are selecting the 0th row of the 'RA' column\n",
    "#'23 07 28.7157'\n",
    "\n",
    "result['DEC'][0]\n",
    "#'+21 08 03.310'\n",
    "\n",
    "result['COO_BIBCODE'][0] #bibliography code"
   ]
  },
  {
   "cell_type": "markdown",
   "id": "f83334a9",
   "metadata": {},
   "source": [
    "Compare the information listed in ``result`` with a manual search for the same object on the Simbad webpage.   You will likely see that the webpage entry contains a lot more information missing in the table.  To be able to extract this information using astroquery, you need to add the variable in question to the possible fields.  \n",
    "\n",
    "To figure out the fields you can use, execute ``Simbad.list_votable_fields()``, which lists the possible table fields."
   ]
  },
  {
   "cell_type": "code",
   "execution_count": 6,
   "id": "7e6831db",
   "metadata": {},
   "outputs": [
    {
     "name": "stdout",
     "output_type": "stream",
     "text": [
      "--NOTES--\n",
      "\n",
      "1. The parameter filtername must correspond to an existing filter. Filters include: B,V,R,I,J,K.  They are checked by SIMBAD but not astroquery.simbad\n",
      "\n",
      "2. Fields beginning with rvz display the data as it is in the database. Fields beginning with rv force the display as a radial velocity. Fields beginning with z force the display as a redshift\n",
      "\n",
      "3. For each measurement catalog, the VOTable contains all fields of the first measurement. When applicable, the first measurement is the mean one. \n",
      "\n",
      "Available VOTABLE fields:\n",
      "\n",
      "bibcodelist(y1-y2)\n",
      "biblio\n",
      "cel\n",
      "cl.g\n",
      "coo(opt)\n",
      "coo_bibcode\n",
      "coo_err_angle\n",
      "coo_err_maja\n",
      "coo_err_mina\n",
      "coo_qual\n",
      "coo_wavelength\n",
      "coordinates\n",
      "dec(opt)\n",
      "dec_prec\n",
      "diameter\n",
      "dim\n",
      "dim_angle\n",
      "dim_bibcode\n",
      "dim_incl\n",
      "dim_majaxis\n",
      "dim_minaxis\n",
      "dim_qual\n",
      "dim_wavelength\n",
      "dimensions\n",
      "distance\n",
      "distance_result\n",
      "einstein\n",
      "fe_h\n",
      "flux(filtername)\n",
      "flux_bibcode(filtername)\n",
      "flux_error(filtername)\n",
      "flux_name(filtername)\n",
      "flux_qual(filtername)\n",
      "flux_system(filtername)\n",
      "flux_unit(filtername)\n",
      "fluxdata(filtername)\n",
      "gcrv\n",
      "gen\n",
      "gj\n",
      "hbet\n",
      "hbet1\n",
      "hgam\n",
      "id(opt)\n",
      "ids\n",
      "iras\n",
      "irc\n",
      "iso\n",
      "iue\n",
      "jp11\n",
      "link_bibcode\n",
      "main_id\n",
      "measurements\n",
      "membership\n",
      "mesplx\n",
      "mespm\n",
      "mk\n",
      "morphtype\n",
      "mt\n",
      "mt_bibcode\n",
      "mt_qual\n",
      "otype\n",
      "otype(opt)\n",
      "otypes\n",
      "parallax\n",
      "plx\n",
      "plx_bibcode\n",
      "plx_error\n",
      "plx_prec\n",
      "plx_qual\n",
      "pm\n",
      "pm_bibcode\n",
      "pm_err_angle\n",
      "pm_err_maja\n",
      "pm_err_mina\n",
      "pm_qual\n",
      "pmdec\n",
      "pmdec_prec\n",
      "pmra\n",
      "pmra_prec\n",
      "pos\n",
      "posa\n",
      "propermotions\n",
      "ra(opt)\n",
      "ra_prec\n",
      "rot\n",
      "rv_value\n",
      "rvz_bibcode\n",
      "rvz_error\n",
      "rvz_qual\n",
      "rvz_radvel\n",
      "rvz_type\n",
      "rvz_wavelength\n",
      "sao\n",
      "sp\n",
      "sp_bibcode\n",
      "sp_nature\n",
      "sp_qual\n",
      "sptype\n",
      "td1\n",
      "typed_id\n",
      "ubv\n",
      "uvby\n",
      "uvby1\n",
      "v*\n",
      "velocity\n",
      "xmm\n",
      "z_value\n",
      "For more information on a field:\n",
      "Simbad.get_field_description ('field_name') \n",
      "Currently active VOTABLE fields:\n",
      " ['main_id', 'coordinates']\n"
     ]
    }
   ],
   "source": [
    "Simbad.list_votable_fields()"
   ]
  },
  {
   "cell_type": "markdown",
   "id": "267c3d90",
   "metadata": {},
   "source": [
    "You can then add fields using ``Simbad.add_votable_fields([field name])``.    Here are examples ..."
   ]
  },
  {
   "cell_type": "code",
   "execution_count": 7,
   "id": "9bc540b1",
   "metadata": {},
   "outputs": [],
   "source": [
    "Simbad.add_votable_fields('flux(J)','flux(H)','flux(K)') #adds J, H, and K band photometry from 2MASS\n",
    "Simbad.add_votable_fields('sp') #adds the spectral type\n"
   ]
  },
  {
   "cell_type": "markdown",
   "id": "87885d99",
   "metadata": {},
   "source": [
    "Then the revised query looks like the following ..."
   ]
  },
  {
   "cell_type": "code",
   "execution_count": 8,
   "id": "f5779c73",
   "metadata": {},
   "outputs": [
    {
     "data": {
      "text/html": [
       "<div><i>Table length=1</i>\n",
       "<table id=\"table4615239712\" class=\"table-striped table-bordered table-condensed\">\n",
       "<thead><tr><th>MAIN_ID</th><th>RA</th><th>DEC</th><th>RA_PREC</th><th>DEC_PREC</th><th>COO_ERR_MAJA</th><th>COO_ERR_MINA</th><th>COO_ERR_ANGLE</th><th>COO_QUAL</th><th>COO_WAVELENGTH</th><th>COO_BIBCODE</th><th>FLUX_J</th><th>FLUX_H</th><th>FLUX_K</th><th>SP_TYPE</th><th>SCRIPT_NUMBER_ID</th></tr></thead>\n",
       "<thead><tr><th></th><th>&quot;h:m:s&quot;</th><th>&quot;d:m:s&quot;</th><th></th><th></th><th>mas</th><th>mas</th><th>deg</th><th></th><th></th><th></th><th>mag</th><th>mag</th><th>mag</th><th></th><th></th></tr></thead>\n",
       "<thead><tr><th>object</th><th>str13</th><th>str13</th><th>int16</th><th>int16</th><th>float32</th><th>float32</th><th>int16</th><th>str1</th><th>str1</th><th>object</th><th>float32</th><th>float32</th><th>float32</th><th>object</th><th>int32</th></tr></thead>\n",
       "<tr><td>HD 218396</td><td>23 07 28.7157</td><td>+21 08 03.310</td><td>14</td><td>14</td><td>0.037</td><td>0.040</td><td>90</td><td>A</td><td>O</td><td>2020yCat.1350....0G</td><td>5.383</td><td>5.28</td><td>5.24</td><td>F0+VkA5mA5</td><td>1</td></tr>\n",
       "</table></div>"
      ],
      "text/plain": [
       "<Table length=1>\n",
       " MAIN_ID        RA           DEC      RA_PREC DEC_PREC COO_ERR_MAJA ...     COO_BIBCODE      FLUX_J  FLUX_H  FLUX_K  SP_TYPE   SCRIPT_NUMBER_ID\n",
       "             \"h:m:s\"       \"d:m:s\"                         mas      ...                       mag     mag     mag                              \n",
       "  object      str13         str13      int16   int16     float32    ...        object       float32 float32 float32   object        int32      \n",
       "--------- ------------- ------------- ------- -------- ------------ ... ------------------- ------- ------- ------- ---------- ----------------\n",
       "HD 218396 23 07 28.7157 +21 08 03.310      14       14        0.037 ... 2020yCat.1350....0G   5.383    5.28    5.24 F0+VkA5mA5                1"
      ]
     },
     "execution_count": 8,
     "metadata": {},
     "output_type": "execute_result"
    }
   ],
   "source": [
    "result=Simbad.query_object(starname)\n",
    "result"
   ]
  },
  {
   "cell_type": "markdown",
   "id": "f089e548",
   "metadata": {},
   "source": [
    "See that we've now added the four columns.    We can extract their values.  But first we need to know the names of teh columns to extract.  The mapping from the strings contained in \"add votable fields\" to the metadata for the table sometimes isn't one to one.  \n",
    "\n",
    "Thankfully, you can see the names of the columns and then figure out which one corresponds to which intended field that you added.  See below ..."
   ]
  },
  {
   "cell_type": "code",
   "execution_count": 63,
   "id": "d7758555",
   "metadata": {},
   "outputs": [
    {
     "data": {
      "text/plain": [
       "['MAIN_ID',\n",
       " 'RA',\n",
       " 'DEC',\n",
       " 'RA_PREC',\n",
       " 'DEC_PREC',\n",
       " 'COO_ERR_MAJA',\n",
       " 'COO_ERR_MINA',\n",
       " 'COO_ERR_ANGLE',\n",
       " 'COO_QUAL',\n",
       " 'COO_WAVELENGTH',\n",
       " 'COO_BIBCODE',\n",
       " 'FLUX_J',\n",
       " 'FLUX_H',\n",
       " 'FLUX_K',\n",
       " 'SP_TYPE',\n",
       " 'SCRIPT_NUMBER_ID']"
      ]
     },
     "execution_count": 63,
     "metadata": {},
     "output_type": "execute_result"
    }
   ],
   "source": [
    "result[0].colnames"
   ]
  },
  {
   "cell_type": "markdown",
   "id": "dbc82a88",
   "metadata": {},
   "source": [
    "So, \"Flux J\" is the J band magnitude that we added as a votable field, etc etc.\n",
    "\n",
    "Now, we can extract values"
   ]
  },
  {
   "cell_type": "code",
   "execution_count": 9,
   "id": "9940577d",
   "metadata": {},
   "outputs": [
    {
     "name": "stdout",
     "output_type": "stream",
     "text": [
      "5.383 5.28 5.24\n",
      "F0+VkA5mA5\n"
     ]
    }
   ],
   "source": [
    "spt=result['SP_TYPE'][0]\n",
    "#spt #'F0+VkA5mA5'\n",
    "\n",
    "jmag=result['FLUX_J'][0]\n",
    "hmag=result['FLUX_H'][0]\n",
    "kmag=result['FLUX_K'][0]\n",
    "\n",
    "print(jmag,hmag,kmag)\n",
    "print(spt)"
   ]
  },
  {
   "cell_type": "markdown",
   "id": "d234e6ad",
   "metadata": {},
   "source": [
    "The coordinate query returns strings for right ascension and declination.  With a bit of trickery you can turn this into a coordinate object in Astropy and save in units of degrees ..."
   ]
  },
  {
   "cell_type": "code",
   "execution_count": 10,
   "id": "fd4c92c1",
   "metadata": {},
   "outputs": [
    {
     "name": "stdout",
     "output_type": "stream",
     "text": [
      "<SkyCoord (ICRS): (ra, dec) in deg\n",
      "    (346.86964875, 21.13425278)>\n",
      "346d52m10.7355s\n",
      "21d08m03.31s\n"
     ]
    }
   ],
   "source": [
    "\n",
    "import astropy.units as u\n",
    "from astropy import coordinates \n",
    "from astropy.coordinates import SkyCoord\n",
    "from astropy.coordinates import Angle\n",
    "\n",
    "ra=result['RA'][0]\n",
    "dec=result['DEC'][0]\n",
    "\n",
    "c=coordinates.SkyCoord(Angle(ra +' hours'),Angle(dec + ' degrees'))\n",
    "\n",
    "print(c)\n",
    "print(c.ra)\n",
    "print(c.dec)"
   ]
  },
  {
   "cell_type": "markdown",
   "id": "d6f36c2b",
   "metadata": {},
   "source": [
    "For a coordinate query, you are searching for objects around your target within some radius"
   ]
  },
  {
   "cell_type": "code",
   "execution_count": 60,
   "id": "6082ee23",
   "metadata": {},
   "outputs": [
    {
     "data": {
      "text/html": [
       "<div><i>Table length=26</i>\n",
       "<table id=\"table4834132848\" class=\"table-striped table-bordered table-condensed\">\n",
       "<thead><tr><th>MAIN_ID</th><th>RA</th><th>DEC</th><th>RA_PREC</th><th>DEC_PREC</th><th>COO_ERR_MAJA</th><th>COO_ERR_MINA</th><th>COO_ERR_ANGLE</th><th>COO_QUAL</th><th>COO_WAVELENGTH</th><th>COO_BIBCODE</th><th>FLUX_J</th><th>FLUX_H</th><th>FLUX_K</th><th>SP_TYPE</th><th>SCRIPT_NUMBER_ID</th></tr></thead>\n",
       "<thead><tr><th></th><th>&quot;h:m:s&quot;</th><th>&quot;d:m:s&quot;</th><th></th><th></th><th>mas</th><th>mas</th><th>deg</th><th></th><th></th><th></th><th>mag</th><th>mag</th><th>mag</th><th></th><th></th></tr></thead>\n",
       "<thead><tr><th>object</th><th>str13</th><th>str13</th><th>int16</th><th>int16</th><th>float32</th><th>float32</th><th>int16</th><th>str1</th><th>str1</th><th>object</th><th>float32</th><th>float32</th><th>float32</th><th>object</th><th>int32</th></tr></thead>\n",
       "<tr><td>HD 218396c</td><td>23 07 28.7157</td><td>+21 08 03.310</td><td>14</td><td>14</td><td>0.037</td><td>0.040</td><td>90</td><td>A</td><td>O</td><td>2020yCat.1350....0G</td><td>--</td><td>--</td><td>--</td><td></td><td>1</td></tr>\n",
       "<tr><td>HD 218396e</td><td>23 07 28.7157</td><td>+21 08 03.310</td><td>14</td><td>14</td><td>0.037</td><td>0.040</td><td>90</td><td>A</td><td>O</td><td>2020yCat.1350....0G</td><td>--</td><td>--</td><td>--</td><td></td><td>1</td></tr>\n",
       "<tr><td>HD 218396d</td><td>23 07 28.7157</td><td>+21 08 03.310</td><td>14</td><td>14</td><td>0.037</td><td>0.040</td><td>90</td><td>A</td><td>O</td><td>2020yCat.1350....0G</td><td>--</td><td>--</td><td>--</td><td></td><td>1</td></tr>\n",
       "<tr><td>HD 218396f</td><td>23 07 28.7157</td><td>+21 08 03.310</td><td>14</td><td>14</td><td>0.037</td><td>0.040</td><td>90</td><td>A</td><td>O</td><td>2020yCat.1350....0G</td><td>--</td><td>--</td><td>--</td><td></td><td>1</td></tr>\n",
       "<tr><td>HD 218396b</td><td>23 07 28.7157</td><td>+21 08 03.310</td><td>14</td><td>14</td><td>0.037</td><td>0.040</td><td>90</td><td>A</td><td>O</td><td>2020yCat.1350....0G</td><td>--</td><td>--</td><td>--</td><td></td><td>1</td></tr>\n",
       "<tr><td>HD 218396</td><td>23 07 28.7157</td><td>+21 08 03.310</td><td>14</td><td>14</td><td>0.037</td><td>0.040</td><td>90</td><td>A</td><td>O</td><td>2020yCat.1350....0G</td><td>5.383</td><td>5.28</td><td>5.24</td><td>F0+VkA5mA5</td><td>1</td></tr>\n",
       "<tr><td>TYC 1718-851-1</td><td>23 07 24.5842</td><td>+21 08 01.068</td><td>14</td><td>14</td><td>0.013</td><td>0.013</td><td>90</td><td>A</td><td>O</td><td>2020yCat.1350....0G</td><td>7.574</td><td>6.975</td><td>6.843</td><td>G0</td><td>1</td></tr>\n",
       "<tr><td>SDSS J230725.90+210459.0</td><td>23 07 25.9082</td><td>+21 04 59.093</td><td>14</td><td>14</td><td>0.029</td><td>0.032</td><td>90</td><td>A</td><td>O</td><td>2020yCat.1350....0G</td><td>15.071</td><td>14.842</td><td>14.929</td><td></td><td>1</td></tr>\n",
       "<tr><td>2MASS J23072914+2112041</td><td>23 07 29.1381</td><td>+21 12 03.993</td><td>14</td><td>14</td><td>0.057</td><td>0.055</td><td>90</td><td>A</td><td>O</td><td>2020yCat.1350....0G</td><td>14.867</td><td>14.05</td><td>13.981</td><td>M0V</td><td>1</td></tr>\n",
       "<tr><td>USNO-B1.0 1110-00590705</td><td>23 07 16.698</td><td>+21 05 09.22</td><td>7</td><td>7</td><td>--</td><td>--</td><td>0</td><td>C</td><td>O</td><td>2009ApJS..182..543A</td><td>--</td><td>--</td><td>--</td><td></td><td>1</td></tr>\n",
       "<tr><td>SDSS J230733.13+211315.1</td><td>23 07 33.137</td><td>+21 13 15.15</td><td>7</td><td>7</td><td>--</td><td>--</td><td>0</td><td>C</td><td>O</td><td>2018A&amp;A...613A..51P</td><td>--</td><td>--</td><td>--</td><td></td><td>1</td></tr>\n",
       "<tr><td>LP  461-59</td><td>23 07 12.4470</td><td>+21 04 07.197</td><td>14</td><td>14</td><td>0.012</td><td>0.013</td><td>90</td><td>A</td><td>O</td><td>2020yCat.1350....0G</td><td>10.631</td><td>10.009</td><td>9.818</td><td></td><td>1</td></tr>\n",
       "<tr><td>SDSS J230751.89+210526.7</td><td>23 07 51.8966</td><td>+21 05 26.730</td><td>14</td><td>14</td><td>2.790</td><td>1.549</td><td>90</td><td>C</td><td>O</td><td>2020yCat.1350....0G</td><td>--</td><td>--</td><td>--</td><td></td><td>1</td></tr>\n",
       "<tr><td>Gaia DR3 2832476785060353280</td><td>23 07 10.8108</td><td>+21 12 28.470</td><td>14</td><td>14</td><td>0.036</td><td>0.039</td><td>90</td><td>A</td><td>O</td><td>2020yCat.1350....0G</td><td>--</td><td>--</td><td>--</td><td></td><td>1</td></tr>\n",
       "<tr><td>Gaia DR3 2832476819420749952</td><td>23 07 13.7650</td><td>+21 13 03.761</td><td>14</td><td>14</td><td>1.441</td><td>1.492</td><td>90</td><td>C</td><td>O</td><td>2020yCat.1350....0G</td><td>--</td><td>--</td><td>--</td><td></td><td>1</td></tr>\n",
       "<tr><td>SDSS J230715.71+210218.2</td><td>23 07 15.7208</td><td>+21 02 18.326</td><td>14</td><td>14</td><td>0.453</td><td>0.479</td><td>90</td><td>A</td><td>O</td><td>2020yCat.1350....0G</td><td>--</td><td>--</td><td>--</td><td></td><td>1</td></tr>\n",
       "<tr><td>AGC 335932</td><td>23 07 28.9</td><td>+21 16 14</td><td>5</td><td>5</td><td>--</td><td>--</td><td>0</td><td>D</td><td>O</td><td>2018ApJ...861...49H</td><td>--</td><td>--</td><td>--</td><td></td><td>1</td></tr>\n",
       "<tr><td>SDSS J230719.19+211610.8</td><td>23 07 19.194</td><td>+21 16 10.89</td><td>7</td><td>7</td><td>--</td><td>--</td><td>0</td><td>C</td><td>O</td><td>2018A&amp;A...613A..51P</td><td>--</td><td>--</td><td>--</td><td></td><td>1</td></tr>\n",
       "<tr><td>Gaia DR3 2838481939614288128</td><td>23 07 12.1607</td><td>+21 15 44.715</td><td>14</td><td>14</td><td>2.026</td><td>1.979</td><td>90</td><td>C</td><td>O</td><td>2020yCat.1350....0G</td><td>--</td><td>--</td><td>--</td><td></td><td>1</td></tr>\n",
       "<tr><td>PGCC G092.59-35.55</td><td>23 06.9</td><td>+21 05</td><td>3</td><td>3</td><td>--</td><td>--</td><td>0</td><td>E</td><td>R</td><td>2015ApJ...811..118R</td><td>--</td><td>--</td><td>--</td><td></td><td>1</td></tr>\n",
       "<tr><td>SDSS J230728.66+205905.7</td><td>23 07 28.6648</td><td>+20 59 05.753</td><td>14</td><td>14</td><td>25.452</td><td>9.125</td><td>90</td><td>C</td><td>O</td><td>2020yCat.1350....0G</td><td>--</td><td>--</td><td>--</td><td></td><td>1</td></tr>\n",
       "<tr><td>Gaia DR3 2838464587946419840</td><td>23 08 08.9199</td><td>+21 07 13.321</td><td>14</td><td>14</td><td>0.029</td><td>0.026</td><td>90</td><td>A</td><td>O</td><td>2020yCat.1350....0G</td><td>--</td><td>--</td><td>--</td><td></td><td>1</td></tr>\n",
       "<tr><td>SDSS J230747.30+211639.5</td><td>23 07 47.3094</td><td>+21 16 39.510</td><td>14</td><td>14</td><td>3.017</td><td>5.178</td><td>90</td><td>C</td><td>O</td><td>2020yCat.1350....0G</td><td>--</td><td>--</td><td>--</td><td></td><td>1</td></tr>\n",
       "<tr><td>SDSS J230658.31+211435.6</td><td>23 06 58.3147</td><td>+21 14 35.617</td><td>14</td><td>14</td><td>0.238</td><td>0.260</td><td>90</td><td>A</td><td>O</td><td>2020yCat.1350....0G</td><td>--</td><td>--</td><td>--</td><td></td><td>1</td></tr>\n",
       "<tr><td>SDSS J230710.33+205917.2</td><td>23 07 10.3376</td><td>+20 59 17.361</td><td>14</td><td>14</td><td>0.715</td><td>0.805</td><td>90</td><td>A</td><td>O</td><td>2020yCat.1350....0G</td><td>--</td><td>--</td><td>--</td><td></td><td>1</td></tr>\n",
       "<tr><td>TYC 1718-21-1</td><td>23 06 59.5219</td><td>+21 00 49.229</td><td>14</td><td>14</td><td>0.011</td><td>0.012</td><td>90</td><td>A</td><td>O</td><td>2020yCat.1350....0G</td><td>8.814</td><td>8.234</td><td>8.063</td><td></td><td>1</td></tr>\n",
       "</table></div>"
      ],
      "text/plain": [
       "<Table length=26>\n",
       "          MAIN_ID                  RA           DEC      RA_PREC DEC_PREC COO_ERR_MAJA ...  FLUX_J  FLUX_H  FLUX_K  SP_TYPE   SCRIPT_NUMBER_ID\n",
       "                                \"h:m:s\"       \"d:m:s\"                         mas      ...   mag     mag     mag                              \n",
       "           object                str13         str13      int16   int16     float32    ... float32 float32 float32   object        int32      \n",
       "---------------------------- ------------- ------------- ------- -------- ------------ ... ------- ------- ------- ---------- ----------------\n",
       "                  HD 218396c 23 07 28.7157 +21 08 03.310      14       14        0.037 ...      --      --      --                           1\n",
       "                  HD 218396e 23 07 28.7157 +21 08 03.310      14       14        0.037 ...      --      --      --                           1\n",
       "                  HD 218396d 23 07 28.7157 +21 08 03.310      14       14        0.037 ...      --      --      --                           1\n",
       "                  HD 218396f 23 07 28.7157 +21 08 03.310      14       14        0.037 ...      --      --      --                           1\n",
       "                  HD 218396b 23 07 28.7157 +21 08 03.310      14       14        0.037 ...      --      --      --                           1\n",
       "                   HD 218396 23 07 28.7157 +21 08 03.310      14       14        0.037 ...   5.383    5.28    5.24 F0+VkA5mA5                1\n",
       "              TYC 1718-851-1 23 07 24.5842 +21 08 01.068      14       14        0.013 ...   7.574   6.975   6.843         G0                1\n",
       "    SDSS J230725.90+210459.0 23 07 25.9082 +21 04 59.093      14       14        0.029 ...  15.071  14.842  14.929                           1\n",
       "     2MASS J23072914+2112041 23 07 29.1381 +21 12 03.993      14       14        0.057 ...  14.867   14.05  13.981        M0V                1\n",
       "     USNO-B1.0 1110-00590705  23 07 16.698  +21 05 09.22       7        7           -- ...      --      --      --                           1\n",
       "    SDSS J230733.13+211315.1  23 07 33.137  +21 13 15.15       7        7           -- ...      --      --      --                           1\n",
       "                  LP  461-59 23 07 12.4470 +21 04 07.197      14       14        0.012 ...  10.631  10.009   9.818                           1\n",
       "    SDSS J230751.89+210526.7 23 07 51.8966 +21 05 26.730      14       14        2.790 ...      --      --      --                           1\n",
       "Gaia DR3 2832476785060353280 23 07 10.8108 +21 12 28.470      14       14        0.036 ...      --      --      --                           1\n",
       "Gaia DR3 2832476819420749952 23 07 13.7650 +21 13 03.761      14       14        1.441 ...      --      --      --                           1\n",
       "    SDSS J230715.71+210218.2 23 07 15.7208 +21 02 18.326      14       14        0.453 ...      --      --      --                           1\n",
       "                  AGC 335932    23 07 28.9     +21 16 14       5        5           -- ...      --      --      --                           1\n",
       "    SDSS J230719.19+211610.8  23 07 19.194  +21 16 10.89       7        7           -- ...      --      --      --                           1\n",
       "Gaia DR3 2838481939614288128 23 07 12.1607 +21 15 44.715      14       14        2.026 ...      --      --      --                           1\n",
       "          PGCC G092.59-35.55       23 06.9        +21 05       3        3           -- ...      --      --      --                           1\n",
       "    SDSS J230728.66+205905.7 23 07 28.6648 +20 59 05.753      14       14       25.452 ...      --      --      --                           1\n",
       "Gaia DR3 2838464587946419840 23 08 08.9199 +21 07 13.321      14       14        0.029 ...      --      --      --                           1\n",
       "    SDSS J230747.30+211639.5 23 07 47.3094 +21 16 39.510      14       14        3.017 ...      --      --      --                           1\n",
       "    SDSS J230658.31+211435.6 23 06 58.3147 +21 14 35.617      14       14        0.238 ...      --      --      --                           1\n",
       "    SDSS J230710.33+205917.2 23 07 10.3376 +20 59 17.361      14       14        0.715 ...      --      --      --                           1\n",
       "               TYC 1718-21-1 23 06 59.5219 +21 00 49.229      14       14        0.011 ...   8.814   8.234   8.063                           1"
      ]
     },
     "execution_count": 60,
     "metadata": {},
     "output_type": "execute_result"
    }
   ],
   "source": [
    "result2=Simbad.query_region(c,radius=10*u.arcminute)\n",
    "result2"
   ]
  },
  {
   "cell_type": "markdown",
   "id": "8fbbf2fa",
   "metadata": {},
   "source": [
    "Now see that we have a lot more entries as we are searching for everything within a few arc-minutes.  To select out targets you do index slicing ..."
   ]
  },
  {
   "cell_type": "code",
   "execution_count": 89,
   "id": "e9d1ce2d",
   "metadata": {},
   "outputs": [
    {
     "name": "stdout",
     "output_type": "stream",
     "text": [
      "Gaia DR3 2832476819420749952\n",
      "FLUX_J\n",
      " mag  \n",
      "------\n",
      "    --\n",
      "    --\n",
      "    --\n",
      "    --\n",
      "    --\n",
      " 5.383\n",
      " 7.574\n",
      "15.071\n",
      "14.867\n",
      "    --\n",
      "    --\n",
      "10.631\n",
      "    --\n",
      "    --\n",
      "    --\n",
      "    --\n",
      "    --\n",
      "    --\n",
      "    --\n",
      "    --\n",
      "    --\n",
      "    --\n",
      "    --\n",
      "23\n"
     ]
    }
   ],
   "source": [
    "name_result2=result2['MAIN_ID'][14]\n",
    "print(name_result2)\n",
    "\n",
    "jmag_result2=result2['FLUX_J'][0:23]\n",
    "print(jmag_result2)\n",
    "print(len(jmag_result2))"
   ]
  },
  {
   "cell_type": "markdown",
   "id": "36b0d2d4",
   "metadata": {},
   "source": [
    "### Vizier\n",
    "\n",
    "\n",
    "The simplest form of a Vizier query involves searching for data for a given object within a catalogue, searchable either on the object name itself or around its coordinates.  Here are some examples"
   ]
  },
  {
   "cell_type": "code",
   "execution_count": 77,
   "id": "e7cf73dc",
   "metadata": {},
   "outputs": [
    {
     "name": "stderr",
     "output_type": "stream",
     "text": [
      "WARNING: UnitsWarning: The unit 'a' has been deprecated in the VOUnit standard. Suggested: 365.25d. [astropy.units.format.utils]\n",
      "WARNING: UnitsWarning: The unit 'pix' has been deprecated in the VOUnit standard. [astropy.units.format.utils]\n",
      "WARNING: UnitsWarning: The unit 'ct' has been deprecated in the VOUnit standard. [astropy.units.format.utils]\n",
      "WARNING: UnitsWarning: Unit 'Sun' not supported by the VOUnit standard. Did you mean uN? [astropy.units.format.vounit]\n",
      "WARNING: UnitsWarning: Unit 'al' not supported by the VOUnit standard. Did you mean alm or alx? [astropy.units.format.vounit]\n",
      "WARNING: UnitsWarning: Unit 'pct' not supported by the VOUnit standard. Did you mean 1e+15count, PC, PT, Pct (deprecated), pC, pT or pc? [astropy.units.format.vounit]\n",
      "WARNING: UnitsWarning: The unit 'au' has been deprecated in the VOUnit standard. Suggested: 1.4959787e+11m. [astropy.units.format.utils]\n",
      "WARNING: UnitsWarning: Unit 'x' not supported by the VOUnit standard.  [astropy.units.format.vounit]\n",
      "WARNING: UnitsWarning: Unit 'Mjup' not supported by the VOUnit standard.  [astropy.units.format.vounit]\n"
     ]
    },
    {
     "data": {
      "text/plain": [
       "TableList with 331 tables:\n",
       "\t'0:I/34/greenw2a' with 16 column(s) and 1 row(s) \n",
       "\t'1:I/34/greenw2b' with 17 column(s) and 1 row(s) \n",
       "\t'2:I/45/catalog' with 12 column(s) and 1 row(s) \n",
       "\t'3:I/61B/agk3' with 15 column(s) and 1 row(s) \n",
       "\t'4:I/100A/w50' with 9 column(s) and 1 row(s) \n",
       "\t'5:I/113A/catalog' with 10 column(s) and 1 row(s) \n",
       "\t'6:I/122/bd' with 9 column(s) and 1 row(s) \n",
       "\t'7:I/131A/sao' with 11 column(s) and 1 row(s) \n",
       "\t'8:I/146/ppm1' with 12 column(s) and 1 row(s) \n",
       "\t'9:I/171/acrs1' with 14 column(s) and 1 row(s) \n",
       "\t'10:I/182/pacp4' with 7 column(s) and 1 row(s) \n",
       "\t'11:I/196/main' with 14 column(s) and 1 row(s) \n",
       "\t'12:I/196/annex1' with 10 column(s) and 2 row(s) \n",
       "\t'13:I/197A/tic' with 10 column(s) and 1 row(s) \n",
       "\t'14:I/238A/picat' with 15 column(s) and 1 row(s) \n",
       "\t'15:I/239/hip_main' with 14 column(s) and 1 row(s) \n",
       "\t'16:I/239/tyc_main' with 11 column(s) and 1 row(s) \n",
       "\t'17:I/246/act' with 8 column(s) and 1 row(s) \n",
       "\t'18:I/250/catalog' with 10 column(s) and 1 row(s) \n",
       "\t'19:I/252/out' with 8 column(s) and 25 row(s) \n",
       "\t'20:I/254/out' with 10 column(s) and 3 row(s) \n",
       "\t'21:I/255/out' with 9 column(s) and 3 row(s) \n",
       "\t'22:I/256/stars' with 9 column(s) and 1 row(s) \n",
       "\t'23:I/256/varpos' with 9 column(s) and 1 row(s) \n",
       "\t'24:I/259/tyc2' with 10 column(s) and 1 row(s) \n",
       "\t'25:I/260/ccdmhipn' with 11 column(s) and 2 row(s) \n",
       "\t'26:I/270/cpirss01' with 8 column(s) and 1 row(s) \n",
       "\t'27:I/271/out' with 11 column(s) and 50 row(s) \n",
       "\t'28:I/274/ccdm' with 13 column(s) and 2 row(s) \n",
       "\t'29:I/275/ac2002' with 9 column(s) and 3 row(s) \n",
       "\t'30:I/276/catalog' with 15 column(s) and 1 row(s) \n",
       "\t'31:I/280B/ascc' with 12 column(s) and 1 row(s) \n",
       "\t'32:I/283A/npm2' with 11 column(s) and 1 row(s) \n",
       "\t'33:I/284/out' with 14 column(s) and 43 row(s) \n",
       "\t'34:I/289/out' with 13 column(s) and 10 row(s) \n",
       "\t'35:I/294A/ucac2bss' with 12 column(s) and 1 row(s) \n",
       "\t'36:I/297/out' with 19 column(s) and 50 row(s) \n",
       "\t'37:I/304/out' with 9 column(s) and 50 row(s) \n",
       "\t'38:I/305/out' with 11 column(s) and 50 row(s) \n",
       "\t'39:I/306A/stars' with 20 column(s) and 4 row(s) \n",
       "\t'40:I/311/hip2' with 13 column(s) and 1 row(s) \n",
       "\t'41:I/312/sample' with 13 column(s) and 5 row(s) \n",
       "\t'42:I/317/sample' with 13 column(s) and 35 row(s) \n",
       "\t'43:I/319/xpm' with 25 column(s) and 20 row(s) \n",
       "\t'44:I/322A/out' with 24 column(s) and 50 row(s) \n",
       "\t'45:I/324/igsl3' with 18 column(s) and 50 row(s) \n",
       "\t'46:I/327/cmc15' with 9 column(s) and 50 row(s) \n",
       "\t'47:I/328/table1' with 17 column(s) and 1 row(s) \n",
       "\t'48:I/329/urat1' with 16 column(s) and 50 row(s) \n",
       "\t'49:I/333/upc' with 20 column(s) and 1 row(s) \n",
       "\t'50:I/337/gaia' with 14 column(s) and 50 row(s) \n",
       "\t'51:I/339/hsoy' with 18 column(s) and 27 row(s) \n",
       "\t'52:I/340/ucac5' with 20 column(s) and 50 row(s) \n",
       "\t'53:I/342/f3' with 18 column(s) and 8 row(s) \n",
       "\t'54:I/345/gaia2' with 32 column(s) and 50 row(s) \n",
       "\t'55:I/347/gaia2dis' with 9 column(s) and 50 row(s) \n",
       "\t'56:I/348/catalog' with 35 column(s) and 2 row(s) \n",
       "\t'57:I/349/starhorse' with 19 column(s) and 50 row(s) \n",
       "\t'58:I/350/gaiaedr3' with 39 column(s) and 50 row(s) \n",
       "\t'59:I/350/tyc2tdsc' with 16 column(s) and 1 row(s) \n",
       "\t'60:I/350/comscanl' with 13 column(s) and 1 row(s) \n",
       "\t'61:I/351/gps1_p' with 22 column(s) and 45 row(s) \n",
       "\t'62:I/352/gedr3dis' with 10 column(s) and 50 row(s) \n",
       "\t'63:I/353/gsc242' with 35 column(s) and 50 row(s) \n",
       "\t'64:I/354/starhorse2021' with 20 column(s) and 50 row(s) \n",
       "\t'65:I/355/gaiadr3' with 57 column(s) and 50 row(s) \n",
       "\t'66:I/355/paramp' with 24 column(s) and 50 row(s) \n",
       "\t'67:I/355/paramsup' with 24 column(s) and 50 row(s) \n",
       "\t'68:I/355/epphot' with 48 column(s) and 50 row(s) \n",
       "\t'69:I/355/xpsummary' with 22 column(s) and 50 row(s) \n",
       "\t'70:I/355/xpsample' with 6 column(s) and 50 row(s) \n",
       "\t'71:I/355/xpcont' with 26 column(s) and 50 row(s) \n",
       "\t'72:I/355/spectra' with 5 column(s) and 13 row(s) \n",
       "\t'73:I/356/qsocand' with 10 column(s) and 1 row(s) \n",
       "\t'74:I/358/varisum' with 24 column(s) and 4 row(s) \n",
       "\t'75:I/358/vclassre' with 8 column(s) and 4 row(s) \n",
       "\t'76:I/358/veb' with 27 column(s) and 2 row(s) \n",
       "\t'77:I/360/goldf' with 25 column(s) and 1 row(s) \n",
       "\t'78:I/360/goldoba' with 6 column(s) and 2 row(s) \n",
       "\t'79:I/360/syntphot' with 5 column(s) and 50 row(s) \n",
       "\t'80:II/5A/data' with 10 column(s) and 1 row(s) \n",
       "\t'81:II/6/catalog' with 31 column(s) and 1 row(s) \n",
       "\t'82:II/7A/catalog' with 17 column(s) and 1 row(s) \n",
       "\t'83:II/8/mean' with 12 column(s) and 1 row(s) \n",
       "\t'84:II/26A/catalog' with 20 column(s) and 1 row(s) \n",
       "\t'85:II/38/ph18' with 20 column(s) and 1 row(s) \n",
       "\t'86:II/38/ph31' with 10 column(s) and 1 row(s) \n",
       "\t'87:II/59B/catalog' with 20 column(s) and 1 row(s) \n",
       "\t'88:II/62/catalog' with 14 column(s) and 1 row(s) \n",
       "\t'89:II/84/catalog' with 23 column(s) and 1 row(s) \n",
       "\t'90:II/122B/merged' with 12 column(s) and 8 row(s) \n",
       "\t'91:II/125/main' with 13 column(s) and 2 row(s) \n",
       "\t'92:II/157A/catalog' with 10 column(s) and 2 row(s) \n",
       "\t'93:II/167/catalog' with 8 column(s) and 2 row(s) \n",
       "\t'94:II/168/ubvmeans' with 15 column(s) and 1 row(s) \n",
       "\t'95:II/215/catalog' with 18 column(s) and 1 row(s) \n",
       "\t'96:II/224/cadars' with 12 column(s) and 2 row(s) \n",
       "\t'97:II/225/catalog' with 14 column(s) and 16 row(s) \n",
       "\t'98:II/225/names' with 5 column(s) and 1 row(s) \n",
       "\t'99:II/225/psc' with 8 column(s) and 1 row(s) \n",
       "\t'100:II/226/catalog' with 10 column(s) and 1 row(s) \n",
       "\t'101:II/237/colors' with 14 column(s) and 1 row(s) \n",
       "\t'102:II/246/out' with 15 column(s) and 50 row(s) \n",
       "\t'103:II/269/catal' with 12 column(s) and 1 row(s) \n",
       "\t'104:II/297/irc' with 13 column(s) and 1 row(s) \n",
       "\t'105:II/311/wise' with 22 column(s) and 49 row(s) \n",
       "\t'106:II/316/gps6' with 16 column(s) and 50 row(s) \n",
       "\t'107:II/321/iphas2' with 11 column(s) and 50 row(s) \n",
       "\t'108:II/328/allwise' with 28 column(s) and 50 row(s) \n",
       "\t'109:II/336/apass9' with 20 column(s) and 6 row(s) \n",
       "\t'110:II/345/jmdc' with 16 column(s) and 1 row(s) \n",
       "\t'111:II/346/jsdc_v2' with 30 column(s) and 1 row(s) \n",
       "\t'112:II/349/ps1' with 35 column(s) and 50 row(s) \n",
       "\t'113:II/354/hipext' with 12 column(s) and 1 row(s) \n",
       "\t'114:II/360/catalog' with 21 column(s) and 35 row(s) \n",
       "\t'115:II/361/mdfc-v10' with 22 column(s) and 1 row(s) \n",
       "\t'116:II/363/unwise' with 11 column(s) and 50 row(s) \n",
       "\t'117:II/365/catwise' with 38 column(s) and 50 row(s) \n",
       "\t'118:II/366/catalog' with 23 column(s) and 2 row(s) \n",
       "\t'119:II/368/sstsl2' with 37 column(s) and 50 row(s) \n",
       "\t'120:II/374/table2' with 13 column(s) and 50 row(s) \n",
       "\t'121:III/4/catalog' with 22 column(s) and 1 row(s) \n",
       "\t'122:III/18B/mkclass' with 12 column(s) and 3 row(s) \n",
       "\t'123:III/21/gcrv' with 13 column(s) and 1 row(s) \n",
       "\t'124:III/39A/catalog' with 17 column(s) and 1 row(s) \n",
       "\t'125:III/42/catalog' with 12 column(s) and 1 row(s) \n",
       "\t'126:III/48B/catalog' with 11 column(s) and 1 row(s) \n",
       "\t'127:III/53/catalog' with 10 column(s) and 1 row(s) \n",
       "\t'128:III/78/mkext' with 11 column(s) and 1 row(s) \n",
       "\t'129:III/121/catalog' with 17 column(s) and 7 row(s) \n",
       "\t'130:III/126/stars' with 6 column(s) and 1 row(s) \n",
       "\t'131:III/126/part1' with 11 column(s) and 1 row(s) \n",
       "\t'132:III/126/part3' with 11 column(s) and 1 row(s) \n",
       "\t'133:III/135A/catalog' with 17 column(s) and 1 row(s) \n",
       "\t'134:III/148A/table1' with 8 column(s) and 2 row(s) \n",
       "\t'135:III/148A/table3' with 10 column(s) and 1 row(s) \n",
       "\t'136:III/190B/web' with 16 column(s) and 1 row(s) \n",
       "\t'137:III/208/catalog' with 14 column(s) and 1 row(s) \n",
       "\t'138:III/213/catalog' with 12 column(s) and 1 row(s) \n",
       "\t'139:III/231/catalog' with 11 column(s) and 1 row(s) \n",
       "\t'140:III/244/catalog' with 11 column(s) and 11 row(s) \n",
       "\t'141:III/244/mean' with 8 column(s) and 2 row(s) \n",
       "\t'142:III/249/catalog' with 14 column(s) and 2 row(s) \n",
       "\t'143:III/252/table8' with 12 column(s) and 1 row(s) \n",
       "\t'144:III/254/crvad2' with 12 column(s) and 1 row(s) \n",
       "\t'145:III/284/allstars' with 99 column(s) and 1 row(s) \n",
       "\t'146:III/284/allvis' with 10 column(s) and 4 row(s) \n",
       "\t'147:IV/25/tyc2_hd' with 14 column(s) and 1 row(s) \n",
       "\t'148:IV/27A/catalog' with 13 column(s) and 1 row(s) \n",
       "\t'149:IV/30/stars' with 14 column(s) and 2 row(s) \n",
       "\t'150:IV/35/wn18_b10' with 18 column(s) and 50 row(s) \n",
       "\t'151:IV/38/tic' with 48 column(s) and 50 row(s) \n",
       "\t'152:IV/39/tic82' with 48 column(s) and 50 row(s) \n",
       "\t'153:V/14/catalog' with 16 column(s) and 1 row(s) \n",
       "\t'154:V/15/catalog' with 12 column(s) and 1 row(s) \n",
       "\t'155:V/24/cstar' with 12 column(s) and 1 row(s) \n",
       "\t'156:V/30/catalog' with 13 column(s) and 1 row(s) \n",
       "\t'157:V/50/catalog' with 11 column(s) and 1 row(s) \n",
       "\t'158:V/51/disco' with 10 column(s) and 5 row(s) \n",
       "\t'159:V/53A/catalog' with 13 column(s) and 1 row(s) \n",
       "\t'160:V/98/msx' with 11 column(s) and 1 row(s) \n",
       "\t'161:V/114/msx6_gp' with 16 column(s) and 1 row(s) \n",
       "\t'162:V/133/kic' with 14 column(s) and 50 row(s) \n",
       "\t'163:V/136/tycall' with 14 column(s) and 1 row(s) \n",
       "\t'164:V/137D/XHIP' with 15 column(s) and 1 row(s) \n",
       "\t'165:V/145/sky2kv5' with 13 column(s) and 1 row(s) \n",
       "\t'166:V/155/gdr2ap' with 22 column(s) and 16 row(s) \n",
       "\t'167:V/158/morxv2' with 30 column(s) and 1 row(s) \n",
       "\t'168:V/165/igapsdr1' with 17 column(s) and 50 row(s) \n",
       "\t'169:VI/32/data1' with 14 column(s) and 1 row(s) \n",
       "\t'170:VI/42/out' with 3 column(s) and 1 row(s) \n",
       "\t'171:VI/110/inescat' with 7 column(s) and 13 row(s) \n",
       "\t'172:VI/111/isolog' with 7 column(s) and 5 row(s) \n",
       "\t'173:VI/135/table15' with 15 column(s) and 1 row(s) \n",
       "\t'174:VI/137/gum_mw' with 17 column(s) and 50 row(s) \n",
       "\t'175:VII/285/gdr2ext' with 7 column(s) and 1 row(s) \n",
       "\t'176:VII/293/catalog' with 14 column(s) and 29 row(s) \n",
       "\t'177:VIII/65/nvss' with 12 column(s) and 2 row(s) \n",
       "\t'178:VIII/106/hppsc070' with 20 column(s) and 1 row(s) \n",
       "\t'179:VIII/106/hpesl' with 14 column(s) and 1 row(s) \n",
       "\t'180:VIII/106/hprsl' with 5 column(s) and 8 row(s) \n",
       "\t'181:IX/50/xmm3r6s' with 17 column(s) and 3 row(s) \n",
       "\t'182:IX/54/xmm3r7s' with 17 column(s) and 3 row(s) \n",
       "\t'183:IX/55/xmm3r8s' with 17 column(s) and 3 row(s) \n",
       "\t'184:IX/58/2sxps' with 12 column(s) and 1 row(s) \n",
       "\t'185:IX/59/xmm4dr9s' with 17 column(s) and 3 row(s) \n",
       "\t'186:IX/61/xmm4r9st' with 23 column(s) and 6 row(s) \n",
       "\t'187:IX/63/xmm4d10s' with 16 column(s) and 3 row(s) \n",
       "\t'188:IX/64/xmm410st' with 23 column(s) and 6 row(s) \n",
       "\t'189:IX/65/xmm4d11s' with 16 column(s) and 3 row(s) \n",
       "\t'190:IX/66/xmm411st' with 23 column(s) and 6 row(s) \n",
       "\t'191:IX/68/xmm4d12s' with 16 column(s) and 3 row(s) \n",
       "\t'192:B/cfht/obscore' with 11 column(s) and 50 row(s) \n",
       "\t'193:B/cfht/cfht' with 8 column(s) and 50 row(s) \n",
       "\t'194:B/mk/mktypes' with 11 column(s) and 17 row(s) \n",
       "\t'195:B/gcvs/gcvs_cat' with 11 column(s) and 1 row(s) \n",
       "\t'196:B/wds/wds' with 16 column(s) and 5 row(s) \n",
       "\t'197:B/vsx/vsx' with 20 column(s) and 2 row(s) \n",
       "\t'198:B/pastel/pastel' with 16 column(s) and 4 row(s) \n",
       "\t'199:B/gemini/obscore' with 11 column(s) and 50 row(s) \n",
       "\t'200:B/dao/obscore' with 11 column(s) and 1 row(s) \n",
       "\t'201:B/polarbase/polarbase' with 11 column(s) and 10 row(s) \n",
       "\t'202:J/ApJ/694/1085/table1' with 12 column(s) and 1 row(s) \n",
       "\t'203:J/ApJ/703/L72/2mass' with 10 column(s) and 1 row(s) \n",
       "\t'204:J/ApJ/737/45/table1' with 8 column(s) and 2 row(s) \n",
       "\t'205:J/ApJ/762/88/members' with 18 column(s) and 1 row(s) \n",
       "\t'206:J/ApJ/804/146/table5' with 16 column(s) and 1 row(s) \n",
       "\t'207:J/ApJ/823/114/table1' with 13 column(s) and 1 row(s) \n",
       "\t'208:J/ApJ/826/171/table3' with 11 column(s) and 1 row(s) \n",
       "\t'209:J/ApJ/836/34/table2' with 10 column(s) and 1 row(s) \n",
       "\t'210:J/ApJ/858/L7/table2' with 13 column(s) and 1 row(s) \n",
       "\t'211:J/ApJ/861/149/table3' with 14 column(s) and 1 row(s) \n",
       "\t'212:J/ApJ/867/105/refcat2' with 23 column(s) and 50 row(s) \n",
       "\t'213:J/ApJ/878/21/table1' with 19 column(s) and 1 row(s) \n",
       "\t'214:J/ApJ/900/4/table3' with 19 column(s) and 1 row(s) \n",
       "\t'215:J/ApJS/176/276/stars' with 14 column(s) and 1 row(s) \n",
       "\t'216:J/ApJS/245/13/table1' with 24 column(s) and 2 row(s) \n",
       "\t'217:J/ApJS/254/42/catalog' with 29 column(s) and 1 row(s) \n",
       "\t'218:J/ApJS/264/41/catalog' with 30 column(s) and 1 row(s) \n",
       "\t'219:J/A+A/331/633/table1' with 11 column(s) and 3 row(s) \n",
       "\t'220:J/A+A/352/555/table1' with 12 column(s) and 1 row(s) \n",
       "\t'221:J/A+A/373/625/table2' with 12 column(s) and 1 row(s) \n",
       "\t'222:J/A+A/393/897/table5' with 11 column(s) and 1 row(s) \n",
       "\t'223:J/A+A/393/897/table9' with 8 column(s) and 1 row(s) \n",
       "\t'224:J/A+A/398/1121/catalog' with 24 column(s) and 1 row(s) \n",
       "\t'225:J/A+A/407/631/tablea1' with 11 column(s) and 1 row(s) \n",
       "\t'226:J/A+A/411/447/table1' with 14 column(s) and 1 row(s) \n",
       "\t'227:J/A+A/412/447/table4' with 18 column(s) and 1 row(s) \n",
       "\t'228:J/A+A/463/671/table4' with 8 column(s) and 1 row(s) \n",
       "\t'229:J/A+A/469/1221/catalog' with 11 column(s) and 1 row(s) \n",
       "\t'230:J/A+A/531/A165/param' with 15 column(s) and 1 row(s) \n",
       "\t'231:J/A+A/537/A120/table1' with 16 column(s) and 1 row(s) \n",
       "\t'232:J/A+A/546/A61/tablea1' with 18 column(s) and 1 row(s) \n",
       "\t'233:J/A+A/548/A97/table1' with 21 column(s) and 2 row(s) \n",
       "\t'234:J/A+A/553/A95/table5' with 7 column(s) and 1 row(s) \n",
       "\t'235:J/A+A/556/A52/table70' with 8 column(s) and 1 row(s) \n",
       "\t'236:J/A+A/580/A23/catalog' with 24 column(s) and 1 row(s) \n",
       "\t'237:J/A+A/594/A116/nhi_hpx' with 6 column(s) and 1 row(s) \n",
       "\t'238:J/A+A/596/A49/maincat' with 12 column(s) and 1 row(s) \n",
       "\t'239:J/A+A/604/A108/unidam' with 17 column(s) and 2 row(s) \n",
       "\t'240:J/A+A/604/A108/apogee12' with 17 column(s) and 2 row(s) \n",
       "\t'241:J/A+A/617/A32/list' with 5 column(s) and 1 row(s) \n",
       "\t'242:J/A+A/618/A93/members' with 16 column(s) and 2 row(s) \n",
       "\t'243:J/A+A/620/A172/ums' with 24 column(s) and 1 row(s) \n",
       "\t'244:J/A+A/623/A72/hipgpma' with 42 column(s) and 1 row(s) \n",
       "\t'245:J/A+A/628/A67/catalog' with 11 column(s) and 1 row(s) \n",
       "\t'246:J/A+A/629/A139/table3' with 16 column(s) and 1 row(s) \n",
       "\t'247:J/A+A/633/A99/members' with 13 column(s) and 2 row(s) \n",
       "\t'248:J/A+A/635/A45/table2' with 15 column(s) and 1 row(s) \n",
       "\t'249:J/A+A/638/A21/sample' with 17 column(s) and 23 row(s) \n",
       "\t'250:J/A+A/638/A76/apogee' with 14 column(s) and 1 row(s) \n",
       "\t'251:J/A+A/640/A1/nodup' with 16 column(s) and 1 row(s) \n",
       "\t'252:J/A+A/646/A104/membersl' with 14 column(s) and 8 row(s) \n",
       "\t'253:J/A+A/648/A44/tabled1' with 41 column(s) and 15 row(s) \n",
       "\t'254:J/A+A/649/A6/table1c' with 31 column(s) and 1 row(s) \n",
       "\t'255:J/A+A/650/A112/target' with 28 column(s) and 1 row(s) \n",
       "\t'256:J/A+A/650/A112/filtered' with 28 column(s) and 1 row(s) \n",
       "\t'257:J/A+A/653/A98/aspic1_1' with 23 column(s) and 1 row(s) \n",
       "\t'258:J/A+A/657/A7/tablea1' with 52 column(s) and 1 row(s) \n",
       "\t'259:J/A+A/657/A7/tablea2' with 43 column(s) and 1 row(s) \n",
       "\t'260:J/A+A/657/A7/tablea3' with 43 column(s) and 1 row(s) \n",
       "\t'261:J/A+A/657/A138/table6' with 13 column(s) and 1 row(s) \n",
       "\t'262:J/A+A/657/A138/table7' with 13 column(s) and 3 row(s) \n",
       "\t'263:J/A+A/659/A95/sos' with 12 column(s) and 3 row(s) \n",
       "\t'264:J/A+A/659/A95/apogee' with 18 column(s) and 1 row(s) \n",
       "\t'265:J/A+A/661/A89/table1' with 36 column(s) and 1 row(s) \n",
       "\t'266:J/A+A/673/A155/apogee17' with 12 column(s) and 1 row(s) \n",
       "\t'267:J/A+A/674/A22/catalog' with 7 column(s) and 2 row(s) \n",
       "\t'268:J/A+A/674/A25/vspursig' with 40 column(s) and 4 row(s) \n",
       "\t'269:J/A+A/675/A68/members' with 11 column(s) and 50 row(s) \n",
       "\t'270:J/A+AS/101/551/table1' with 13 column(s) and 1 row(s) \n",
       "\t'271:J/A+AS/106/21/table1' with 11 column(s) and 2 row(s) \n",
       "\t'272:J/A+AS/109/201/table1' with 9 column(s) and 1 row(s) \n",
       "\t'273:J/A+AS/123/93/table1' with 10 column(s) and 5 row(s) \n",
       "\t'274:J/A+AS/144/469/table1' with 8 column(s) and 1 row(s) \n",
       "\t'275:J/AJ/132/50/table2' with 13 column(s) and 35 row(s) \n",
       "\t'276:J/AJ/145/132/table3' with 18 column(s) and 1 row(s) \n",
       "\t'277:J/AJ/146/76/table2' with 20 column(s) and 7 row(s) \n",
       "\t'278:J/AJ/150/141/urhip' with 11 column(s) and 1 row(s) \n",
       "\t'279:J/AJ/151/59/table1' with 11 column(s) and 1 row(s) \n",
       "\t'280:J/AJ/153/16/table3' with 14 column(s) and 1 row(s) \n",
       "\t'281:J/AJ/153/95/table3' with 17 column(s) and 1 row(s) \n",
       "\t'282:J/AJ/154/115/table2' with 8 column(s) and 1 row(s) \n",
       "\t'283:J/AJ/156/18/table2' with 5 column(s) and 1 row(s) \n",
       "\t'284:J/AJ/156/137/sample' with 12 column(s) and 1 row(s) \n",
       "\t'285:J/AJ/156/241/table4' with 16 column(s) and 11 row(s) \n",
       "\t'286:J/AJ/158/93/table2' with 5 column(s) and 46 row(s) \n",
       "\t'287:J/AJ/158/187/table3' with 13 column(s) and 1 row(s) \n",
       "\t'288:J/AJ/159/84/table2' with 5 column(s) and 46 row(s) \n",
       "\t'289:J/AJ/159/166/table2' with 18 column(s) and 1 row(s) \n",
       "\t'290:J/AJ/159/182/table4' with 13 column(s) and 1 row(s) \n",
       "\t'291:J/AJ/160/279/table1' with 4 column(s) and 1 row(s) \n",
       "\t'292:J/AJ/161/234/table2' with 62 column(s) and 2 row(s) \n",
       "\t'293:J/AJ/161/234/table3' with 17 column(s) and 7 row(s) \n",
       "\t'294:J/AJ/161/234/table4' with 19 column(s) and 3 row(s) \n",
       "\t'295:J/AJ/161/234/table6' with 21 column(s) and 20 row(s) \n",
       "\t'296:J/AJ/163/152/table1' with 12 column(s) and 1 row(s) \n",
       "\t'297:J/PASP/120/1128/catalog' with 15 column(s) and 1 row(s) \n",
       "\t'298:J/PASP/126/469/polar' with 11 column(s) and 1 row(s) \n",
       "\t'299:J/PASP/129/E4501/table1' with 10 column(s) and 1 row(s) \n",
       "\t'300:J/MNRAS/371/703/catalog' with 14 column(s) and 1 row(s) \n",
       "\t'301:J/MNRAS/374/664/tablea1' with 16 column(s) and 1 row(s) \n",
       "\t'302:J/MNRAS/389/869/table2' with 14 column(s) and 1 row(s) \n",
       "\t'303:J/MNRAS/394/1338/tablea2' with 12 column(s) and 1 row(s) \n",
       "\t'304:J/MNRAS/403/1089/table4' with 10 column(s) and 1 row(s) \n",
       "\t'305:J/MNRAS/414/1227/table4' with 13 column(s) and 1 row(s) \n",
       "\t'306:J/MNRAS/427/343/table2' with 13 column(s) and 1 row(s) \n",
       "\t'307:J/MNRAS/427/2917/table2' with 17 column(s) and 1 row(s) \n",
       "\t'308:J/MNRAS/437/1216/vast' with 21 column(s) and 1 row(s) \n",
       "\t'309:J/MNRAS/454/593/table1' with 21 column(s) and 1 row(s) \n",
       "\t'310:J/MNRAS/456/3655/table2' with 11 column(s) and 1 row(s) \n",
       "\t'311:J/MNRAS/460/3179/table3' with 10 column(s) and 1 row(s) \n",
       "\t'312:J/MNRAS/463/4210/ucac4rpm' with 12 column(s) and 3 row(s) \n",
       "\t'313:J/MNRAS/465/3879/table1' with 15 column(s) and 1 row(s) \n",
       "\t'314:J/MNRAS/466/546/table1' with 18 column(s) and 1 row(s) \n",
       "\t'315:J/MNRAS/471/770/table2' with 52 column(s) and 1 row(s) \n",
       "\t'316:J/MNRAS/476/2117/apogeenn' with 13 column(s) and 1 row(s) \n",
       "\t'317:J/MNRAS/485/1067/suppl' with 14 column(s) and 1 row(s) \n",
       "\t'318:J/MNRAS/489/176/dr14ages' with 8 column(s) and 1 row(s) \n",
       "\t'319:J/MNRAS/489/2079/table1' with 16 column(s) and 1 row(s) \n",
       "\t'320:J/MNRAS/489/2189/table2' with 7 column(s) and 1 row(s) \n",
       "\t'321:J/MNRAS/491/2025/table1' with 9 column(s) and 1 row(s) \n",
       "\t'322:J/MNRAS/495/3087/catalog' with 15 column(s) and 5 row(s) \n",
       "\t'323:J/MNRAS/498/5720/catalog' with 19 column(s) and 50 row(s) \n",
       "\t'324:J/MNRAS/504/3730/table2' with 39 column(s) and 1 row(s) \n",
       "\t'325:J/MNRAS/507/318/table2' with 15 column(s) and 1 row(s) \n",
       "\t'326:J/MNRAS/508/2370/cyg' with 31 column(s) and 1 row(s) \n",
       "\t'327:J/MNRAS/515/687/asscyg2' with 13 column(s) and 1 row(s) \n",
       "\t'328:J/MNRAS/522/29/table2' with 16 column(s) and 8 row(s) \n",
       "\t'329:J/AZh/83/821/osaca' with 13 column(s) and 1 row(s) \n",
       "\t'330:J/other/PASA/32.36/lb_evals' with 12 column(s) and 1 row(s) "
      ]
     },
     "execution_count": 77,
     "metadata": {},
     "output_type": "execute_result"
    }
   ],
   "source": [
    "#simple example: search all catalogues\n",
    "result3=Vizier.query_object(\"HIP 99770\")\n",
    "result3"
   ]
  },
  {
   "cell_type": "markdown",
   "id": "4d83f421",
   "metadata": {},
   "source": [
    "We see that this star has data in 331 Vizier tables.  It's not a well-known star.  So you can imagine very well known stars (e.g. Vega, Fomalhaut, Altair, Sirius, etc etc) have data in _a lot_ of tables: it is easy to get lost in the volume of data.So ideally, we would like to down-select to search for data only in specific tables.   Let's do that. \n",
    "\n",
    "Furthermore, what  Vizier. actually returns is a _table list_ , not a table.  So slicing to get table entries is slightly more complicated vs how we would do it with Simbad tables. \n",
    "\n",
    "For a first try, let's do the Tycho II catalogue: (I/259/tyc2).   "
   ]
  },
  {
   "cell_type": "code",
   "execution_count": 78,
   "id": "4e5e94af",
   "metadata": {},
   "outputs": [
    {
     "name": "stdout",
     "output_type": "stream",
     "text": [
      "TableList with 1 tables:\n",
      "\t'0:I/259/tyc2' with 10 column(s) and 1 row(s) \n",
      "1\n"
     ]
    }
   ],
   "source": [
    "#result4=Vizier.query_object(\"HIP 99770\",catalog='I/239/tyc_main')\n",
    "result4=Vizier.query_object(\"HIP 99770\",catalog='I/259/tyc2')\n",
    "print(result4 ) #what is this table list?\n",
    "print(len(result4)) #how many entries does it have?"
   ]
  },
  {
   "cell_type": "markdown",
   "id": "38170dca",
   "metadata": {},
   "source": [
    "If we want to print out the table entries we can do that here by accessing the relevant subscript of the table.  With the above print statements we learn that this table has only one entry (which is good! There isn't a duplicate HIP 99770 entry floating around this giant catalogue).\n",
    "\n",
    "See below"
   ]
  },
  {
   "cell_type": "code",
   "execution_count": 36,
   "id": "3bc1208e",
   "metadata": {},
   "outputs": [
    {
     "data": {
      "text/html": [
       "<div><i>Table length=1</i>\n",
       "<table id=\"table4855207040\" class=\"table-striped table-bordered table-condensed\">\n",
       "<thead><tr><th>TYC</th><th>RAhms</th><th>DEdms</th><th>Vmag</th><th>RAICRS</th><th>DEICRS</th><th>BTmag</th><th>VTmag</th><th>B-V</th><th>_RA.icrs</th><th>_DE.icrs</th></tr></thead>\n",
       "<thead><tr><th></th><th></th><th></th><th>mag</th><th>deg</th><th>deg</th><th>mag</th><th>mag</th><th>mag</th><th>deg</th><th>deg</th></tr></thead>\n",
       "<thead><tr><th>str12</th><th>str11</th><th>str11</th><th>float32</th><th>float64</th><th>float64</th><th>float32</th><th>float32</th><th>float32</th><th>float64</th><th>float64</th></tr></thead>\n",
       "<tr><td>2683  3962 1</td><td>20 14 31.98</td><td>+36 48 22.1</td><td>4.95</td><td>303.63326023</td><td>36.80613542</td><td>5.136</td><td>4.970</td><td>0.149</td><td>303.63347728</td><td>36.80630483</td></tr>\n",
       "</table></div>"
      ],
      "text/plain": [
       "<Table length=1>\n",
       "    TYC         RAhms       DEdms      Vmag     RAICRS       DEICRS     BTmag   VTmag    B-V     _RA.icrs     _DE.icrs  \n",
       "                                       mag       deg          deg        mag     mag     mag       deg          deg     \n",
       "   str12        str11       str11    float32   float64      float64    float32 float32 float32   float64      float64   \n",
       "------------ ----------- ----------- ------- ------------ ------------ ------- ------- ------- ------------ ------------\n",
       "2683  3962 1 20 14 31.98 +36 48 22.1    4.95 303.63326023  36.80613542   5.136   4.970   0.149 303.63347728  36.80630483"
      ]
     },
     "execution_count": 36,
     "metadata": {},
     "output_type": "execute_result"
    }
   ],
   "source": [
    "result4[0] #return the first (and only) table"
   ]
  },
  {
   "cell_type": "markdown",
   "id": "209800b9",
   "metadata": {},
   "source": []
  },
  {
   "cell_type": "markdown",
   "id": "4a326ef2",
   "metadata": {},
   "source": [
    "Now, the above command just simply selected the first table in the table list.  You can query multiple tables at once: you just have to enclose them in square brackets...\n",
    "\n",
    "So we are going to query a different Tycho catalog (first entry), the Hipparcos catalog (second entry), and the 2MASS catalog (third entry).  These are all all-sky surveys so they have data for a ton of objects."
   ]
  },
  {
   "cell_type": "code",
   "execution_count": 122,
   "id": "02a86c15",
   "metadata": {},
   "outputs": [
    {
     "data": {
      "text/html": [
       "<div><i>Table length=1</i>\n",
       "<table id=\"table4954304192\" class=\"table-striped table-bordered table-condensed\">\n",
       "<thead><tr><th>TYC</th><th>RAhms</th><th>DEdms</th><th>Vmag</th><th>RAICRS</th><th>DEICRS</th><th>BTmag</th><th>VTmag</th><th>B-V</th><th>_RA.icrs</th><th>_DE.icrs</th></tr></thead>\n",
       "<thead><tr><th></th><th></th><th></th><th>mag</th><th>deg</th><th>deg</th><th>mag</th><th>mag</th><th>mag</th><th>deg</th><th>deg</th></tr></thead>\n",
       "<thead><tr><th>str12</th><th>str11</th><th>str11</th><th>float32</th><th>float64</th><th>float64</th><th>float32</th><th>float32</th><th>float32</th><th>float64</th><th>float64</th></tr></thead>\n",
       "<tr><td>2683  3962 1</td><td>20 14 31.98</td><td>+36 48 22.1</td><td>4.95</td><td>303.63326023</td><td>36.80613542</td><td>5.136</td><td>4.970</td><td>0.149</td><td>303.63347728</td><td>36.80630483</td></tr>\n",
       "</table></div>"
      ],
      "text/plain": [
       "<Table length=1>\n",
       "    TYC         RAhms       DEdms      Vmag     RAICRS       DEICRS     BTmag   VTmag    B-V     _RA.icrs     _DE.icrs  \n",
       "                                       mag       deg          deg        mag     mag     mag       deg          deg     \n",
       "   str12        str11       str11    float32   float64      float64    float32 float32 float32   float64      float64   \n",
       "------------ ----------- ----------- ------- ------------ ------------ ------- ------- ------- ------------ ------------\n",
       "2683  3962 1 20 14 31.98 +36 48 22.1    4.95 303.63326023  36.80613542   5.136   4.970   0.149 303.63347728  36.80630483"
      ]
     },
     "execution_count": 122,
     "metadata": {},
     "output_type": "execute_result"
    }
   ],
   "source": [
    "#CAUTION!!! - note the addition of the \"Angle\" keyword here\n",
    "result4b=Vizier.query_object(\"HIP 99770\",catalog=['I/239/tyc_main','I/239/hip_main','II/246/out'],radius=Angle(5,\"arcsec\"))\n",
    "#                              radius=Angle(1,\"deg\"))\n",
    "result4b\n",
    "result4b[0] #now return the second of the tables"
   ]
  },
  {
   "cell_type": "markdown",
   "id": "88cce687",
   "metadata": {},
   "source": [
    "With this subtlety (Table _list_ vs Table), we can now proceed to return entry values in specific tables.  E.g. ..."
   ]
  },
  {
   "cell_type": "code",
   "execution_count": 126,
   "id": "ec2ffd46",
   "metadata": {},
   "outputs": [
    {
     "name": "stdout",
     "output_type": "stream",
     "text": [
      "2683  3962 1\n",
      "20 14 31.98\n",
      "4.95\n"
     ]
    }
   ],
   "source": [
    "#result4[0].colnames #lists the column names\n",
    "#result4[0]['TYC'] #returns the column name & all entries in the 'TYC' column\n",
    "name_tyc=result4b[0]['TYC'][0] #returns the entry for this star\n",
    "ra_tyc=result4b[0]['RAhms'][0]\n",
    "vmag=result4b[0]['Vmag'][0]\n",
    "\n",
    "print(name_tyc)\n",
    "print(ra_tyc) #note: this is a string as you can see from the table metadata\n",
    "print(vmag) #floating point"
   ]
  },
  {
   "cell_type": "code",
   "execution_count": 127,
   "id": "5a21b68b",
   "metadata": {},
   "outputs": [
    {
     "data": {
      "text/html": [
       "<div><i>Table length=1</i>\n",
       "<table id=\"table4951960704\" class=\"table-striped table-bordered table-condensed\">\n",
       "<thead><tr><th>RAJ2000</th><th>DEJ2000</th><th>_2MASS</th><th>Jmag</th><th>e_Jmag</th><th>Hmag</th><th>e_Hmag</th><th>Kmag</th><th>e_Kmag</th><th>Qflg</th><th>Rflg</th><th>Bflg</th><th>Cflg</th><th>Xflg</th><th>Aflg</th></tr></thead>\n",
       "<thead><tr><th>deg</th><th>deg</th><th></th><th>mag</th><th>mag</th><th>mag</th><th>mag</th><th>mag</th><th>mag</th><th></th><th></th><th></th><th></th><th></th><th></th></tr></thead>\n",
       "<thead><tr><th>float64</th><th>float64</th><th>str17</th><th>float32</th><th>float32</th><th>float32</th><th>float32</th><th>float32</th><th>float32</th><th>str3</th><th>str3</th><th>str3</th><th>str3</th><th>uint8</th><th>uint8</th></tr></thead>\n",
       "<tr><td>303.633484</td><td>36.806255</td><td>20143203+3648225</td><td>4.886</td><td>0.306</td><td>4.688</td><td>0.242</td><td>4.422</td><td>0.017</td><td>DDA</td><td>331</td><td>111</td><td>000</td><td>0</td><td>0</td></tr>\n",
       "</table></div>"
      ],
      "text/plain": [
       "<Table length=1>\n",
       " RAJ2000    DEJ2000        _2MASS        Jmag   e_Jmag   Hmag   e_Hmag   Kmag   e_Kmag Qflg Rflg Bflg Cflg  Xflg  Aflg\n",
       "   deg        deg                        mag     mag     mag     mag     mag     mag                                  \n",
       " float64    float64        str17       float32 float32 float32 float32 float32 float32 str3 str3 str3 str3 uint8 uint8\n",
       "---------- ---------- ---------------- ------- ------- ------- ------- ------- ------- ---- ---- ---- ---- ----- -----\n",
       "303.633484  36.806255 20143203+3648225   4.886   0.306   4.688   0.242   4.422   0.017  DDA  331  111  000     0     0"
      ]
     },
     "execution_count": 127,
     "metadata": {},
     "output_type": "execute_result"
    }
   ],
   "source": [
    "result4b[2] #now let's inspect the 3rd table"
   ]
  },
  {
   "cell_type": "code",
   "execution_count": 128,
   "id": "861e319c",
   "metadata": {},
   "outputs": [
    {
     "data": {
      "text/plain": [
       "4.886"
      ]
     },
     "execution_count": 128,
     "metadata": {},
     "output_type": "execute_result"
    }
   ],
   "source": [
    "result4b[2]['Jmag'][0] #return the J band magnitude. #again, note the Angle call in query_object"
   ]
  },
  {
   "cell_type": "markdown",
   "id": "aa209368",
   "metadata": {},
   "source": [
    "\n",
    "\n",
    "Arguably the greater power with catalogue queries is searching entire catalogues on condition or querying around a position (any position: doesn't have to be centered on a star).    You can do this with the ``query_region`` function call.\n"
   ]
  },
  {
   "cell_type": "code",
   "execution_count": 129,
   "id": "73ecb07c",
   "metadata": {},
   "outputs": [
    {
     "data": {
      "text/html": [
       "<div><i>Table length=50</i>\n",
       "<table id=\"table4954424176\" class=\"table-striped table-bordered table-condensed\">\n",
       "<thead><tr><th>RAJ2000</th><th>DEJ2000</th><th>_2MASS</th><th>Jmag</th><th>e_Jmag</th><th>Hmag</th><th>e_Hmag</th><th>Kmag</th><th>e_Kmag</th><th>Qflg</th><th>Rflg</th><th>Bflg</th><th>Cflg</th><th>Xflg</th><th>Aflg</th></tr></thead>\n",
       "<thead><tr><th>deg</th><th>deg</th><th></th><th>mag</th><th>mag</th><th>mag</th><th>mag</th><th>mag</th><th>mag</th><th></th><th></th><th></th><th></th><th></th><th></th></tr></thead>\n",
       "<thead><tr><th>float64</th><th>float64</th><th>str17</th><th>float32</th><th>float32</th><th>float32</th><th>float32</th><th>float32</th><th>float32</th><th>str3</th><th>str3</th><th>str3</th><th>str3</th><th>uint8</th><th>uint8</th></tr></thead>\n",
       "<tr><td>303.538167</td><td>36.677807</td><td>20140916+3640401</td><td>15.647</td><td>0.076</td><td>13.312</td><td>--</td><td>12.970</td><td>--</td><td>AUU</td><td>266</td><td>200</td><td>c00</td><td>0</td><td>0</td></tr>\n",
       "<tr><td>303.538372</td><td>36.685192</td><td>20140920+3641066</td><td>14.804</td><td>0.043</td><td>14.686</td><td>0.059</td><td>14.523</td><td>0.123</td><td>AAB</td><td>222</td><td>111</td><td>000</td><td>0</td><td>0</td></tr>\n",
       "<tr><td>303.538863</td><td>36.678677</td><td>20140932+3640432</td><td>15.282</td><td>0.070</td><td>14.066</td><td>0.119</td><td>12.900</td><td>--</td><td>AEU</td><td>226</td><td>310</td><td>cc0</td><td>0</td><td>0</td></tr>\n",
       "<tr><td>303.539549</td><td>36.677696</td><td>20140949+3640397</td><td>14.205</td><td>0.042</td><td>12.847</td><td>--</td><td>12.491</td><td>--</td><td>AUU</td><td>266</td><td>300</td><td>c00</td><td>0</td><td>0</td></tr>\n",
       "<tr><td>303.542784</td><td>36.686577</td><td>20141026+3641116</td><td>15.635</td><td>0.091</td><td>15.303</td><td>0.119</td><td>14.413</td><td>--</td><td>ABU</td><td>220</td><td>220</td><td>cc0</td><td>0</td><td>0</td></tr>\n",
       "<tr><td>303.541583</td><td>36.684486</td><td>20140997+3641041</td><td>15.103</td><td>0.054</td><td>14.522</td><td>0.054</td><td>14.500</td><td>0.120</td><td>AAB</td><td>222</td><td>222</td><td>ccc</td><td>0</td><td>0</td></tr>\n",
       "<tr><td>303.531940</td><td>36.685341</td><td>20140766+3641072</td><td>15.884</td><td>0.104</td><td>14.975</td><td>0.083</td><td>14.672</td><td>0.143</td><td>AAB</td><td>222</td><td>111</td><td>000</td><td>0</td><td>0</td></tr>\n",
       "<tr><td>303.533619</td><td>36.686661</td><td>20140806+3641119</td><td>16.161</td><td>0.131</td><td>15.123</td><td>--</td><td>14.714</td><td>--</td><td>BUU</td><td>200</td><td>100</td><td>000</td><td>0</td><td>0</td></tr>\n",
       "<tr><td>303.532804</td><td>36.680019</td><td>20140787+3640480</td><td>13.686</td><td>0.024</td><td>12.672</td><td>0.023</td><td>12.264</td><td>0.028</td><td>AAA</td><td>222</td><td>111</td><td>000</td><td>0</td><td>0</td></tr>\n",
       "<tr><td>303.543273</td><td>36.685055</td><td>20141038+3641061</td><td>13.291</td><td>0.029</td><td>12.848</td><td>0.033</td><td>12.730</td><td>0.042</td><td>AAA</td><td>222</td><td>332</td><td>ccc</td><td>0</td><td>0</td></tr>\n",
       "<tr><td>303.558082</td><td>36.676769</td><td>20141393+3640363</td><td>16.257</td><td>0.140</td><td>15.561</td><td>0.134</td><td>14.916</td><td>--</td><td>BBU</td><td>220</td><td>110</td><td>c00</td><td>0</td><td>0</td></tr>\n",
       "<tr><td>303.556129</td><td>36.673916</td><td>20141347+3640260</td><td>13.769</td><td>0.031</td><td>13.395</td><td>0.031</td><td>13.197</td><td>0.048</td><td>AAA</td><td>222</td><td>111</td><td>000</td><td>0</td><td>0</td></tr>\n",
       "<tr><td>303.554209</td><td>36.679718</td><td>20141301+3640469</td><td>15.880</td><td>0.095</td><td>15.002</td><td>0.077</td><td>14.602</td><td>--</td><td>AAU</td><td>220</td><td>110</td><td>cc0</td><td>0</td><td>0</td></tr>\n",
       "<tr><td>303.561881</td><td>36.683559</td><td>20141485+3641008</td><td>16.055</td><td>0.117</td><td>15.720</td><td>0.152</td><td>15.080</td><td>--</td><td>BCU</td><td>220</td><td>110</td><td>cc0</td><td>0</td><td>0</td></tr>\n",
       "<tr><td>303.560713</td><td>36.686810</td><td>20141457+3641125</td><td>10.979</td><td>0.020</td><td>10.908</td><td>0.019</td><td>10.838</td><td>0.023</td><td>AAA</td><td>222</td><td>111</td><td>000</td><td>0</td><td>0</td></tr>\n",
       "<tr><td>303.561120</td><td>36.669415</td><td>20141466+3640098</td><td>15.065</td><td>0.047</td><td>14.712</td><td>0.059</td><td>14.591</td><td>0.132</td><td>AAB</td><td>222</td><td>111</td><td>000</td><td>0</td><td>0</td></tr>\n",
       "<tr><td>303.546124</td><td>36.683807</td><td>20141106+3641017</td><td>14.155</td><td>0.035</td><td>13.777</td><td>0.044</td><td>13.639</td><td>0.068</td><td>AAA</td><td>222</td><td>111</td><td>000</td><td>0</td><td>0</td></tr>\n",
       "<tr><td>303.548294</td><td>36.679398</td><td>20141159+3640458</td><td>14.787</td><td>0.041</td><td>14.742</td><td>0.095</td><td>14.574</td><td>0.141</td><td>AAB</td><td>222</td><td>111</td><td>ccc</td><td>0</td><td>0</td></tr>\n",
       "<tr><td>303.547779</td><td>36.686806</td><td>20141146+3641125</td><td>14.644</td><td>0.044</td><td>13.918</td><td>--</td><td>13.567</td><td>--</td><td>AUU</td><td>266</td><td>200</td><td>c00</td><td>0</td><td>0</td></tr>\n",
       "<tr><td>303.546824</td><td>36.685658</td><td>20141123+3641083</td><td>16.006</td><td>0.117</td><td>14.690</td><td>--</td><td>14.300</td><td>--</td><td>BUU</td><td>266</td><td>200</td><td>c00</td><td>0</td><td>0</td></tr>\n",
       "<tr><td>303.549030</td><td>36.683964</td><td>20141176+3641022</td><td>15.003</td><td>0.053</td><td>13.946</td><td>0.037</td><td>13.449</td><td>0.056</td><td>AAA</td><td>222</td><td>111</td><td>000</td><td>0</td><td>0</td></tr>\n",
       "<tr><td>303.553847</td><td>36.673050</td><td>20141292+3640229</td><td>15.863</td><td>0.104</td><td>15.416</td><td>0.116</td><td>15.091</td><td>--</td><td>ABU</td><td>220</td><td>110</td><td>cc0</td><td>0</td><td>0</td></tr>\n",
       "<tr><td>303.553552</td><td>36.675362</td><td>20141285+3640313</td><td>14.896</td><td>0.048</td><td>14.386</td><td>0.051</td><td>14.212</td><td>0.096</td><td>AAA</td><td>222</td><td>111</td><td>s0c</td><td>0</td><td>0</td></tr>\n",
       "<tr><td>303.551359</td><td>36.678711</td><td>20141232+3640433</td><td>11.604</td><td>0.020</td><td>10.538</td><td>0.018</td><td>10.170</td><td>0.022</td><td>AAA</td><td>222</td><td>111</td><td>000</td><td>0</td><td>0</td></tr>\n",
       "<tr><td>303.528501</td><td>36.683392</td><td>20140684+3641002</td><td>15.645</td><td>0.083</td><td>14.637</td><td>0.064</td><td>13.952</td><td>0.074</td><td>AAA</td><td>222</td><td>122</td><td>ccc</td><td>0</td><td>0</td></tr>\n",
       "<tr><td>303.522752</td><td>36.687328</td><td>20140546+3641143</td><td>15.693</td><td>0.086</td><td>15.216</td><td>0.106</td><td>14.889</td><td>0.161</td><td>AAC</td><td>222</td><td>111</td><td>00c</td><td>0</td><td>0</td></tr>\n",
       "<tr><td>303.606430</td><td>36.680923</td><td>20142554+3640513</td><td>14.641</td><td>0.043</td><td>13.026</td><td>0.027</td><td>12.317</td><td>0.031</td><td>AAA</td><td>222</td><td>222</td><td>ccc</td><td>0</td><td>0</td></tr>\n",
       "<tr><td>303.608802</td><td>36.659523</td><td>20142611+3639342</td><td>16.354</td><td>0.136</td><td>15.509</td><td>--</td><td>15.496</td><td>--</td><td>BUU</td><td>200</td><td>200</td><td>c00</td><td>0</td><td>0</td></tr>\n",
       "<tr><td>303.606343</td><td>36.658783</td><td>20142552+3639316</td><td>15.707</td><td>0.082</td><td>15.165</td><td>0.089</td><td>14.726</td><td>--</td><td>AAU</td><td>220</td><td>120</td><td>0c0</td><td>0</td><td>0</td></tr>\n",
       "<tr><td>303.608997</td><td>36.674160</td><td>20142615+3640269</td><td>13.679</td><td>0.025</td><td>12.509</td><td>0.023</td><td>12.002</td><td>0.028</td><td>AAA</td><td>222</td><td>111</td><td>000</td><td>0</td><td>0</td></tr>\n",
       "<tr><td>303.610891</td><td>36.665157</td><td>20142661+3639545</td><td>15.695</td><td>0.125</td><td>12.801</td><td>--</td><td>12.296</td><td>--</td><td>BUU</td><td>200</td><td>100</td><td>c00</td><td>0</td><td>0</td></tr>\n",
       "<tr><td>303.604782</td><td>36.680527</td><td>20142514+3640498</td><td>13.571</td><td>0.037</td><td>12.520</td><td>0.046</td><td>12.070</td><td>0.052</td><td>AAA</td><td>222</td><td>222</td><td>ccc</td><td>0</td><td>0</td></tr>\n",
       "<tr><td>303.610598</td><td>36.657486</td><td>20142654+3639269</td><td>16.375</td><td>0.151</td><td>15.528</td><td>--</td><td>14.863</td><td>--</td><td>BUU</td><td>200</td><td>200</td><td>c00</td><td>0</td><td>0</td></tr>\n",
       "<tr><td>303.609075</td><td>36.684578</td><td>20142617+3641044</td><td>15.903</td><td>0.099</td><td>15.245</td><td>0.098</td><td>14.732</td><td>0.152</td><td>AAB</td><td>222</td><td>111</td><td>000</td><td>0</td><td>0</td></tr>\n",
       "<tr><td>303.610034</td><td>36.658573</td><td>20142640+3639308</td><td>16.394</td><td>0.145</td><td>15.229</td><td>--</td><td>15.230</td><td>--</td><td>BUU</td><td>200</td><td>200</td><td>c00</td><td>0</td><td>0</td></tr>\n",
       "<tr><td>303.603815</td><td>36.687065</td><td>20142491+3641134</td><td>14.157</td><td>0.040</td><td>12.868</td><td>0.045</td><td>12.273</td><td>0.043</td><td>AAA</td><td>222</td><td>122</td><td>0cc</td><td>0</td><td>0</td></tr>\n",
       "<tr><td>303.598484</td><td>36.677956</td><td>20142363+3640406</td><td>14.806</td><td>0.041</td><td>13.422</td><td>0.030</td><td>12.840</td><td>0.038</td><td>AAA</td><td>222</td><td>111</td><td>000</td><td>0</td><td>0</td></tr>\n",
       "<tr><td>303.598109</td><td>36.667263</td><td>20142354+3640021</td><td>15.821</td><td>0.110</td><td>15.319</td><td>0.150</td><td>14.293</td><td>--</td><td>BBU</td><td>220</td><td>220</td><td>cc0</td><td>0</td><td>0</td></tr>\n",
       "<tr><td>303.599763</td><td>36.664852</td><td>20142394+3639534</td><td>15.337</td><td>0.058</td><td>14.846</td><td>0.071</td><td>14.534</td><td>0.127</td><td>AAB</td><td>222</td><td>222</td><td>ccc</td><td>0</td><td>0</td></tr>\n",
       "<tr><td>303.597829</td><td>36.661999</td><td>20142347+3639431</td><td>15.325</td><td>0.058</td><td>15.303</td><td>0.110</td><td>14.766</td><td>--</td><td>ABU</td><td>220</td><td>110</td><td>s00</td><td>0</td><td>0</td></tr>\n",
       "<tr><td>303.611083</td><td>36.682590</td><td>20142665+3640573</td><td>15.570</td><td>0.077</td><td>14.563</td><td>0.057</td><td>14.296</td><td>0.103</td><td>AAA</td><td>222</td><td>111</td><td>000</td><td>0</td><td>0</td></tr>\n",
       "<tr><td>303.600128</td><td>36.683620</td><td>20142403+3641010</td><td>16.354</td><td>0.154</td><td>15.784</td><td>--</td><td>15.015</td><td>--</td><td>BUU</td><td>200</td><td>200</td><td>c00</td><td>0</td><td>0</td></tr>\n",
       "<tr><td>303.603565</td><td>36.686028</td><td>20142485+3641097</td><td>14.041</td><td>--</td><td>13.882</td><td>0.044</td><td>13.358</td><td>0.052</td><td>UAA</td><td>022</td><td>022</td><td>0cc</td><td>0</td><td>0</td></tr>\n",
       "<tr><td>303.601661</td><td>36.665173</td><td>20142439+3639546</td><td>14.866</td><td>0.053</td><td>14.555</td><td>0.076</td><td>14.222</td><td>0.104</td><td>AAA</td><td>222</td><td>333</td><td>ccc</td><td>0</td><td>0</td></tr>\n",
       "<tr><td>303.603385</td><td>36.663891</td><td>20142481+3639500</td><td>16.264</td><td>0.134</td><td>15.638</td><td>--</td><td>15.567</td><td>--</td><td>BUU</td><td>200</td><td>100</td><td>000</td><td>0</td><td>0</td></tr>\n",
       "<tr><td>303.602870</td><td>36.674698</td><td>20142468+3640289</td><td>13.727</td><td>0.026</td><td>13.398</td><td>0.030</td><td>13.209</td><td>0.047</td><td>AAA</td><td>222</td><td>111</td><td>s00</td><td>0</td><td>0</td></tr>\n",
       "<tr><td>303.602029</td><td>36.683361</td><td>20142448+3641000</td><td>16.016</td><td>0.111</td><td>15.517</td><td>0.124</td><td>14.594</td><td>--</td><td>BBU</td><td>220</td><td>210</td><td>c00</td><td>0</td><td>0</td></tr>\n",
       "<tr><td>303.601007</td><td>36.667053</td><td>20142424+3640013</td><td>14.922</td><td>0.050</td><td>14.304</td><td>0.068</td><td>13.873</td><td>0.110</td><td>AAB</td><td>222</td><td>222</td><td>ccc</td><td>0</td><td>0</td></tr>\n",
       "<tr><td>303.600459</td><td>36.665955</td><td>20142411+3639574</td><td>14.406</td><td>0.074</td><td>13.903</td><td>0.095</td><td>13.661</td><td>0.089</td><td>AAA</td><td>222</td><td>444</td><td>ccc</td><td>0</td><td>0</td></tr>\n",
       "<tr><td>303.613552</td><td>36.681854</td><td>20142725+3640546</td><td>15.976</td><td>0.099</td><td>14.372</td><td>--</td><td>14.078</td><td>--</td><td>AUU</td><td>200</td><td>200</td><td>c00</td><td>0</td><td>0</td></tr>\n",
       "</table></div>"
      ],
      "text/plain": [
       "<Table length=50>\n",
       " RAJ2000    DEJ2000        _2MASS        Jmag   e_Jmag   Hmag   e_Hmag   Kmag   e_Kmag Qflg Rflg Bflg Cflg  Xflg  Aflg\n",
       "   deg        deg                        mag     mag     mag     mag     mag     mag                                  \n",
       " float64    float64        str17       float32 float32 float32 float32 float32 float32 str3 str3 str3 str3 uint8 uint8\n",
       "---------- ---------- ---------------- ------- ------- ------- ------- ------- ------- ---- ---- ---- ---- ----- -----\n",
       "303.538167  36.677807 20140916+3640401  15.647   0.076  13.312      --  12.970      --  AUU  266  200  c00     0     0\n",
       "303.538372  36.685192 20140920+3641066  14.804   0.043  14.686   0.059  14.523   0.123  AAB  222  111  000     0     0\n",
       "303.538863  36.678677 20140932+3640432  15.282   0.070  14.066   0.119  12.900      --  AEU  226  310  cc0     0     0\n",
       "303.539549  36.677696 20140949+3640397  14.205   0.042  12.847      --  12.491      --  AUU  266  300  c00     0     0\n",
       "303.542784  36.686577 20141026+3641116  15.635   0.091  15.303   0.119  14.413      --  ABU  220  220  cc0     0     0\n",
       "303.541583  36.684486 20140997+3641041  15.103   0.054  14.522   0.054  14.500   0.120  AAB  222  222  ccc     0     0\n",
       "303.531940  36.685341 20140766+3641072  15.884   0.104  14.975   0.083  14.672   0.143  AAB  222  111  000     0     0\n",
       "303.533619  36.686661 20140806+3641119  16.161   0.131  15.123      --  14.714      --  BUU  200  100  000     0     0\n",
       "303.532804  36.680019 20140787+3640480  13.686   0.024  12.672   0.023  12.264   0.028  AAA  222  111  000     0     0\n",
       "303.543273  36.685055 20141038+3641061  13.291   0.029  12.848   0.033  12.730   0.042  AAA  222  332  ccc     0     0\n",
       "303.558082  36.676769 20141393+3640363  16.257   0.140  15.561   0.134  14.916      --  BBU  220  110  c00     0     0\n",
       "303.556129  36.673916 20141347+3640260  13.769   0.031  13.395   0.031  13.197   0.048  AAA  222  111  000     0     0\n",
       "303.554209  36.679718 20141301+3640469  15.880   0.095  15.002   0.077  14.602      --  AAU  220  110  cc0     0     0\n",
       "303.561881  36.683559 20141485+3641008  16.055   0.117  15.720   0.152  15.080      --  BCU  220  110  cc0     0     0\n",
       "303.560713  36.686810 20141457+3641125  10.979   0.020  10.908   0.019  10.838   0.023  AAA  222  111  000     0     0\n",
       "303.561120  36.669415 20141466+3640098  15.065   0.047  14.712   0.059  14.591   0.132  AAB  222  111  000     0     0\n",
       "303.546124  36.683807 20141106+3641017  14.155   0.035  13.777   0.044  13.639   0.068  AAA  222  111  000     0     0\n",
       "303.548294  36.679398 20141159+3640458  14.787   0.041  14.742   0.095  14.574   0.141  AAB  222  111  ccc     0     0\n",
       "303.547779  36.686806 20141146+3641125  14.644   0.044  13.918      --  13.567      --  AUU  266  200  c00     0     0\n",
       "303.546824  36.685658 20141123+3641083  16.006   0.117  14.690      --  14.300      --  BUU  266  200  c00     0     0\n",
       "303.549030  36.683964 20141176+3641022  15.003   0.053  13.946   0.037  13.449   0.056  AAA  222  111  000     0     0\n",
       "303.553847  36.673050 20141292+3640229  15.863   0.104  15.416   0.116  15.091      --  ABU  220  110  cc0     0     0\n",
       "303.553552  36.675362 20141285+3640313  14.896   0.048  14.386   0.051  14.212   0.096  AAA  222  111  s0c     0     0\n",
       "303.551359  36.678711 20141232+3640433  11.604   0.020  10.538   0.018  10.170   0.022  AAA  222  111  000     0     0\n",
       "303.528501  36.683392 20140684+3641002  15.645   0.083  14.637   0.064  13.952   0.074  AAA  222  122  ccc     0     0\n",
       "303.522752  36.687328 20140546+3641143  15.693   0.086  15.216   0.106  14.889   0.161  AAC  222  111  00c     0     0\n",
       "303.606430  36.680923 20142554+3640513  14.641   0.043  13.026   0.027  12.317   0.031  AAA  222  222  ccc     0     0\n",
       "303.608802  36.659523 20142611+3639342  16.354   0.136  15.509      --  15.496      --  BUU  200  200  c00     0     0\n",
       "303.606343  36.658783 20142552+3639316  15.707   0.082  15.165   0.089  14.726      --  AAU  220  120  0c0     0     0\n",
       "303.608997  36.674160 20142615+3640269  13.679   0.025  12.509   0.023  12.002   0.028  AAA  222  111  000     0     0\n",
       "303.610891  36.665157 20142661+3639545  15.695   0.125  12.801      --  12.296      --  BUU  200  100  c00     0     0\n",
       "303.604782  36.680527 20142514+3640498  13.571   0.037  12.520   0.046  12.070   0.052  AAA  222  222  ccc     0     0\n",
       "303.610598  36.657486 20142654+3639269  16.375   0.151  15.528      --  14.863      --  BUU  200  200  c00     0     0\n",
       "303.609075  36.684578 20142617+3641044  15.903   0.099  15.245   0.098  14.732   0.152  AAB  222  111  000     0     0\n",
       "303.610034  36.658573 20142640+3639308  16.394   0.145  15.229      --  15.230      --  BUU  200  200  c00     0     0\n",
       "303.603815  36.687065 20142491+3641134  14.157   0.040  12.868   0.045  12.273   0.043  AAA  222  122  0cc     0     0\n",
       "303.598484  36.677956 20142363+3640406  14.806   0.041  13.422   0.030  12.840   0.038  AAA  222  111  000     0     0\n",
       "303.598109  36.667263 20142354+3640021  15.821   0.110  15.319   0.150  14.293      --  BBU  220  220  cc0     0     0\n",
       "303.599763  36.664852 20142394+3639534  15.337   0.058  14.846   0.071  14.534   0.127  AAB  222  222  ccc     0     0\n",
       "303.597829  36.661999 20142347+3639431  15.325   0.058  15.303   0.110  14.766      --  ABU  220  110  s00     0     0\n",
       "303.611083  36.682590 20142665+3640573  15.570   0.077  14.563   0.057  14.296   0.103  AAA  222  111  000     0     0\n",
       "303.600128  36.683620 20142403+3641010  16.354   0.154  15.784      --  15.015      --  BUU  200  200  c00     0     0\n",
       "303.603565  36.686028 20142485+3641097  14.041      --  13.882   0.044  13.358   0.052  UAA  022  022  0cc     0     0\n",
       "303.601661  36.665173 20142439+3639546  14.866   0.053  14.555   0.076  14.222   0.104  AAA  222  333  ccc     0     0\n",
       "303.603385  36.663891 20142481+3639500  16.264   0.134  15.638      --  15.567      --  BUU  200  100  000     0     0\n",
       "303.602870  36.674698 20142468+3640289  13.727   0.026  13.398   0.030  13.209   0.047  AAA  222  111  s00     0     0\n",
       "303.602029  36.683361 20142448+3641000  16.016   0.111  15.517   0.124  14.594      --  BBU  220  210  c00     0     0\n",
       "303.601007  36.667053 20142424+3640013  14.922   0.050  14.304   0.068  13.873   0.110  AAB  222  222  ccc     0     0\n",
       "303.600459  36.665955 20142411+3639574  14.406   0.074  13.903   0.095  13.661   0.089  AAA  222  444  ccc     0     0\n",
       "303.613552  36.681854 20142725+3640546  15.976   0.099  14.372      --  14.078      --  AUU  200  200  c00     0     0"
      ]
     },
     "execution_count": 129,
     "metadata": {},
     "output_type": "execute_result"
    }
   ],
   "source": [
    "#from astroquery.vizier import Vizier #already imported this\n",
    "#from astroquery.coordinates import Angle #already imported this\n",
    "\n",
    "result5=Vizier.query_region(\"HIP 99770\",radius=Angle(0.15,\"deg\"),catalog='II/246/out')\n",
    "result5[0]"
   ]
  },
  {
   "cell_type": "markdown",
   "id": "a34a4f4f",
   "metadata": {},
   "source": [
    "Now, if you look at this table you and you know anything about the star we are querying around, you immediately see a problem. Namely, we do not see our star listed (it should be about magnitude 4.5 in each 2MASS passband).\n",
    "\n",
    "You also see the Table size is 50 (50 entries).   If you make the search radius larger you _still_ get 50 entries. \n",
    "\n",
    "What's happening here is that a) there are a lot of objects within our search radius and b) astroquery is truncating the entries to 50.  \n",
    "\n",
    "So we must modify our querying ...\n",
    "\n",
    "First, one thing we can do is tell astroquery to return _all_ row values"
   ]
  },
  {
   "cell_type": "code",
   "execution_count": 145,
   "id": "59db4d5e",
   "metadata": {},
   "outputs": [
    {
     "data": {
      "text/html": [
       "<div><i>Table length=4988</i>\n",
       "<table id=\"table4905168528\" class=\"table-striped table-bordered table-condensed\">\n",
       "<thead><tr><th>RAJ2000</th><th>DEJ2000</th><th>_2MASS</th><th>Jmag</th><th>e_Jmag</th><th>Hmag</th><th>e_Hmag</th><th>Kmag</th><th>e_Kmag</th><th>Qflg</th><th>Rflg</th><th>Bflg</th><th>Cflg</th><th>Xflg</th><th>Aflg</th></tr></thead>\n",
       "<thead><tr><th>deg</th><th>deg</th><th></th><th>mag</th><th>mag</th><th>mag</th><th>mag</th><th>mag</th><th>mag</th><th></th><th></th><th></th><th></th><th></th><th></th></tr></thead>\n",
       "<thead><tr><th>float64</th><th>float64</th><th>str17</th><th>float32</th><th>float32</th><th>float32</th><th>float32</th><th>float32</th><th>float32</th><th>str3</th><th>str3</th><th>str3</th><th>str3</th><th>uint8</th><th>uint8</th></tr></thead>\n",
       "<tr><td>303.538167</td><td>36.677807</td><td>20140916+3640401</td><td>15.647</td><td>0.076</td><td>13.312</td><td>--</td><td>12.970</td><td>--</td><td>AUU</td><td>266</td><td>200</td><td>c00</td><td>0</td><td>0</td></tr>\n",
       "<tr><td>303.538372</td><td>36.685192</td><td>20140920+3641066</td><td>14.804</td><td>0.043</td><td>14.686</td><td>0.059</td><td>14.523</td><td>0.123</td><td>AAB</td><td>222</td><td>111</td><td>000</td><td>0</td><td>0</td></tr>\n",
       "<tr><td>303.538863</td><td>36.678677</td><td>20140932+3640432</td><td>15.282</td><td>0.070</td><td>14.066</td><td>0.119</td><td>12.900</td><td>--</td><td>AEU</td><td>226</td><td>310</td><td>cc0</td><td>0</td><td>0</td></tr>\n",
       "<tr><td>303.539549</td><td>36.677696</td><td>20140949+3640397</td><td>14.205</td><td>0.042</td><td>12.847</td><td>--</td><td>12.491</td><td>--</td><td>AUU</td><td>266</td><td>300</td><td>c00</td><td>0</td><td>0</td></tr>\n",
       "<tr><td>303.542784</td><td>36.686577</td><td>20141026+3641116</td><td>15.635</td><td>0.091</td><td>15.303</td><td>0.119</td><td>14.413</td><td>--</td><td>ABU</td><td>220</td><td>220</td><td>cc0</td><td>0</td><td>0</td></tr>\n",
       "<tr><td>303.541583</td><td>36.684486</td><td>20140997+3641041</td><td>15.103</td><td>0.054</td><td>14.522</td><td>0.054</td><td>14.500</td><td>0.120</td><td>AAB</td><td>222</td><td>222</td><td>ccc</td><td>0</td><td>0</td></tr>\n",
       "<tr><td>303.531940</td><td>36.685341</td><td>20140766+3641072</td><td>15.884</td><td>0.104</td><td>14.975</td><td>0.083</td><td>14.672</td><td>0.143</td><td>AAB</td><td>222</td><td>111</td><td>000</td><td>0</td><td>0</td></tr>\n",
       "<tr><td>303.533619</td><td>36.686661</td><td>20140806+3641119</td><td>16.161</td><td>0.131</td><td>15.123</td><td>--</td><td>14.714</td><td>--</td><td>BUU</td><td>200</td><td>100</td><td>000</td><td>0</td><td>0</td></tr>\n",
       "<tr><td>303.532804</td><td>36.680019</td><td>20140787+3640480</td><td>13.686</td><td>0.024</td><td>12.672</td><td>0.023</td><td>12.264</td><td>0.028</td><td>AAA</td><td>222</td><td>111</td><td>000</td><td>0</td><td>0</td></tr>\n",
       "<tr><td>303.543273</td><td>36.685055</td><td>20141038+3641061</td><td>13.291</td><td>0.029</td><td>12.848</td><td>0.033</td><td>12.730</td><td>0.042</td><td>AAA</td><td>222</td><td>332</td><td>ccc</td><td>0</td><td>0</td></tr>\n",
       "<tr><td>303.558082</td><td>36.676769</td><td>20141393+3640363</td><td>16.257</td><td>0.140</td><td>15.561</td><td>0.134</td><td>14.916</td><td>--</td><td>BBU</td><td>220</td><td>110</td><td>c00</td><td>0</td><td>0</td></tr>\n",
       "<tr><td>303.556129</td><td>36.673916</td><td>20141347+3640260</td><td>13.769</td><td>0.031</td><td>13.395</td><td>0.031</td><td>13.197</td><td>0.048</td><td>AAA</td><td>222</td><td>111</td><td>000</td><td>0</td><td>0</td></tr>\n",
       "<tr><td>303.554209</td><td>36.679718</td><td>20141301+3640469</td><td>15.880</td><td>0.095</td><td>15.002</td><td>0.077</td><td>14.602</td><td>--</td><td>AAU</td><td>220</td><td>110</td><td>cc0</td><td>0</td><td>0</td></tr>\n",
       "<tr><td>303.561881</td><td>36.683559</td><td>20141485+3641008</td><td>16.055</td><td>0.117</td><td>15.720</td><td>0.152</td><td>15.080</td><td>--</td><td>BCU</td><td>220</td><td>110</td><td>cc0</td><td>0</td><td>0</td></tr>\n",
       "<tr><td>303.560713</td><td>36.686810</td><td>20141457+3641125</td><td>10.979</td><td>0.020</td><td>10.908</td><td>0.019</td><td>10.838</td><td>0.023</td><td>AAA</td><td>222</td><td>111</td><td>000</td><td>0</td><td>0</td></tr>\n",
       "<tr><td>303.561120</td><td>36.669415</td><td>20141466+3640098</td><td>15.065</td><td>0.047</td><td>14.712</td><td>0.059</td><td>14.591</td><td>0.132</td><td>AAB</td><td>222</td><td>111</td><td>000</td><td>0</td><td>0</td></tr>\n",
       "<tr><td>303.546124</td><td>36.683807</td><td>20141106+3641017</td><td>14.155</td><td>0.035</td><td>13.777</td><td>0.044</td><td>13.639</td><td>0.068</td><td>AAA</td><td>222</td><td>111</td><td>000</td><td>0</td><td>0</td></tr>\n",
       "<tr><td>303.548294</td><td>36.679398</td><td>20141159+3640458</td><td>14.787</td><td>0.041</td><td>14.742</td><td>0.095</td><td>14.574</td><td>0.141</td><td>AAB</td><td>222</td><td>111</td><td>ccc</td><td>0</td><td>0</td></tr>\n",
       "<tr><td>303.547779</td><td>36.686806</td><td>20141146+3641125</td><td>14.644</td><td>0.044</td><td>13.918</td><td>--</td><td>13.567</td><td>--</td><td>AUU</td><td>266</td><td>200</td><td>c00</td><td>0</td><td>0</td></tr>\n",
       "<tr><td>303.546824</td><td>36.685658</td><td>20141123+3641083</td><td>16.006</td><td>0.117</td><td>14.690</td><td>--</td><td>14.300</td><td>--</td><td>BUU</td><td>266</td><td>200</td><td>c00</td><td>0</td><td>0</td></tr>\n",
       "<tr><td>303.549030</td><td>36.683964</td><td>20141176+3641022</td><td>15.003</td><td>0.053</td><td>13.946</td><td>0.037</td><td>13.449</td><td>0.056</td><td>AAA</td><td>222</td><td>111</td><td>000</td><td>0</td><td>0</td></tr>\n",
       "<tr><td>303.553847</td><td>36.673050</td><td>20141292+3640229</td><td>15.863</td><td>0.104</td><td>15.416</td><td>0.116</td><td>15.091</td><td>--</td><td>ABU</td><td>220</td><td>110</td><td>cc0</td><td>0</td><td>0</td></tr>\n",
       "<tr><td>303.553552</td><td>36.675362</td><td>20141285+3640313</td><td>14.896</td><td>0.048</td><td>14.386</td><td>0.051</td><td>14.212</td><td>0.096</td><td>AAA</td><td>222</td><td>111</td><td>s0c</td><td>0</td><td>0</td></tr>\n",
       "<tr><td>303.551359</td><td>36.678711</td><td>20141232+3640433</td><td>11.604</td><td>0.020</td><td>10.538</td><td>0.018</td><td>10.170</td><td>0.022</td><td>AAA</td><td>222</td><td>111</td><td>000</td><td>0</td><td>0</td></tr>\n",
       "<tr><td>303.528501</td><td>36.683392</td><td>20140684+3641002</td><td>15.645</td><td>0.083</td><td>14.637</td><td>0.064</td><td>13.952</td><td>0.074</td><td>AAA</td><td>222</td><td>122</td><td>ccc</td><td>0</td><td>0</td></tr>\n",
       "<tr><td>303.522752</td><td>36.687328</td><td>20140546+3641143</td><td>15.693</td><td>0.086</td><td>15.216</td><td>0.106</td><td>14.889</td><td>0.161</td><td>AAC</td><td>222</td><td>111</td><td>00c</td><td>0</td><td>0</td></tr>\n",
       "<tr><td>...</td><td>...</td><td>...</td><td>...</td><td>...</td><td>...</td><td>...</td><td>...</td><td>...</td><td>...</td><td>...</td><td>...</td><td>...</td><td>...</td><td>...</td></tr>\n",
       "<tr><td>303.654224</td><td>36.946987</td><td>20143701+3656491</td><td>12.634</td><td>0.027</td><td>11.792</td><td>0.025</td><td>11.523</td><td>0.024</td><td>AAA</td><td>222</td><td>222</td><td>ccc</td><td>0</td><td>0</td></tr>\n",
       "<tr><td>303.655732</td><td>36.946419</td><td>20143737+3656471</td><td>14.179</td><td>0.038</td><td>13.759</td><td>0.048</td><td>13.644</td><td>0.058</td><td>AAA</td><td>222</td><td>333</td><td>ccc</td><td>0</td><td>0</td></tr>\n",
       "<tr><td>303.652754</td><td>36.953438</td><td>20143666+3657123</td><td>15.084</td><td>0.044</td><td>14.639</td><td>0.067</td><td>14.505</td><td>0.108</td><td>AAA</td><td>222</td><td>111</td><td>000</td><td>0</td><td>0</td></tr>\n",
       "<tr><td>303.652554</td><td>36.942402</td><td>20143661+3656326</td><td>16.371</td><td>0.120</td><td>16.299</td><td>--</td><td>16.520</td><td>--</td><td>BUU</td><td>200</td><td>100</td><td>c00</td><td>0</td><td>0</td></tr>\n",
       "<tr><td>303.657630</td><td>36.945518</td><td>20143783+3656438</td><td>16.155</td><td>0.102</td><td>15.679</td><td>0.150</td><td>15.185</td><td>--</td><td>ACU</td><td>220</td><td>110</td><td>cc0</td><td>0</td><td>0</td></tr>\n",
       "<tr><td>303.656192</td><td>36.943027</td><td>20143748+3656348</td><td>14.827</td><td>0.042</td><td>14.323</td><td>0.055</td><td>14.137</td><td>0.079</td><td>AAA</td><td>222</td><td>111</td><td>000</td><td>0</td><td>0</td></tr>\n",
       "<tr><td>303.657143</td><td>36.947178</td><td>20143771+3656498</td><td>15.350</td><td>0.059</td><td>14.882</td><td>0.084</td><td>14.612</td><td>0.121</td><td>AAB</td><td>222</td><td>222</td><td>ccc</td><td>0</td><td>0</td></tr>\n",
       "<tr><td>303.645498</td><td>36.955875</td><td>20143491+3657211</td><td>15.752</td><td>0.077</td><td>15.221</td><td>0.108</td><td>14.729</td><td>--</td><td>AAU</td><td>220</td><td>110</td><td>cc0</td><td>0</td><td>0</td></tr>\n",
       "<tr><td>303.648426</td><td>36.953323</td><td>20143562+3657119</td><td>15.963</td><td>0.093</td><td>14.874</td><td>0.075</td><td>14.528</td><td>0.106</td><td>AAB</td><td>222</td><td>111</td><td>c00</td><td>0</td><td>0</td></tr>\n",
       "<tr><td>303.645614</td><td>36.953312</td><td>20143494+3657119</td><td>16.014</td><td>0.095</td><td>14.513</td><td>--</td><td>14.212</td><td>--</td><td>AUU</td><td>266</td><td>200</td><td>c00</td><td>0</td><td>0</td></tr>\n",
       "<tr><td>303.650332</td><td>36.943806</td><td>20143607+3656377</td><td>14.089</td><td>0.043</td><td>13.569</td><td>0.042</td><td>13.409</td><td>0.053</td><td>AAA</td><td>222</td><td>212</td><td>cpp</td><td>0</td><td>0</td></tr>\n",
       "<tr><td>303.649768</td><td>36.946732</td><td>20143594+3656482</td><td>14.620</td><td>0.039</td><td>13.662</td><td>0.039</td><td>13.383</td><td>0.044</td><td>AAA</td><td>222</td><td>111</td><td>000</td><td>0</td><td>0</td></tr>\n",
       "<tr><td>303.644732</td><td>36.952198</td><td>20143473+3657079</td><td>14.437</td><td>0.034</td><td>13.810</td><td>--</td><td>13.612</td><td>--</td><td>AUU</td><td>266</td><td>200</td><td>c00</td><td>0</td><td>0</td></tr>\n",
       "<tr><td>303.649420</td><td>36.940002</td><td>20143586+3656240</td><td>15.879</td><td>0.084</td><td>15.052</td><td>0.091</td><td>14.949</td><td>0.155</td><td>AAC</td><td>222</td><td>111</td><td>000</td><td>0</td><td>0</td></tr>\n",
       "<tr><td>303.649280</td><td>36.942486</td><td>20143582+3656329</td><td>14.472</td><td>0.032</td><td>14.112</td><td>0.037</td><td>13.944</td><td>0.063</td><td>AAA</td><td>222</td><td>212</td><td>c0c</td><td>0</td><td>0</td></tr>\n",
       "<tr><td>303.700655</td><td>36.944511</td><td>20144815+3656402</td><td>16.333</td><td>0.119</td><td>15.349</td><td>--</td><td>15.039</td><td>--</td><td>BUU</td><td>200</td><td>100</td><td>000</td><td>0</td><td>0</td></tr>\n",
       "<tr><td>303.689599</td><td>36.944996</td><td>20144550+3656419</td><td>14.364</td><td>0.027</td><td>13.972</td><td>0.032</td><td>13.803</td><td>0.056</td><td>AAA</td><td>222</td><td>111</td><td>000</td><td>0</td><td>0</td></tr>\n",
       "<tr><td>303.688258</td><td>36.941399</td><td>20144518+3656290</td><td>16.483</td><td>0.127</td><td>15.618</td><td>0.127</td><td>15.681</td><td>--</td><td>BBU</td><td>220</td><td>110</td><td>000</td><td>0</td><td>0</td></tr>\n",
       "<tr><td>303.690399</td><td>36.942844</td><td>20144569+3656342</td><td>16.177</td><td>0.105</td><td>15.869</td><td>0.174</td><td>15.712</td><td>--</td><td>ACU</td><td>220</td><td>110</td><td>000</td><td>0</td><td>0</td></tr>\n",
       "<tr><td>303.694677</td><td>36.940552</td><td>20144672+3656259</td><td>15.081</td><td>0.042</td><td>14.602</td><td>0.057</td><td>14.321</td><td>0.090</td><td>AAA</td><td>222</td><td>111</td><td>000</td><td>0</td><td>0</td></tr>\n",
       "<tr><td>303.693454</td><td>36.944763</td><td>20144642+3656411</td><td>15.734</td><td>0.076</td><td>15.022</td><td>0.084</td><td>14.570</td><td>--</td><td>AAU</td><td>220</td><td>110</td><td>000</td><td>0</td><td>0</td></tr>\n",
       "<tr><td>303.693770</td><td>36.946514</td><td>20144650+3656474</td><td>14.936</td><td>0.047</td><td>14.402</td><td>0.063</td><td>14.198</td><td>0.089</td><td>AAA</td><td>222</td><td>111</td><td>000</td><td>0</td><td>0</td></tr>\n",
       "<tr><td>303.693148</td><td>36.942577</td><td>20144635+3656332</td><td>15.961</td><td>0.087</td><td>15.503</td><td>0.121</td><td>15.471</td><td>--</td><td>ABU</td><td>220</td><td>110</td><td>000</td><td>0</td><td>0</td></tr>\n",
       "<tr><td>303.692428</td><td>36.938820</td><td>20144618+3656197</td><td>16.164</td><td>0.100</td><td>15.476</td><td>0.116</td><td>15.288</td><td>--</td><td>ABU</td><td>220</td><td>110</td><td>000</td><td>0</td><td>0</td></tr>\n",
       "<tr><td>303.710483</td><td>36.941029</td><td>20145051+3656277</td><td>16.416</td><td>0.121</td><td>15.045</td><td>--</td><td>14.938</td><td>--</td><td>BUU</td><td>266</td><td>200</td><td>c00</td><td>0</td><td>0</td></tr>\n",
       "<tr><td>303.710205</td><td>36.939713</td><td>20145044+3656229</td><td>15.231</td><td>0.048</td><td>14.064</td><td>--</td><td>13.640</td><td>--</td><td>AUU</td><td>266</td><td>200</td><td>c00</td><td>0</td><td>0</td></tr>\n",
       "</table></div>"
      ],
      "text/plain": [
       "<Table length=4988>\n",
       " RAJ2000    DEJ2000        _2MASS        Jmag   e_Jmag   Hmag   e_Hmag   Kmag   e_Kmag Qflg Rflg Bflg Cflg  Xflg  Aflg\n",
       "   deg        deg                        mag     mag     mag     mag     mag     mag                                  \n",
       " float64    float64        str17       float32 float32 float32 float32 float32 float32 str3 str3 str3 str3 uint8 uint8\n",
       "---------- ---------- ---------------- ------- ------- ------- ------- ------- ------- ---- ---- ---- ---- ----- -----\n",
       "303.538167  36.677807 20140916+3640401  15.647   0.076  13.312      --  12.970      --  AUU  266  200  c00     0     0\n",
       "303.538372  36.685192 20140920+3641066  14.804   0.043  14.686   0.059  14.523   0.123  AAB  222  111  000     0     0\n",
       "303.538863  36.678677 20140932+3640432  15.282   0.070  14.066   0.119  12.900      --  AEU  226  310  cc0     0     0\n",
       "303.539549  36.677696 20140949+3640397  14.205   0.042  12.847      --  12.491      --  AUU  266  300  c00     0     0\n",
       "303.542784  36.686577 20141026+3641116  15.635   0.091  15.303   0.119  14.413      --  ABU  220  220  cc0     0     0\n",
       "303.541583  36.684486 20140997+3641041  15.103   0.054  14.522   0.054  14.500   0.120  AAB  222  222  ccc     0     0\n",
       "303.531940  36.685341 20140766+3641072  15.884   0.104  14.975   0.083  14.672   0.143  AAB  222  111  000     0     0\n",
       "303.533619  36.686661 20140806+3641119  16.161   0.131  15.123      --  14.714      --  BUU  200  100  000     0     0\n",
       "303.532804  36.680019 20140787+3640480  13.686   0.024  12.672   0.023  12.264   0.028  AAA  222  111  000     0     0\n",
       "303.543273  36.685055 20141038+3641061  13.291   0.029  12.848   0.033  12.730   0.042  AAA  222  332  ccc     0     0\n",
       "303.558082  36.676769 20141393+3640363  16.257   0.140  15.561   0.134  14.916      --  BBU  220  110  c00     0     0\n",
       "303.556129  36.673916 20141347+3640260  13.769   0.031  13.395   0.031  13.197   0.048  AAA  222  111  000     0     0\n",
       "303.554209  36.679718 20141301+3640469  15.880   0.095  15.002   0.077  14.602      --  AAU  220  110  cc0     0     0\n",
       "303.561881  36.683559 20141485+3641008  16.055   0.117  15.720   0.152  15.080      --  BCU  220  110  cc0     0     0\n",
       "303.560713  36.686810 20141457+3641125  10.979   0.020  10.908   0.019  10.838   0.023  AAA  222  111  000     0     0\n",
       "303.561120  36.669415 20141466+3640098  15.065   0.047  14.712   0.059  14.591   0.132  AAB  222  111  000     0     0\n",
       "303.546124  36.683807 20141106+3641017  14.155   0.035  13.777   0.044  13.639   0.068  AAA  222  111  000     0     0\n",
       "303.548294  36.679398 20141159+3640458  14.787   0.041  14.742   0.095  14.574   0.141  AAB  222  111  ccc     0     0\n",
       "303.547779  36.686806 20141146+3641125  14.644   0.044  13.918      --  13.567      --  AUU  266  200  c00     0     0\n",
       "303.546824  36.685658 20141123+3641083  16.006   0.117  14.690      --  14.300      --  BUU  266  200  c00     0     0\n",
       "303.549030  36.683964 20141176+3641022  15.003   0.053  13.946   0.037  13.449   0.056  AAA  222  111  000     0     0\n",
       "303.553847  36.673050 20141292+3640229  15.863   0.104  15.416   0.116  15.091      --  ABU  220  110  cc0     0     0\n",
       "303.553552  36.675362 20141285+3640313  14.896   0.048  14.386   0.051  14.212   0.096  AAA  222  111  s0c     0     0\n",
       "303.551359  36.678711 20141232+3640433  11.604   0.020  10.538   0.018  10.170   0.022  AAA  222  111  000     0     0\n",
       "303.528501  36.683392 20140684+3641002  15.645   0.083  14.637   0.064  13.952   0.074  AAA  222  122  ccc     0     0\n",
       "303.522752  36.687328 20140546+3641143  15.693   0.086  15.216   0.106  14.889   0.161  AAC  222  111  00c     0     0\n",
       "       ...        ...              ...     ...     ...     ...     ...     ...     ...  ...  ...  ...  ...   ...   ...\n",
       "303.654224  36.946987 20143701+3656491  12.634   0.027  11.792   0.025  11.523   0.024  AAA  222  222  ccc     0     0\n",
       "303.655732  36.946419 20143737+3656471  14.179   0.038  13.759   0.048  13.644   0.058  AAA  222  333  ccc     0     0\n",
       "303.652754  36.953438 20143666+3657123  15.084   0.044  14.639   0.067  14.505   0.108  AAA  222  111  000     0     0\n",
       "303.652554  36.942402 20143661+3656326  16.371   0.120  16.299      --  16.520      --  BUU  200  100  c00     0     0\n",
       "303.657630  36.945518 20143783+3656438  16.155   0.102  15.679   0.150  15.185      --  ACU  220  110  cc0     0     0\n",
       "303.656192  36.943027 20143748+3656348  14.827   0.042  14.323   0.055  14.137   0.079  AAA  222  111  000     0     0\n",
       "303.657143  36.947178 20143771+3656498  15.350   0.059  14.882   0.084  14.612   0.121  AAB  222  222  ccc     0     0\n",
       "303.645498  36.955875 20143491+3657211  15.752   0.077  15.221   0.108  14.729      --  AAU  220  110  cc0     0     0\n",
       "303.648426  36.953323 20143562+3657119  15.963   0.093  14.874   0.075  14.528   0.106  AAB  222  111  c00     0     0\n",
       "303.645614  36.953312 20143494+3657119  16.014   0.095  14.513      --  14.212      --  AUU  266  200  c00     0     0\n",
       "303.650332  36.943806 20143607+3656377  14.089   0.043  13.569   0.042  13.409   0.053  AAA  222  212  cpp     0     0\n",
       "303.649768  36.946732 20143594+3656482  14.620   0.039  13.662   0.039  13.383   0.044  AAA  222  111  000     0     0\n",
       "303.644732  36.952198 20143473+3657079  14.437   0.034  13.810      --  13.612      --  AUU  266  200  c00     0     0\n",
       "303.649420  36.940002 20143586+3656240  15.879   0.084  15.052   0.091  14.949   0.155  AAC  222  111  000     0     0\n",
       "303.649280  36.942486 20143582+3656329  14.472   0.032  14.112   0.037  13.944   0.063  AAA  222  212  c0c     0     0\n",
       "303.700655  36.944511 20144815+3656402  16.333   0.119  15.349      --  15.039      --  BUU  200  100  000     0     0\n",
       "303.689599  36.944996 20144550+3656419  14.364   0.027  13.972   0.032  13.803   0.056  AAA  222  111  000     0     0\n",
       "303.688258  36.941399 20144518+3656290  16.483   0.127  15.618   0.127  15.681      --  BBU  220  110  000     0     0\n",
       "303.690399  36.942844 20144569+3656342  16.177   0.105  15.869   0.174  15.712      --  ACU  220  110  000     0     0\n",
       "303.694677  36.940552 20144672+3656259  15.081   0.042  14.602   0.057  14.321   0.090  AAA  222  111  000     0     0\n",
       "303.693454  36.944763 20144642+3656411  15.734   0.076  15.022   0.084  14.570      --  AAU  220  110  000     0     0\n",
       "303.693770  36.946514 20144650+3656474  14.936   0.047  14.402   0.063  14.198   0.089  AAA  222  111  000     0     0\n",
       "303.693148  36.942577 20144635+3656332  15.961   0.087  15.503   0.121  15.471      --  ABU  220  110  000     0     0\n",
       "303.692428  36.938820 20144618+3656197  16.164   0.100  15.476   0.116  15.288      --  ABU  220  110  000     0     0\n",
       "303.710483  36.941029 20145051+3656277  16.416   0.121  15.045      --  14.938      --  BUU  266  200  c00     0     0\n",
       "303.710205  36.939713 20145044+3656229  15.231   0.048  14.064      --  13.640      --  AUU  266  200  c00     0     0"
      ]
     },
     "execution_count": 145,
     "metadata": {},
     "output_type": "execute_result"
    }
   ],
   "source": [
    "Vizier.ROW_LIMIT = -1   #all values\n",
    "\n",
    "#Vizier.ROW_LIMIT = 50 #if we want to restore the default\n",
    "#Vizier.ROW_LIMIT = 100 #if we want to return 100 values\n",
    "\n",
    "result5b=Vizier.query_region(\"HIP 99770\",radius=Angle(0.15,\"deg\"),catalog='II/246/out')\n",
    "result5b[0]"
   ]
  },
  {
   "cell_type": "markdown",
   "id": "0f09ae0c",
   "metadata": {},
   "source": [
    "We can also return a _sorted_ table by adding a ``+`` or ``-`` in front of column names.   Let's sort on the J band magnitude."
   ]
  },
  {
   "cell_type": "code",
   "execution_count": 177,
   "id": "22f5852c",
   "metadata": {},
   "outputs": [
    {
     "data": {
      "text/html": [
       "<div><i>Table length=4988</i>\n",
       "<table id=\"table4853509728\" class=\"table-striped table-bordered table-condensed\">\n",
       "<thead><tr><th>RAJ2000</th><th>DEJ2000</th><th>_2MASS</th><th>Jmag</th><th>e_Jmag</th><th>Hmag</th><th>e_Hmag</th><th>Kmag</th><th>e_Kmag</th><th>Qflg</th><th>Rflg</th><th>Bflg</th><th>Cflg</th><th>Xflg</th><th>Aflg</th></tr></thead>\n",
       "<thead><tr><th>deg</th><th>deg</th><th></th><th>mag</th><th>mag</th><th>mag</th><th>mag</th><th>mag</th><th>mag</th><th></th><th></th><th></th><th></th><th></th><th></th></tr></thead>\n",
       "<thead><tr><th>float64</th><th>float64</th><th>str17</th><th>float32</th><th>float32</th><th>float32</th><th>float32</th><th>float32</th><th>float32</th><th>str3</th><th>str3</th><th>str3</th><th>str3</th><th>uint8</th><th>uint8</th></tr></thead>\n",
       "<tr><td>303.665097</td><td>36.752087</td><td>20143962+3645075</td><td>4.552</td><td>0.276</td><td>3.796</td><td>0.228</td><td>3.497</td><td>0.382</td><td>DDD</td><td>333</td><td>111</td><td>000</td><td>0</td><td>0</td></tr>\n",
       "<tr><td>303.633484</td><td>36.806255</td><td>20143203+3648225</td><td>4.886</td><td>0.306</td><td>4.688</td><td>0.242</td><td>4.422</td><td>0.017</td><td>DDA</td><td>331</td><td>111</td><td>000</td><td>0</td><td>0</td></tr>\n",
       "<tr><td>303.799735</td><td>36.863590</td><td>20151193+3651489</td><td>6.802</td><td>0.023</td><td>6.035</td><td>0.017</td><td>5.805</td><td>0.016</td><td>AAA</td><td>111</td><td>111</td><td>000</td><td>0</td><td>0</td></tr>\n",
       "<tr><td>303.632409</td><td>36.661018</td><td>20143177+3639396</td><td>6.980</td><td>0.027</td><td>6.767</td><td>0.017</td><td>6.185</td><td>0.016</td><td>AAA</td><td>111</td><td>111</td><td>000</td><td>0</td><td>0</td></tr>\n",
       "<tr><td>303.801214</td><td>36.769802</td><td>20151229+3646112</td><td>7.551</td><td>0.018</td><td>6.250</td><td>0.024</td><td>5.756</td><td>0.018</td><td>AAA</td><td>111</td><td>111</td><td>000</td><td>0</td><td>0</td></tr>\n",
       "<tr><td>303.638422</td><td>36.915199</td><td>20143322+3654547</td><td>8.341</td><td>0.020</td><td>7.445</td><td>0.021</td><td>7.126</td><td>0.018</td><td>AAA</td><td>111</td><td>111</td><td>000</td><td>0</td><td>0</td></tr>\n",
       "<tr><td>303.730587</td><td>36.722252</td><td>20145534+3643201</td><td>8.412</td><td>0.019</td><td>7.759</td><td>0.016</td><td>7.600</td><td>0.023</td><td>AAA</td><td>111</td><td>111</td><td>000</td><td>0</td><td>0</td></tr>\n",
       "<tr><td>303.687070</td><td>36.691135</td><td>20144489+3641280</td><td>8.585</td><td>0.018</td><td>7.444</td><td>0.016</td><td>7.054</td><td>0.016</td><td>AAA</td><td>111</td><td>111</td><td>000</td><td>0</td><td>0</td></tr>\n",
       "<tr><td>303.501693</td><td>36.779751</td><td>20140040+3646471</td><td>8.611</td><td>0.027</td><td>7.166</td><td>0.017</td><td>6.474</td><td>0.017</td><td>AAA</td><td>111</td><td>111</td><td>000</td><td>0</td><td>0</td></tr>\n",
       "<tr><td>303.630881</td><td>36.769279</td><td>20143141+3646094</td><td>8.641</td><td>0.024</td><td>7.387</td><td>0.020</td><td>6.864</td><td>0.016</td><td>AAA</td><td>111</td><td>111</td><td>000</td><td>0</td><td>0</td></tr>\n",
       "<tr><td>303.660843</td><td>36.861553</td><td>20143860+3651415</td><td>8.811</td><td>0.026</td><td>8.665</td><td>0.026</td><td>8.642</td><td>0.015</td><td>AAA</td><td>112</td><td>111</td><td>000</td><td>0</td><td>0</td></tr>\n",
       "<tr><td>303.674455</td><td>36.822105</td><td>20144186+3649195</td><td>8.816</td><td>0.020</td><td>8.081</td><td>0.018</td><td>7.851</td><td>0.015</td><td>AAA</td><td>112</td><td>111</td><td>s0s</td><td>0</td><td>0</td></tr>\n",
       "<tr><td>303.582506</td><td>36.944263</td><td>20141980+3656393</td><td>8.993</td><td>0.021</td><td>8.998</td><td>0.015</td><td>8.996</td><td>0.020</td><td>AAA</td><td>222</td><td>111</td><td>000</td><td>0</td><td>0</td></tr>\n",
       "<tr><td>303.570011</td><td>36.718445</td><td>20141680+3643064</td><td>9.081</td><td>0.020</td><td>7.671</td><td>0.020</td><td>7.093</td><td>0.017</td><td>AAA</td><td>211</td><td>111</td><td>000</td><td>0</td><td>0</td></tr>\n",
       "<tr><td>303.517851</td><td>36.918816</td><td>20140428+3655077</td><td>9.153</td><td>0.021</td><td>7.287</td><td>0.018</td><td>6.341</td><td>0.020</td><td>AAA</td><td>211</td><td>111</td><td>000</td><td>0</td><td>0</td></tr>\n",
       "<tr><td>303.639025</td><td>36.671207</td><td>20143336+3640163</td><td>9.173</td><td>0.030</td><td>8.591</td><td>0.020</td><td>8.410</td><td>0.015</td><td>AAA</td><td>112</td><td>111</td><td>000</td><td>0</td><td>0</td></tr>\n",
       "<tr><td>303.509660</td><td>36.801949</td><td>20140231+3648070</td><td>9.306</td><td>0.020</td><td>9.316</td><td>0.019</td><td>9.257</td><td>0.022</td><td>AAA</td><td>222</td><td>111</td><td>000</td><td>0</td><td>0</td></tr>\n",
       "<tr><td>303.730555</td><td>36.853554</td><td>20145533+3651127</td><td>9.338</td><td>0.021</td><td>9.245</td><td>0.018</td><td>9.200</td><td>0.015</td><td>AAA</td><td>222</td><td>111</td><td>000</td><td>0</td><td>0</td></tr>\n",
       "<tr><td>303.741286</td><td>36.833282</td><td>20145790+3649598</td><td>9.340</td><td>0.021</td><td>8.055</td><td>0.018</td><td>7.581</td><td>0.017</td><td>AAA</td><td>211</td><td>111</td><td>000</td><td>0</td><td>0</td></tr>\n",
       "<tr><td>303.744294</td><td>36.702522</td><td>20145863+3642090</td><td>9.352</td><td>0.019</td><td>8.352</td><td>0.018</td><td>8.051</td><td>0.015</td><td>AAA</td><td>212</td><td>111</td><td>000</td><td>0</td><td>0</td></tr>\n",
       "<tr><td>303.660464</td><td>36.874016</td><td>20143851+3652264</td><td>9.464</td><td>0.021</td><td>8.009</td><td>0.033</td><td>7.439</td><td>0.016</td><td>AAA</td><td>211</td><td>111</td><td>000</td><td>0</td><td>0</td></tr>\n",
       "<tr><td>303.629100</td><td>36.873882</td><td>20143098+3652259</td><td>9.598</td><td>0.021</td><td>8.989</td><td>0.018</td><td>8.781</td><td>0.015</td><td>AAA</td><td>222</td><td>111</td><td>000</td><td>0</td><td>0</td></tr>\n",
       "<tr><td>303.784785</td><td>36.780125</td><td>20150834+3646484</td><td>9.639</td><td>0.021</td><td>9.480</td><td>0.018</td><td>9.433</td><td>0.016</td><td>AAA</td><td>222</td><td>111</td><td>000</td><td>0</td><td>0</td></tr>\n",
       "<tr><td>303.473318</td><td>36.760235</td><td>20135359+3645368</td><td>9.691</td><td>0.020</td><td>8.399</td><td>0.027</td><td>7.883</td><td>0.020</td><td>AAA</td><td>212</td><td>111</td><td>000</td><td>0</td><td>0</td></tr>\n",
       "<tr><td>303.632119</td><td>36.857346</td><td>20143170+3651264</td><td>9.721</td><td>0.019</td><td>9.018</td><td>0.018</td><td>8.814</td><td>0.015</td><td>AAA</td><td>222</td><td>111</td><td>000</td><td>0</td><td>0</td></tr>\n",
       "<tr><td>303.454672</td><td>36.822319</td><td>20134912+3649203</td><td>9.759</td><td>0.020</td><td>9.117</td><td>0.017</td><td>8.904</td><td>0.022</td><td>AAA</td><td>222</td><td>111</td><td>ss0</td><td>0</td><td>0</td></tr>\n",
       "<tr><td>...</td><td>...</td><td>...</td><td>...</td><td>...</td><td>...</td><td>...</td><td>...</td><td>...</td><td>...</td><td>...</td><td>...</td><td>...</td><td>...</td><td>...</td></tr>\n",
       "<tr><td>303.668778</td><td>36.692711</td><td>20144050+3641337</td><td>17.206</td><td>--</td><td>15.527</td><td>0.137</td><td>14.671</td><td>--</td><td>UBU</td><td>020</td><td>010</td><td>0c0</td><td>0</td><td>0</td></tr>\n",
       "<tr><td>303.743800</td><td>36.744553</td><td>20145851+3644403</td><td>17.237</td><td>--</td><td>15.777</td><td>--</td><td>14.612</td><td>0.116</td><td>UUB</td><td>002</td><td>001</td><td>000</td><td>0</td><td>0</td></tr>\n",
       "<tr><td>303.764997</td><td>36.795033</td><td>20150359+3647421</td><td>17.296</td><td>--</td><td>15.556</td><td>0.134</td><td>14.962</td><td>0.163</td><td>UBC</td><td>022</td><td>011</td><td>000</td><td>0</td><td>0</td></tr>\n",
       "<tr><td>303.752221</td><td>36.713280</td><td>20150053+3642478</td><td>17.314</td><td>--</td><td>15.058</td><td>0.093</td><td>14.425</td><td>0.100</td><td>UAA</td><td>022</td><td>011</td><td>000</td><td>0</td><td>0</td></tr>\n",
       "<tr><td>303.575855</td><td>36.868790</td><td>20141820+3652076</td><td>17.326</td><td>--</td><td>15.680</td><td>0.147</td><td>15.260</td><td>--</td><td>UCU</td><td>020</td><td>010</td><td>000</td><td>0</td><td>0</td></tr>\n",
       "<tr><td>303.775801</td><td>36.882801</td><td>20150619+3652580</td><td>17.351</td><td>--</td><td>15.323</td><td>0.105</td><td>14.817</td><td>0.149</td><td>UBB</td><td>022</td><td>011</td><td>0c0</td><td>0</td><td>0</td></tr>\n",
       "<tr><td>303.571429</td><td>36.939014</td><td>20141714+3656204</td><td>17.352</td><td>--</td><td>15.706</td><td>0.148</td><td>16.421</td><td>--</td><td>UCU</td><td>020</td><td>010</td><td>000</td><td>0</td><td>0</td></tr>\n",
       "<tr><td>303.663158</td><td>36.835030</td><td>20143915+3650061</td><td>17.359</td><td>--</td><td>15.495</td><td>0.140</td><td>15.858</td><td>--</td><td>UBU</td><td>626</td><td>020</td><td>0c0</td><td>0</td><td>0</td></tr>\n",
       "<tr><td>303.701969</td><td>36.679134</td><td>20144847+3640448</td><td>17.365</td><td>--</td><td>15.687</td><td>0.171</td><td>14.623</td><td>0.131</td><td>UCB</td><td>022</td><td>011</td><td>0c0</td><td>0</td><td>0</td></tr>\n",
       "<tr><td>303.733987</td><td>36.729782</td><td>20145615+3643472</td><td>17.405</td><td>--</td><td>15.496</td><td>0.132</td><td>15.016</td><td>0.163</td><td>UBC</td><td>022</td><td>011</td><td>0cc</td><td>0</td><td>0</td></tr>\n",
       "<tr><td>303.645558</td><td>36.811489</td><td>20143493+3648413</td><td>17.417</td><td>0.347</td><td>15.577</td><td>0.160</td><td>14.820</td><td>--</td><td>DCU</td><td>226</td><td>220</td><td>cc0</td><td>0</td><td>0</td></tr>\n",
       "<tr><td>303.715739</td><td>36.764938</td><td>20145177+3645537</td><td>17.432</td><td>--</td><td>15.568</td><td>0.140</td><td>14.711</td><td>0.130</td><td>UBB</td><td>022</td><td>011</td><td>0c0</td><td>0</td><td>0</td></tr>\n",
       "<tr><td>303.756306</td><td>36.845459</td><td>20150151+3650436</td><td>17.444</td><td>--</td><td>17.108</td><td>--</td><td>14.805</td><td>0.136</td><td>UUB</td><td>002</td><td>001</td><td>000</td><td>0</td><td>0</td></tr>\n",
       "<tr><td>303.672762</td><td>36.874023</td><td>20144146+3652264</td><td>17.459</td><td>--</td><td>15.689</td><td>0.147</td><td>15.439</td><td>--</td><td>UCU</td><td>020</td><td>010</td><td>000</td><td>0</td><td>0</td></tr>\n",
       "<tr><td>303.534871</td><td>36.757111</td><td>20140836+3645255</td><td>17.462</td><td>--</td><td>15.244</td><td>0.120</td><td>14.534</td><td>0.123</td><td>UBB</td><td>022</td><td>011</td><td>0c0</td><td>0</td><td>0</td></tr>\n",
       "<tr><td>303.627877</td><td>36.674110</td><td>20143069+3640267</td><td>17.464</td><td>--</td><td>15.640</td><td>0.149</td><td>15.212</td><td>--</td><td>UCU</td><td>020</td><td>020</td><td>0c0</td><td>0</td><td>0</td></tr>\n",
       "<tr><td>303.683577</td><td>36.705799</td><td>20144405+3642208</td><td>17.487</td><td>--</td><td>15.500</td><td>0.132</td><td>15.104</td><td>--</td><td>UBU</td><td>020</td><td>010</td><td>000</td><td>0</td><td>0</td></tr>\n",
       "<tr><td>303.637173</td><td>36.711529</td><td>20143292+3642415</td><td>17.595</td><td>--</td><td>15.506</td><td>0.133</td><td>15.029</td><td>0.175</td><td>UBC</td><td>022</td><td>011</td><td>000</td><td>0</td><td>0</td></tr>\n",
       "<tr><td>303.512664</td><td>36.739227</td><td>20140303+3644212</td><td>17.639</td><td>--</td><td>15.670</td><td>0.136</td><td>16.429</td><td>--</td><td>UBU</td><td>020</td><td>010</td><td>000</td><td>0</td><td>0</td></tr>\n",
       "<tr><td>303.645565</td><td>36.810493</td><td>20143493+3648377</td><td>17.646</td><td>0.487</td><td>15.200</td><td>0.107</td><td>14.739</td><td>--</td><td>DAU</td><td>226</td><td>220</td><td>cc0</td><td>0</td><td>0</td></tr>\n",
       "<tr><td>303.690147</td><td>36.783302</td><td>20144563+3646598</td><td>17.739</td><td>--</td><td>15.567</td><td>0.146</td><td>15.124</td><td>0.196</td><td>UBC</td><td>022</td><td>011</td><td>000</td><td>0</td><td>0</td></tr>\n",
       "<tr><td>303.808742</td><td>36.804085</td><td>20151409+3648147</td><td>17.769</td><td>--</td><td>15.463</td><td>0.124</td><td>16.147</td><td>--</td><td>UBU</td><td>020</td><td>010</td><td>000</td><td>0</td><td>0</td></tr>\n",
       "<tr><td>303.672829</td><td>36.688778</td><td>20144147+3641196</td><td>17.822</td><td>--</td><td>15.592</td><td>0.138</td><td>14.768</td><td>0.131</td><td>UBB</td><td>022</td><td>011</td><td>000</td><td>0</td><td>0</td></tr>\n",
       "<tr><td>303.718747</td><td>36.737339</td><td>20145249+3644144</td><td>17.848</td><td>--</td><td>15.466</td><td>--</td><td>14.625</td><td>0.123</td><td>UUB</td><td>002</td><td>001</td><td>000</td><td>0</td><td>0</td></tr>\n",
       "<tr><td>303.700020</td><td>36.680519</td><td>20144800+3640498</td><td>17.947</td><td>--</td><td>14.401</td><td>0.053</td><td>12.599</td><td>0.029</td><td>UAA</td><td>022</td><td>011</td><td>0ss</td><td>0</td><td>0</td></tr>\n",
       "<tr><td>303.698516</td><td>36.742397</td><td>20144764+3644326</td><td>18.149</td><td>--</td><td>15.477</td><td>0.129</td><td>15.023</td><td>0.169</td><td>UBC</td><td>022</td><td>011</td><td>00c</td><td>0</td><td>0</td></tr>\n",
       "</table></div>"
      ],
      "text/plain": [
       "<Table length=4988>\n",
       " RAJ2000    DEJ2000        _2MASS        Jmag   e_Jmag   Hmag   e_Hmag   Kmag   e_Kmag Qflg Rflg Bflg Cflg  Xflg  Aflg\n",
       "   deg        deg                        mag     mag     mag     mag     mag     mag                                  \n",
       " float64    float64        str17       float32 float32 float32 float32 float32 float32 str3 str3 str3 str3 uint8 uint8\n",
       "---------- ---------- ---------------- ------- ------- ------- ------- ------- ------- ---- ---- ---- ---- ----- -----\n",
       "303.665097  36.752087 20143962+3645075   4.552   0.276   3.796   0.228   3.497   0.382  DDD  333  111  000     0     0\n",
       "303.633484  36.806255 20143203+3648225   4.886   0.306   4.688   0.242   4.422   0.017  DDA  331  111  000     0     0\n",
       "303.799735  36.863590 20151193+3651489   6.802   0.023   6.035   0.017   5.805   0.016  AAA  111  111  000     0     0\n",
       "303.632409  36.661018 20143177+3639396   6.980   0.027   6.767   0.017   6.185   0.016  AAA  111  111  000     0     0\n",
       "303.801214  36.769802 20151229+3646112   7.551   0.018   6.250   0.024   5.756   0.018  AAA  111  111  000     0     0\n",
       "303.638422  36.915199 20143322+3654547   8.341   0.020   7.445   0.021   7.126   0.018  AAA  111  111  000     0     0\n",
       "303.730587  36.722252 20145534+3643201   8.412   0.019   7.759   0.016   7.600   0.023  AAA  111  111  000     0     0\n",
       "303.687070  36.691135 20144489+3641280   8.585   0.018   7.444   0.016   7.054   0.016  AAA  111  111  000     0     0\n",
       "303.501693  36.779751 20140040+3646471   8.611   0.027   7.166   0.017   6.474   0.017  AAA  111  111  000     0     0\n",
       "303.630881  36.769279 20143141+3646094   8.641   0.024   7.387   0.020   6.864   0.016  AAA  111  111  000     0     0\n",
       "303.660843  36.861553 20143860+3651415   8.811   0.026   8.665   0.026   8.642   0.015  AAA  112  111  000     0     0\n",
       "303.674455  36.822105 20144186+3649195   8.816   0.020   8.081   0.018   7.851   0.015  AAA  112  111  s0s     0     0\n",
       "303.582506  36.944263 20141980+3656393   8.993   0.021   8.998   0.015   8.996   0.020  AAA  222  111  000     0     0\n",
       "303.570011  36.718445 20141680+3643064   9.081   0.020   7.671   0.020   7.093   0.017  AAA  211  111  000     0     0\n",
       "303.517851  36.918816 20140428+3655077   9.153   0.021   7.287   0.018   6.341   0.020  AAA  211  111  000     0     0\n",
       "303.639025  36.671207 20143336+3640163   9.173   0.030   8.591   0.020   8.410   0.015  AAA  112  111  000     0     0\n",
       "303.509660  36.801949 20140231+3648070   9.306   0.020   9.316   0.019   9.257   0.022  AAA  222  111  000     0     0\n",
       "303.730555  36.853554 20145533+3651127   9.338   0.021   9.245   0.018   9.200   0.015  AAA  222  111  000     0     0\n",
       "303.741286  36.833282 20145790+3649598   9.340   0.021   8.055   0.018   7.581   0.017  AAA  211  111  000     0     0\n",
       "303.744294  36.702522 20145863+3642090   9.352   0.019   8.352   0.018   8.051   0.015  AAA  212  111  000     0     0\n",
       "303.660464  36.874016 20143851+3652264   9.464   0.021   8.009   0.033   7.439   0.016  AAA  211  111  000     0     0\n",
       "303.629100  36.873882 20143098+3652259   9.598   0.021   8.989   0.018   8.781   0.015  AAA  222  111  000     0     0\n",
       "303.784785  36.780125 20150834+3646484   9.639   0.021   9.480   0.018   9.433   0.016  AAA  222  111  000     0     0\n",
       "303.473318  36.760235 20135359+3645368   9.691   0.020   8.399   0.027   7.883   0.020  AAA  212  111  000     0     0\n",
       "303.632119  36.857346 20143170+3651264   9.721   0.019   9.018   0.018   8.814   0.015  AAA  222  111  000     0     0\n",
       "303.454672  36.822319 20134912+3649203   9.759   0.020   9.117   0.017   8.904   0.022  AAA  222  111  ss0     0     0\n",
       "       ...        ...              ...     ...     ...     ...     ...     ...     ...  ...  ...  ...  ...   ...   ...\n",
       "303.668778  36.692711 20144050+3641337  17.206      --  15.527   0.137  14.671      --  UBU  020  010  0c0     0     0\n",
       "303.743800  36.744553 20145851+3644403  17.237      --  15.777      --  14.612   0.116  UUB  002  001  000     0     0\n",
       "303.764997  36.795033 20150359+3647421  17.296      --  15.556   0.134  14.962   0.163  UBC  022  011  000     0     0\n",
       "303.752221  36.713280 20150053+3642478  17.314      --  15.058   0.093  14.425   0.100  UAA  022  011  000     0     0\n",
       "303.575855  36.868790 20141820+3652076  17.326      --  15.680   0.147  15.260      --  UCU  020  010  000     0     0\n",
       "303.775801  36.882801 20150619+3652580  17.351      --  15.323   0.105  14.817   0.149  UBB  022  011  0c0     0     0\n",
       "303.571429  36.939014 20141714+3656204  17.352      --  15.706   0.148  16.421      --  UCU  020  010  000     0     0\n",
       "303.663158  36.835030 20143915+3650061  17.359      --  15.495   0.140  15.858      --  UBU  626  020  0c0     0     0\n",
       "303.701969  36.679134 20144847+3640448  17.365      --  15.687   0.171  14.623   0.131  UCB  022  011  0c0     0     0\n",
       "303.733987  36.729782 20145615+3643472  17.405      --  15.496   0.132  15.016   0.163  UBC  022  011  0cc     0     0\n",
       "303.645558  36.811489 20143493+3648413  17.417   0.347  15.577   0.160  14.820      --  DCU  226  220  cc0     0     0\n",
       "303.715739  36.764938 20145177+3645537  17.432      --  15.568   0.140  14.711   0.130  UBB  022  011  0c0     0     0\n",
       "303.756306  36.845459 20150151+3650436  17.444      --  17.108      --  14.805   0.136  UUB  002  001  000     0     0\n",
       "303.672762  36.874023 20144146+3652264  17.459      --  15.689   0.147  15.439      --  UCU  020  010  000     0     0\n",
       "303.534871  36.757111 20140836+3645255  17.462      --  15.244   0.120  14.534   0.123  UBB  022  011  0c0     0     0\n",
       "303.627877  36.674110 20143069+3640267  17.464      --  15.640   0.149  15.212      --  UCU  020  020  0c0     0     0\n",
       "303.683577  36.705799 20144405+3642208  17.487      --  15.500   0.132  15.104      --  UBU  020  010  000     0     0\n",
       "303.637173  36.711529 20143292+3642415  17.595      --  15.506   0.133  15.029   0.175  UBC  022  011  000     0     0\n",
       "303.512664  36.739227 20140303+3644212  17.639      --  15.670   0.136  16.429      --  UBU  020  010  000     0     0\n",
       "303.645565  36.810493 20143493+3648377  17.646   0.487  15.200   0.107  14.739      --  DAU  226  220  cc0     0     0\n",
       "303.690147  36.783302 20144563+3646598  17.739      --  15.567   0.146  15.124   0.196  UBC  022  011  000     0     0\n",
       "303.808742  36.804085 20151409+3648147  17.769      --  15.463   0.124  16.147      --  UBU  020  010  000     0     0\n",
       "303.672829  36.688778 20144147+3641196  17.822      --  15.592   0.138  14.768   0.131  UBB  022  011  000     0     0\n",
       "303.718747  36.737339 20145249+3644144  17.848      --  15.466      --  14.625   0.123  UUB  002  001  000     0     0\n",
       "303.700020  36.680519 20144800+3640498  17.947      --  14.401   0.053  12.599   0.029  UAA  022  011  0ss     0     0\n",
       "303.698516  36.742397 20144764+3644326  18.149      --  15.477   0.129  15.023   0.169  UBC  022  011  00c     0     0"
      ]
     },
     "execution_count": 177,
     "metadata": {},
     "output_type": "execute_result"
    }
   ],
   "source": [
    "#note * means \"standard columns\" ... otherwise you would only return the Jmag column\n",
    "v=Vizier(columns=[\"*\",\"+Jmag\"],catalog=\"II/246/out\")\n",
    "v.ROW_LIMIT = -1\n",
    "\n",
    "result5c=v.query_region(\"HIP 99770\",radius=Angle(0.15,\"deg\"),catalog='II/246/out')\n",
    "result5c[0]"
   ]
  },
  {
   "cell_type": "markdown",
   "id": "bae2e807",
   "metadata": {},
   "source": [
    "Now, it's not entirely clear which entry is the one we want from this list just from looking at it.  Is it the first or second entry?\n",
    "\n",
    "If we compare with the Simbad position output we see that it is the second."
   ]
  },
  {
   "cell_type": "code",
   "execution_count": 162,
   "id": "b1ca5a4b",
   "metadata": {},
   "outputs": [
    {
     "name": "stdout",
     "output_type": "stream",
     "text": [
      "20 14 32.0323 +36 48 22.700\n"
     ]
    }
   ],
   "source": [
    "starcoords=Simbad.query_object(\"HIP 99770\")\n",
    "print(starcoords[0]['RA'],starcoords[0]['DEC'])"
   ]
  },
  {
   "cell_type": "markdown",
   "id": "47fe07b8",
   "metadata": {},
   "source": [
    "Finally, the most obvious thing to do is to just shrink our search radius.  If you do so, you (naturally) return fewer stars.  So let's shrink the radius to 20 arcseconds"
   ]
  },
  {
   "cell_type": "code",
   "execution_count": 152,
   "id": "81dfd29c",
   "metadata": {},
   "outputs": [
    {
     "data": {
      "text/html": [
       "<div><i>Table length=2</i>\n",
       "<table id=\"table4963807008\" class=\"table-striped table-bordered table-condensed\">\n",
       "<thead><tr><th>RAJ2000</th><th>DEJ2000</th><th>_2MASS</th><th>Jmag</th><th>e_Jmag</th><th>Hmag</th><th>e_Hmag</th><th>Kmag</th><th>e_Kmag</th><th>Qflg</th><th>Rflg</th><th>Bflg</th><th>Cflg</th><th>Xflg</th><th>Aflg</th></tr></thead>\n",
       "<thead><tr><th>deg</th><th>deg</th><th></th><th>mag</th><th>mag</th><th>mag</th><th>mag</th><th>mag</th><th>mag</th><th></th><th></th><th></th><th></th><th></th><th></th></tr></thead>\n",
       "<thead><tr><th>float64</th><th>float64</th><th>str17</th><th>float32</th><th>float32</th><th>float32</th><th>float32</th><th>float32</th><th>float32</th><th>str3</th><th>str3</th><th>str3</th><th>str3</th><th>uint8</th><th>uint8</th></tr></thead>\n",
       "<tr><td>303.633484</td><td>36.806255</td><td>20143203+3648225</td><td>4.886</td><td>0.306</td><td>4.688</td><td>0.242</td><td>4.422</td><td>0.017</td><td>DDA</td><td>331</td><td>111</td><td>000</td><td>0</td><td>0</td></tr>\n",
       "<tr><td>303.627252</td><td>36.807613</td><td>20143054+3648274</td><td>12.677</td><td>--</td><td>12.179</td><td>--</td><td>12.087</td><td>0.046</td><td>UUA</td><td>002</td><td>002</td><td>00c</td><td>0</td><td>0</td></tr>\n",
       "</table></div>"
      ],
      "text/plain": [
       "<Table length=2>\n",
       " RAJ2000    DEJ2000        _2MASS        Jmag   e_Jmag   Hmag   e_Hmag   Kmag   e_Kmag Qflg Rflg Bflg Cflg  Xflg  Aflg\n",
       "   deg        deg                        mag     mag     mag     mag     mag     mag                                  \n",
       " float64    float64        str17       float32 float32 float32 float32 float32 float32 str3 str3 str3 str3 uint8 uint8\n",
       "---------- ---------- ---------------- ------- ------- ------- ------- ------- ------- ---- ---- ---- ---- ----- -----\n",
       "303.633484  36.806255 20143203+3648225   4.886   0.306   4.688   0.242   4.422   0.017  DDA  331  111  000     0     0\n",
       "303.627252  36.807613 20143054+3648274  12.677      --  12.179      --  12.087   0.046  UUA  002  002  00c     0     0"
      ]
     },
     "execution_count": 152,
     "metadata": {},
     "output_type": "execute_result"
    }
   ],
   "source": [
    "result5d=v.query_region(\"HIP 99770\",radius=Angle(20,\"arcsec\"),catalog='II/246/out')\n",
    "result5d[0]"
   ]
  },
  {
   "cell_type": "markdown",
   "id": "2b4a159a",
   "metadata": {},
   "source": [
    "_Now_ it is clearer which entry we want.\n",
    "\n",
    "We also could have kept the search radius the same but added _column filters_ to downselect on objects that \"might\" be the one(s) we are interested in.   See below ..."
   ]
  },
  {
   "cell_type": "code",
   "execution_count": 156,
   "id": "4e0ed09a",
   "metadata": {},
   "outputs": [
    {
     "name": "stdout",
     "output_type": "stream",
     "text": [
      " RAJ2000    DEJ2000        _2MASS       Jmag  e_Jmag  Hmag  e_Hmag  Kmag  e_Kmag Qflg Rflg Bflg Cflg Xflg Aflg\n",
      "   deg        deg                       mag    mag    mag    mag    mag    mag                                \n",
      "---------- ---------- ---------------- ------ ------ ------ ------ ------ ------ ---- ---- ---- ---- ---- ----\n",
      "303.665097  36.752087 20143962+3645075  4.552  0.276  3.796  0.228  3.497  0.382  DDD  333  111  000    0    0\n",
      "303.633484  36.806255 20143203+3648225  4.886  0.306  4.688  0.242  4.422  0.017  DDA  331  111  000    0    0\n"
     ]
    }
   ],
   "source": [
    "result5e=v.query_region(\"HIP 99770\",radius=Angle(0.15,\"deg\"),catalog='II/246/out',column_filters={\"Jmag\":\"<6\"})\n",
    "print(result5e[0])"
   ]
  },
  {
   "cell_type": "code",
   "execution_count": 161,
   "id": "26f942b8",
   "metadata": {},
   "outputs": [
    {
     "name": "stdout",
     "output_type": "stream",
     "text": [
      " RAJ2000    DEJ2000        _2MASS       Jmag  e_Jmag  Hmag  e_Hmag  Kmag  e_Kmag Qflg Rflg Bflg Cflg Xflg Aflg\n",
      "   deg        deg                       mag    mag    mag    mag    mag    mag                                \n",
      "---------- ---------- ---------------- ------ ------ ------ ------ ------ ------ ---- ---- ---- ---- ---- ----\n",
      "303.665097  36.752087 20143962+3645075  4.552  0.276  3.796  0.228  3.497  0.382  DDD  333  111  000    0    0\n"
     ]
    }
   ],
   "source": [
    "#slightly more complex\n",
    "\n",
    "#the two dots define a range\n",
    "result5f=v.query_region(\"HIP 99770\",radius=Angle(0.15,\"deg\"),catalog='II/246/out',\n",
    "                         column_filters={\"Jmag\":\"4 .. 4.7\"})\n",
    "print(result5f[0])"
   ]
  },
  {
   "cell_type": "markdown",
   "id": "0b5763ba",
   "metadata": {},
   "source": [
    "Now, we don't actually have to center the search on the position of a known object.  We can center it on blank space, provided that put in a coordinate object in our Vizier call.   Here's what I mean ..."
   ]
  },
  {
   "cell_type": "code",
   "execution_count": 174,
   "id": "b15fd5ff",
   "metadata": {},
   "outputs": [
    {
     "data": {
      "text/plain": [
       "<SkyCoord (ICRS): (ra, dec) in deg\n",
       "    (303.65416667, 36.76666667)>"
      ]
     },
     "execution_count": 174,
     "metadata": {},
     "output_type": "execute_result"
    }
   ],
   "source": [
    "#let's select a region just slightly off HIP 99770, about halfway between it and the other bright star\n",
    "blankspace=SkyCoord('20h14m37.0s','+36d46m00.0s')\n",
    "blankspace"
   ]
  },
  {
   "cell_type": "code",
   "execution_count": 176,
   "id": "322db6f9",
   "metadata": {},
   "outputs": [
    {
     "data": {
      "text/html": [
       "<div><i>Table length=50</i>\n",
       "<table id=\"table4964814368\" class=\"table-striped table-bordered table-condensed\">\n",
       "<thead><tr><th>RAJ2000</th><th>DEJ2000</th><th>_2MASS</th><th>Jmag</th><th>e_Jmag</th><th>Hmag</th><th>e_Hmag</th><th>Kmag</th><th>e_Kmag</th><th>Qflg</th><th>Rflg</th><th>Bflg</th><th>Cflg</th><th>Xflg</th><th>Aflg</th></tr></thead>\n",
       "<thead><tr><th>deg</th><th>deg</th><th></th><th>mag</th><th>mag</th><th>mag</th><th>mag</th><th>mag</th><th>mag</th><th></th><th></th><th></th><th></th><th></th><th></th></tr></thead>\n",
       "<thead><tr><th>float64</th><th>float64</th><th>str17</th><th>float32</th><th>float32</th><th>float32</th><th>float32</th><th>float32</th><th>float32</th><th>str3</th><th>str3</th><th>str3</th><th>str3</th><th>uint8</th><th>uint8</th></tr></thead>\n",
       "<tr><td>303.665097</td><td>36.752087</td><td>20143962+3645075</td><td>4.552</td><td>0.276</td><td>3.796</td><td>0.228</td><td>3.497</td><td>0.382</td><td>DDD</td><td>333</td><td>111</td><td>000</td><td>0</td><td>0</td></tr>\n",
       "<tr><td>303.633484</td><td>36.806255</td><td>20143203+3648225</td><td>4.886</td><td>0.306</td><td>4.688</td><td>0.242</td><td>4.422</td><td>0.017</td><td>DDA</td><td>331</td><td>111</td><td>000</td><td>0</td><td>0</td></tr>\n",
       "<tr><td>303.730587</td><td>36.722252</td><td>20145534+3643201</td><td>8.412</td><td>0.019</td><td>7.759</td><td>0.016</td><td>7.600</td><td>0.023</td><td>AAA</td><td>111</td><td>111</td><td>000</td><td>0</td><td>0</td></tr>\n",
       "<tr><td>303.687070</td><td>36.691135</td><td>20144489+3641280</td><td>8.585</td><td>0.018</td><td>7.444</td><td>0.016</td><td>7.054</td><td>0.016</td><td>AAA</td><td>111</td><td>111</td><td>000</td><td>0</td><td>0</td></tr>\n",
       "<tr><td>303.630881</td><td>36.769279</td><td>20143141+3646094</td><td>8.641</td><td>0.024</td><td>7.387</td><td>0.020</td><td>6.864</td><td>0.016</td><td>AAA</td><td>111</td><td>111</td><td>000</td><td>0</td><td>0</td></tr>\n",
       "<tr><td>303.660843</td><td>36.861553</td><td>20143860+3651415</td><td>8.811</td><td>0.026</td><td>8.665</td><td>0.026</td><td>8.642</td><td>0.015</td><td>AAA</td><td>112</td><td>111</td><td>000</td><td>0</td><td>0</td></tr>\n",
       "<tr><td>303.674455</td><td>36.822105</td><td>20144186+3649195</td><td>8.816</td><td>0.020</td><td>8.081</td><td>0.018</td><td>7.851</td><td>0.015</td><td>AAA</td><td>112</td><td>111</td><td>s0s</td><td>0</td><td>0</td></tr>\n",
       "<tr><td>303.570011</td><td>36.718445</td><td>20141680+3643064</td><td>9.081</td><td>0.020</td><td>7.671</td><td>0.020</td><td>7.093</td><td>0.017</td><td>AAA</td><td>211</td><td>111</td><td>000</td><td>0</td><td>0</td></tr>\n",
       "<tr><td>303.639025</td><td>36.671207</td><td>20143336+3640163</td><td>9.173</td><td>0.030</td><td>8.591</td><td>0.020</td><td>8.410</td><td>0.015</td><td>AAA</td><td>112</td><td>111</td><td>000</td><td>0</td><td>0</td></tr>\n",
       "<tr><td>303.741286</td><td>36.833282</td><td>20145790+3649598</td><td>9.340</td><td>0.021</td><td>8.055</td><td>0.018</td><td>7.581</td><td>0.017</td><td>AAA</td><td>211</td><td>111</td><td>000</td><td>0</td><td>0</td></tr>\n",
       "<tr><td>303.744294</td><td>36.702522</td><td>20145863+3642090</td><td>9.352</td><td>0.019</td><td>8.352</td><td>0.018</td><td>8.051</td><td>0.015</td><td>AAA</td><td>212</td><td>111</td><td>000</td><td>0</td><td>0</td></tr>\n",
       "<tr><td>303.632119</td><td>36.857346</td><td>20143170+3651264</td><td>9.721</td><td>0.019</td><td>9.018</td><td>0.018</td><td>8.814</td><td>0.015</td><td>AAA</td><td>222</td><td>111</td><td>000</td><td>0</td><td>0</td></tr>\n",
       "<tr><td>303.595099</td><td>36.713352</td><td>20142282+3642480</td><td>10.181</td><td>0.020</td><td>8.812</td><td>0.019</td><td>8.247</td><td>0.022</td><td>AAA</td><td>222</td><td>111</td><td>000</td><td>0</td><td>0</td></tr>\n",
       "<tr><td>303.623166</td><td>36.755779</td><td>20142955+3645208</td><td>10.315</td><td>0.019</td><td>9.221</td><td>0.018</td><td>8.877</td><td>0.015</td><td>AAA</td><td>222</td><td>111</td><td>000</td><td>0</td><td>0</td></tr>\n",
       "<tr><td>303.708988</td><td>36.729359</td><td>20145015+3643456</td><td>10.321</td><td>0.021</td><td>9.326</td><td>0.019</td><td>9.001</td><td>0.022</td><td>AAA</td><td>222</td><td>122</td><td>0cc</td><td>0</td><td>0</td></tr>\n",
       "<tr><td>303.659574</td><td>36.842941</td><td>20143829+3650345</td><td>10.330</td><td>0.019</td><td>9.628</td><td>0.019</td><td>9.466</td><td>0.015</td><td>AAA</td><td>222</td><td>111</td><td>000</td><td>0</td><td>0</td></tr>\n",
       "<tr><td>303.585431</td><td>36.767490</td><td>20142050+3646029</td><td>10.346</td><td>0.020</td><td>9.705</td><td>0.019</td><td>9.491</td><td>0.022</td><td>AAA</td><td>222</td><td>111</td><td>000</td><td>0</td><td>0</td></tr>\n",
       "<tr><td>303.637102</td><td>36.768990</td><td>20143290+3646083</td><td>10.436</td><td>0.021</td><td>9.788</td><td>0.018</td><td>9.596</td><td>0.015</td><td>AAA</td><td>222</td><td>111</td><td>0dd</td><td>0</td><td>0</td></tr>\n",
       "<tr><td>303.778975</td><td>36.768791</td><td>20150695+3646076</td><td>10.447</td><td>0.031</td><td>9.577</td><td>0.030</td><td>9.315</td><td>0.022</td><td>AAA</td><td>222</td><td>111</td><td>000</td><td>0</td><td>0</td></tr>\n",
       "<tr><td>303.535693</td><td>36.783642</td><td>20140856+3647011</td><td>10.532</td><td>0.020</td><td>10.527</td><td>0.019</td><td>10.468</td><td>0.023</td><td>AAA</td><td>222</td><td>111</td><td>000</td><td>0</td><td>0</td></tr>\n",
       "<tr><td>303.626774</td><td>36.814594</td><td>20143042+3648525</td><td>10.537</td><td>0.019</td><td>10.487</td><td>0.018</td><td>10.445</td><td>0.016</td><td>AAA</td><td>222</td><td>111</td><td>000</td><td>0</td><td>0</td></tr>\n",
       "<tr><td>303.603858</td><td>36.740788</td><td>20142492+3644268</td><td>10.644</td><td>0.020</td><td>10.027</td><td>0.019</td><td>9.804</td><td>0.022</td><td>AAA</td><td>222</td><td>111</td><td>000</td><td>0</td><td>0</td></tr>\n",
       "<tr><td>303.625714</td><td>36.822166</td><td>20143017+3649197</td><td>10.652</td><td>0.023</td><td>9.889</td><td>0.022</td><td>9.614</td><td>0.016</td><td>AAA</td><td>222</td><td>222</td><td>ccc</td><td>0</td><td>0</td></tr>\n",
       "<tr><td>303.711416</td><td>36.758469</td><td>20145073+3645304</td><td>10.661</td><td>0.021</td><td>9.861</td><td>0.021</td><td>9.641</td><td>0.019</td><td>AAA</td><td>222</td><td>122</td><td>0cc</td><td>0</td><td>0</td></tr>\n",
       "<tr><td>303.552371</td><td>36.714428</td><td>20141256+3642519</td><td>10.670</td><td>0.021</td><td>9.252</td><td>0.019</td><td>8.646</td><td>0.022</td><td>AAA</td><td>222</td><td>111</td><td>000</td><td>0</td><td>0</td></tr>\n",
       "<tr><td>303.761265</td><td>36.774227</td><td>20150270+3646272</td><td>10.713</td><td>0.022</td><td>9.284</td><td>0.021</td><td>8.715</td><td>0.015</td><td>AAA</td><td>222</td><td>111</td><td>000</td><td>0</td><td>0</td></tr>\n",
       "<tr><td>303.646655</td><td>36.747780</td><td>20143519+3644520</td><td>10.753</td><td>0.019</td><td>10.242</td><td>0.018</td><td>10.098</td><td>0.015</td><td>AAA</td><td>222</td><td>111</td><td>000</td><td>0</td><td>0</td></tr>\n",
       "<tr><td>303.713851</td><td>36.846355</td><td>20145132+3650468</td><td>10.837</td><td>0.021</td><td>10.088</td><td>0.018</td><td>9.865</td><td>0.015</td><td>AAA</td><td>222</td><td>111</td><td>000</td><td>0</td><td>0</td></tr>\n",
       "<tr><td>303.669552</td><td>36.766411</td><td>20144069+3645590</td><td>10.851</td><td>0.021</td><td>9.810</td><td>0.019</td><td>9.526</td><td>0.022</td><td>AAA</td><td>222</td><td>122</td><td>0cc</td><td>0</td><td>0</td></tr>\n",
       "<tr><td>303.648506</td><td>36.756912</td><td>20143564+3645248</td><td>11.036</td><td>0.019</td><td>10.161</td><td>0.018</td><td>9.874</td><td>0.015</td><td>AAA</td><td>222</td><td>111</td><td>000</td><td>0</td><td>0</td></tr>\n",
       "<tr><td>303.640400</td><td>36.813923</td><td>20143369+3648501</td><td>11.041</td><td>0.019</td><td>10.736</td><td>0.018</td><td>10.653</td><td>0.016</td><td>AAA</td><td>222</td><td>111</td><td>000</td><td>0</td><td>0</td></tr>\n",
       "<tr><td>303.613572</td><td>36.742275</td><td>20142725+3644321</td><td>11.048</td><td>0.020</td><td>9.691</td><td>0.019</td><td>9.167</td><td>0.022</td><td>AAA</td><td>222</td><td>111</td><td>000</td><td>0</td><td>0</td></tr>\n",
       "<tr><td>303.733189</td><td>36.835785</td><td>20145596+3650088</td><td>11.061</td><td>0.019</td><td>9.801</td><td>0.018</td><td>9.374</td><td>0.015</td><td>AAA</td><td>222</td><td>111</td><td>000</td><td>0</td><td>0</td></tr>\n",
       "<tr><td>303.766887</td><td>36.808750</td><td>20150405+3648315</td><td>11.186</td><td>0.019</td><td>10.180</td><td>0.018</td><td>9.892</td><td>0.017</td><td>AAA</td><td>222</td><td>111</td><td>000</td><td>0</td><td>0</td></tr>\n",
       "<tr><td>303.680868</td><td>36.747944</td><td>20144340+3644525</td><td>11.220</td><td>0.019</td><td>10.562</td><td>0.018</td><td>10.367</td><td>0.015</td><td>AAA</td><td>222</td><td>111</td><td>000</td><td>0</td><td>0</td></tr>\n",
       "<tr><td>303.642487</td><td>36.787609</td><td>20143419+3647153</td><td>11.262</td><td>0.019</td><td>10.563</td><td>0.018</td><td>10.354</td><td>0.016</td><td>AAA</td><td>222</td><td>111</td><td>000</td><td>0</td><td>0</td></tr>\n",
       "<tr><td>303.619237</td><td>36.791920</td><td>20142861+3647309</td><td>11.279</td><td>0.019</td><td>10.145</td><td>0.018</td><td>9.789</td><td>0.015</td><td>AAA</td><td>222</td><td>111</td><td>000</td><td>0</td><td>0</td></tr>\n",
       "<tr><td>303.651695</td><td>36.818817</td><td>20143640+3649077</td><td>11.334</td><td>0.021</td><td>10.478</td><td>0.018</td><td>10.213</td><td>0.015</td><td>AAA</td><td>222</td><td>111</td><td>000</td><td>0</td><td>0</td></tr>\n",
       "<tr><td>303.702171</td><td>36.782696</td><td>20144852+3646577</td><td>11.402</td><td>0.019</td><td>10.300</td><td>0.019</td><td>9.901</td><td>0.016</td><td>AAA</td><td>222</td><td>111</td><td>000</td><td>0</td><td>0</td></tr>\n",
       "<tr><td>303.583599</td><td>36.810783</td><td>20142006+3648388</td><td>11.415</td><td>0.020</td><td>10.936</td><td>0.018</td><td>10.632</td><td>0.022</td><td>AAA</td><td>222</td><td>111</td><td>000</td><td>0</td><td>0</td></tr>\n",
       "<tr><td>303.546473</td><td>36.754227</td><td>20141115+3645152</td><td>11.430</td><td>0.020</td><td>10.980</td><td>0.019</td><td>10.836</td><td>0.022</td><td>AAA</td><td>222</td><td>111</td><td>000</td><td>0</td><td>0</td></tr>\n",
       "<tr><td>303.640615</td><td>36.756275</td><td>20143374+3645225</td><td>11.438</td><td>0.019</td><td>11.289</td><td>0.018</td><td>11.185</td><td>0.016</td><td>AAA</td><td>222</td><td>111</td><td>000</td><td>0</td><td>0</td></tr>\n",
       "<tr><td>303.697731</td><td>36.778393</td><td>20144745+3646422</td><td>11.440</td><td>0.022</td><td>11.103</td><td>0.022</td><td>11.035</td><td>0.021</td><td>AAA</td><td>222</td><td>222</td><td>ccc</td><td>0</td><td>0</td></tr>\n",
       "<tr><td>303.544065</td><td>36.782642</td><td>20141057+3646575</td><td>11.564</td><td>0.020</td><td>10.878</td><td>0.019</td><td>10.647</td><td>0.023</td><td>AAA</td><td>222</td><td>111</td><td>000</td><td>0</td><td>0</td></tr>\n",
       "<tr><td>303.746684</td><td>36.753918</td><td>20145920+3645141</td><td>11.623</td><td>0.021</td><td>10.917</td><td>0.019</td><td>10.708</td><td>0.016</td><td>AAA</td><td>222</td><td>111</td><td>000</td><td>0</td><td>0</td></tr>\n",
       "<tr><td>303.555830</td><td>36.806614</td><td>20141339+3648238</td><td>11.657</td><td>0.030</td><td>10.932</td><td>0.021</td><td>10.682</td><td>0.023</td><td>AAA</td><td>222</td><td>211</td><td>cs0</td><td>0</td><td>0</td></tr>\n",
       "<tr><td>303.673990</td><td>36.835602</td><td>20144175+3650081</td><td>11.690</td><td>0.019</td><td>10.270</td><td>0.018</td><td>9.761</td><td>0.015</td><td>AAA</td><td>222</td><td>111</td><td>000</td><td>0</td><td>0</td></tr>\n",
       "<tr><td>303.593315</td><td>36.853958</td><td>20142239+3651142</td><td>11.733</td><td>0.021</td><td>11.459</td><td>0.019</td><td>11.370</td><td>0.025</td><td>AAA</td><td>222</td><td>111</td><td>000</td><td>0</td><td>0</td></tr>\n",
       "<tr><td>303.540166</td><td>36.735157</td><td>20140963+3644065</td><td>11.740</td><td>0.023</td><td>10.012</td><td>0.018</td><td>9.338</td><td>0.022</td><td>AAA</td><td>222</td><td>111</td><td>ss0</td><td>0</td><td>0</td></tr>\n",
       "<tr><td>303.635146</td><td>36.821438</td><td>20143243+3649171</td><td>11.748</td><td>0.022</td><td>10.940</td><td>0.019</td><td>10.738</td><td>0.018</td><td>AAA</td><td>222</td><td>111</td><td>000</td><td>0</td><td>0</td></tr>\n",
       "</table></div>"
      ],
      "text/plain": [
       "<Table length=50>\n",
       " RAJ2000    DEJ2000        _2MASS        Jmag   e_Jmag   Hmag   e_Hmag   Kmag   e_Kmag Qflg Rflg Bflg Cflg  Xflg  Aflg\n",
       "   deg        deg                        mag     mag     mag     mag     mag     mag                                  \n",
       " float64    float64        str17       float32 float32 float32 float32 float32 float32 str3 str3 str3 str3 uint8 uint8\n",
       "---------- ---------- ---------------- ------- ------- ------- ------- ------- ------- ---- ---- ---- ---- ----- -----\n",
       "303.665097  36.752087 20143962+3645075   4.552   0.276   3.796   0.228   3.497   0.382  DDD  333  111  000     0     0\n",
       "303.633484  36.806255 20143203+3648225   4.886   0.306   4.688   0.242   4.422   0.017  DDA  331  111  000     0     0\n",
       "303.730587  36.722252 20145534+3643201   8.412   0.019   7.759   0.016   7.600   0.023  AAA  111  111  000     0     0\n",
       "303.687070  36.691135 20144489+3641280   8.585   0.018   7.444   0.016   7.054   0.016  AAA  111  111  000     0     0\n",
       "303.630881  36.769279 20143141+3646094   8.641   0.024   7.387   0.020   6.864   0.016  AAA  111  111  000     0     0\n",
       "303.660843  36.861553 20143860+3651415   8.811   0.026   8.665   0.026   8.642   0.015  AAA  112  111  000     0     0\n",
       "303.674455  36.822105 20144186+3649195   8.816   0.020   8.081   0.018   7.851   0.015  AAA  112  111  s0s     0     0\n",
       "303.570011  36.718445 20141680+3643064   9.081   0.020   7.671   0.020   7.093   0.017  AAA  211  111  000     0     0\n",
       "303.639025  36.671207 20143336+3640163   9.173   0.030   8.591   0.020   8.410   0.015  AAA  112  111  000     0     0\n",
       "303.741286  36.833282 20145790+3649598   9.340   0.021   8.055   0.018   7.581   0.017  AAA  211  111  000     0     0\n",
       "303.744294  36.702522 20145863+3642090   9.352   0.019   8.352   0.018   8.051   0.015  AAA  212  111  000     0     0\n",
       "303.632119  36.857346 20143170+3651264   9.721   0.019   9.018   0.018   8.814   0.015  AAA  222  111  000     0     0\n",
       "303.595099  36.713352 20142282+3642480  10.181   0.020   8.812   0.019   8.247   0.022  AAA  222  111  000     0     0\n",
       "303.623166  36.755779 20142955+3645208  10.315   0.019   9.221   0.018   8.877   0.015  AAA  222  111  000     0     0\n",
       "303.708988  36.729359 20145015+3643456  10.321   0.021   9.326   0.019   9.001   0.022  AAA  222  122  0cc     0     0\n",
       "303.659574  36.842941 20143829+3650345  10.330   0.019   9.628   0.019   9.466   0.015  AAA  222  111  000     0     0\n",
       "303.585431  36.767490 20142050+3646029  10.346   0.020   9.705   0.019   9.491   0.022  AAA  222  111  000     0     0\n",
       "303.637102  36.768990 20143290+3646083  10.436   0.021   9.788   0.018   9.596   0.015  AAA  222  111  0dd     0     0\n",
       "303.778975  36.768791 20150695+3646076  10.447   0.031   9.577   0.030   9.315   0.022  AAA  222  111  000     0     0\n",
       "303.535693  36.783642 20140856+3647011  10.532   0.020  10.527   0.019  10.468   0.023  AAA  222  111  000     0     0\n",
       "303.626774  36.814594 20143042+3648525  10.537   0.019  10.487   0.018  10.445   0.016  AAA  222  111  000     0     0\n",
       "303.603858  36.740788 20142492+3644268  10.644   0.020  10.027   0.019   9.804   0.022  AAA  222  111  000     0     0\n",
       "303.625714  36.822166 20143017+3649197  10.652   0.023   9.889   0.022   9.614   0.016  AAA  222  222  ccc     0     0\n",
       "303.711416  36.758469 20145073+3645304  10.661   0.021   9.861   0.021   9.641   0.019  AAA  222  122  0cc     0     0\n",
       "303.552371  36.714428 20141256+3642519  10.670   0.021   9.252   0.019   8.646   0.022  AAA  222  111  000     0     0\n",
       "303.761265  36.774227 20150270+3646272  10.713   0.022   9.284   0.021   8.715   0.015  AAA  222  111  000     0     0\n",
       "303.646655  36.747780 20143519+3644520  10.753   0.019  10.242   0.018  10.098   0.015  AAA  222  111  000     0     0\n",
       "303.713851  36.846355 20145132+3650468  10.837   0.021  10.088   0.018   9.865   0.015  AAA  222  111  000     0     0\n",
       "303.669552  36.766411 20144069+3645590  10.851   0.021   9.810   0.019   9.526   0.022  AAA  222  122  0cc     0     0\n",
       "303.648506  36.756912 20143564+3645248  11.036   0.019  10.161   0.018   9.874   0.015  AAA  222  111  000     0     0\n",
       "303.640400  36.813923 20143369+3648501  11.041   0.019  10.736   0.018  10.653   0.016  AAA  222  111  000     0     0\n",
       "303.613572  36.742275 20142725+3644321  11.048   0.020   9.691   0.019   9.167   0.022  AAA  222  111  000     0     0\n",
       "303.733189  36.835785 20145596+3650088  11.061   0.019   9.801   0.018   9.374   0.015  AAA  222  111  000     0     0\n",
       "303.766887  36.808750 20150405+3648315  11.186   0.019  10.180   0.018   9.892   0.017  AAA  222  111  000     0     0\n",
       "303.680868  36.747944 20144340+3644525  11.220   0.019  10.562   0.018  10.367   0.015  AAA  222  111  000     0     0\n",
       "303.642487  36.787609 20143419+3647153  11.262   0.019  10.563   0.018  10.354   0.016  AAA  222  111  000     0     0\n",
       "303.619237  36.791920 20142861+3647309  11.279   0.019  10.145   0.018   9.789   0.015  AAA  222  111  000     0     0\n",
       "303.651695  36.818817 20143640+3649077  11.334   0.021  10.478   0.018  10.213   0.015  AAA  222  111  000     0     0\n",
       "303.702171  36.782696 20144852+3646577  11.402   0.019  10.300   0.019   9.901   0.016  AAA  222  111  000     0     0\n",
       "303.583599  36.810783 20142006+3648388  11.415   0.020  10.936   0.018  10.632   0.022  AAA  222  111  000     0     0\n",
       "303.546473  36.754227 20141115+3645152  11.430   0.020  10.980   0.019  10.836   0.022  AAA  222  111  000     0     0\n",
       "303.640615  36.756275 20143374+3645225  11.438   0.019  11.289   0.018  11.185   0.016  AAA  222  111  000     0     0\n",
       "303.697731  36.778393 20144745+3646422  11.440   0.022  11.103   0.022  11.035   0.021  AAA  222  222  ccc     0     0\n",
       "303.544065  36.782642 20141057+3646575  11.564   0.020  10.878   0.019  10.647   0.023  AAA  222  111  000     0     0\n",
       "303.746684  36.753918 20145920+3645141  11.623   0.021  10.917   0.019  10.708   0.016  AAA  222  111  000     0     0\n",
       "303.555830  36.806614 20141339+3648238  11.657   0.030  10.932   0.021  10.682   0.023  AAA  222  211  cs0     0     0\n",
       "303.673990  36.835602 20144175+3650081  11.690   0.019  10.270   0.018   9.761   0.015  AAA  222  111  000     0     0\n",
       "303.593315  36.853958 20142239+3651142  11.733   0.021  11.459   0.019  11.370   0.025  AAA  222  111  000     0     0\n",
       "303.540166  36.735157 20140963+3644065  11.740   0.023  10.012   0.018   9.338   0.022  AAA  222  111  ss0     0     0\n",
       "303.635146  36.821438 20143243+3649171  11.748   0.022  10.940   0.019  10.738   0.018  AAA  222  111  000     0     0"
      ]
     },
     "execution_count": 176,
     "metadata": {},
     "output_type": "execute_result"
    }
   ],
   "source": [
    "v2=Vizier(columns=[\"*\",\"+Jmag\"])\n",
    "\n",
    "result6=v2.query_region(blankspace,\n",
    "   radius=Angle(0.1,\"deg\"),catalog='II/246/out',column_filters={\"Jmag\":\"<18\"})\n",
    "\n",
    "result6[0]"
   ]
  },
  {
   "cell_type": "markdown",
   "id": "a98cfedb",
   "metadata": {},
   "source": [
    "### Other Queries\n",
    "\n",
    "There are other databases you can query.  One major one is the Gaia database which has its own subpackage.   I will try to add notes on this later."
   ]
  },
  {
   "cell_type": "markdown",
   "id": "812a5913",
   "metadata": {},
   "source": [
    "### Some Examples of Doing Science with Database Queries\n",
    "\n",
    "So how would you actually use this in real code?   Below is one example: \n",
    "* an abbreviated example copied and pasted from some code that I wrote last year to select targets.  It has an input file and then queries the Simbad and Vizier databases"
   ]
  },
  {
   "cell_type": "code",
   "execution_count": 180,
   "id": "4c601e54",
   "metadata": {},
   "outputs": [],
   "source": [
    "#Example \n",
    "\n",
    "#uses IDL output of HGCA accelerators, queries Simbad to get the spectral type, queries Gaia-eDR3 to get photometry, saves to output\n",
    "import astroquery\n",
    "import numpy as np\n",
    "from astroquery.simbad import Simbad\n",
    "from astroquery.vizier import Vizier\n",
    "from astropy.io import ascii\n",
    "import astropy.units as u\n",
    "import astropy.coordinates as coord\n",
    "from astropy.table import QTable\n",
    "#from astroquery.utils.tap.core import TapPlus\n",
    "from astroquery.gaia import Gaia\n",
    "from astropy.coordinates import SkyCoord,Angle\n",
    "\n",
    "infile='astars_100pc'\n",
    "Gaia.MAIN_GAIA_TABLE = \"gaiaedr3.gaia_source\"\n",
    "radius=u.Quantity(1.5/3600.0,u.deg)\n",
    "\n",
    "def add_gaia_data(infile):\n",
    "\n",
    "    outfile=infile+'_plus_gaia_and_cahkv2'\n",
    "\n",
    "    #formatted loading\n",
    "    dtypes={'names': ('name1','name2','ra1','ra2','ra3','dec1','dec2','dec3','distance','spt','mass','chisq'),\\\n",
    "       'formats':('U20','U20',np.int,np.int,np.float64,np.int,np.int,np.float64,np.float64,'U20',np.float64,np.float64)}\n",
    "\n",
    "    a= np.loadtxt(infile,usecols=range(12),dtype=dtypes)\n",
    "\n",
    "    #combining the first two strings to get the target name\n",
    "    names = np.array([ '{0} {1}'.format( x, y ) for x,y in zip( a['name1'], a['name2'] ) ])\n",
    "    names =np.array(names,dtype=str)\n",
    "\n",
    "    mass=a['mass']\n",
    "    chisq=a['chisq']\n",
    "    #determine ra and dec\n",
    "    ra_deg=(a['ra1']+a['ra2']/60.+a['ra3']/3600.)*15\n",
    "    dec_deg=(np.abs(a['dec1'])+np.abs(a['dec2']/60.)+np.abs(a['dec3']/3600.))\n",
    "\n",
    "    pos = a['dec1'] >= 0\n",
    "    neg = (a['dec1'] < 0) | (a['dec2'] < 0)\n",
    "    print(len(neg))\n",
    "    dec_deg[neg]=-1*dec_deg[neg]\n",
    "\n",
    "\n",
    "    nstar=len(dec_deg)\n",
    "\n",
    "    plx=np.zeros(nstar)\n",
    "    gmag=np.zeros(nstar)\n",
    "    bp_rp=np.zeros(nstar)\n",
    "    ra=np.zeros(nstar)\n",
    "    dec=np.zeros(nstar)\n",
    "    bmv=np.zeros(nstar)\n",
    "    hkact=np.zeros(nstar)\n",
    "\n",
    "    Simbad.add_votable_fields('sptype')\n",
    "    Simbad.timeout=60\n",
    "    Vizier.timeout=60\n",
    "\n",
    "    spt= [\"\" for i in range(nstar)]\n",
    "    for i in range(nstar):\n",
    "       print('processing star number ',i,' star name ',names[i])\n",
    "\n",
    "       #simbad\n",
    "       try:\n",
    "        results=Simbad.query_object(names[i])\n",
    "       except:\n",
    "        print('!!!!!Error on ',names[i])\n",
    "        continue\n",
    "       spt[i]=results['SP_TYPE'][0]\n",
    "\n",
    "       coord=SkyCoord(ra=ra_deg[i],dec=dec_deg[i],unit=(u.degree,u.degree),frame='icrs')\n",
    "       r=Gaia.cone_search(coord,radius)\n",
    "       j=r.get_results()\n",
    "       try:\n",
    "         ra[i]=j['ra'][0]\n",
    "         dec[i]=j['dec'][0]\n",
    "#         print('found star ',i,names[i],ra_deg[i],dec_deg[i],(a['dec1'])[i],(a['dec2'])[i],(a['dec3'])[i])\n",
    "       except:\n",
    "         print('missing star ',i,names[i],ra_deg[i],dec_deg[i],(a['dec1'])[i],(a['dec2'])[i],(a['dec3'])[i])\n",
    "         continue\n",
    "       plx[i]=j['parallax'][0]\n",
    "       gmag[i]=j['phot_g_mean_mag'][0]\n",
    "       bp_rp[i]=j['bp_rp'][0]\n",
    "\n",
    "       #now, pull Tycho II catalog\n",
    "       result=Vizier.query_region(SkyCoord.from_name(names[i]),radius=Angle(5/3600.,\"deg\"),catalog=['I/259/tyc2'])\n",
    "       #print(result)\n",
    "       #result=Vizier.query_object(names[i],radius=Angle(5/3600.,\"deg\"),catalog=['I/259/tyc2'])\n",
    "       #print(result[0]['BTmag'][0])\n",
    "\n",
    "       if len(result) >= 1:\n",
    "         btmag=result[0]['BTmag'][0]\n",
    "         vtmag=result[0]['VTmag'][0]\n",
    "         bmag,vmag=tycho_convert(btmag,vtmag)\n",
    "         #print(bmag,vmag,btmag,vtmag)\n",
    "       else:\n",
    "         bmag= -99\n",
    "         vmag=-109\n",
    "\n",
    "       caHK=99 #initializing to NaN\n",
    "\n",
    "       #now, pull catalogs to find if the star has an activity measurement\n",
    "       #Pace+2013\n",
    "       result=Vizier.query_object(names[i],radius=Angle(5/3600.,\"deg\"),catalog=['J/A+A/551/L8'])\n",
    "       try:\n",
    "         caHK=0.5*(result[0]['logRmin'][0]+result[0]['logRmax'][0])\n",
    "       except:\n",
    "         caHK=99\n",
    "\n",
    "       #Gondoin+2020\n",
    "       result=Vizier.query_object(names[i],radius=Angle(5/3600.,\"deg\"),catalog=['J/A+A/641/A110'])\n",
    "       try:\n",
    "          newHK=result[0][\"logR'HK\"][0]\n",
    "          caHK=np.minimum(caHK,newHK)\n",
    "       except:\n",
    "          newHK=99\n",
    "\n",
    "       #Hojjatpanah+2020\n",
    "       result=Vizier.query_object(names[i],radius=Angle(5/3600.,\"deg\"),catalog=['J/A+A/639/A35'])\n",
    "       try:\n",
    "          newHK=result[0][\"logR'HK\"][0]\n",
    "          caHK=np.minimum(caHK,newHK)\n",
    "       except:\n",
    "          newHK=99\n",
    "\n",
    "       #Hojjatpanah+2019\n",
    "       result=Vizier.query_object(names[i],radius=Angle(5/3600.,\"deg\"),catalog=['J/A+A/629/A80'])\n",
    "       try:\n",
    "          newHK=result[0][\"logR'HK\"][0]\n",
    "          caHK=np.minimum(caHK,newHK)\n",
    "       except:\n",
    "          newHK=99\n",
    "\n",
    "       #Lick Planet Search 2010\n",
    "       result=Vizier.query_object(names[i],radius=Angle(5/3600.,\"deg\"),catalog=['J/ApJ/725/875/table1'])\n",
    "       try:\n",
    "          newHK=result[0]['logRHK'][0]\n",
    "          caHK=np.minimum(caHK,newHK)\n",
    "       except:\n",
    "          newHK=99\n",
    "\n",
    "       #Gray/Nstars-south\n",
    "\n",
    "       result=Vizier.query_object(names[i],radius=Angle(5/3600.,\"deg\"),catalog=['J/AJ/132/161'])\n",
    "       try:\n",
    "          newHK=result[0]['logR'][0]\n",
    "          caHK=np.minimum(caHK,newHK)\n",
    "       except:\n",
    "          newHK=99\n",
    "\n",
    "       #Gray/Nstars-north\n",
    "\n",
    "       result=Vizier.query_object(names[i],radius=Angle(5/3600.,\"deg\"),catalog=['J/AJ/126/2048'])\n",
    "       try:\n",
    "          newHK=result[0][\"logR'HK\"][0]\n",
    "          caHK=np.minimum(caHK,newHK)\n",
    "       except:\n",
    "          newHK=99\n",
    "\n",
    "       #Boro Saikia+2018\n",
    "       result=Vizier.query_object(names[i],radius=Angle(5/3600.,\"deg\"),catalog=['J/A+A/616/A108'])\n",
    "       try:\n",
    "          newHK=result[0]['logRpHK'][0]\n",
    "          caHK=np.minimum(caHK,newHK)\n",
    "       except:\n",
    "          newHK=99\n",
    "\n",
    "       #Hinkel+2017\n",
    "\n",
    "       result=Vizier.query_object(names[i],radius=Angle(5/3600.,\"deg\"),catalog=['J/ApJ/848/34'])\n",
    "       try:\n",
    "          newHK=result[0]['logRpHK'][0]\n",
    "          caHK=np.minimum(caHK,newHK)\n",
    "       except:\n",
    "          newHK=99\n",
    "\n",
    "       #White and Hillenbrand 2007\n",
    "\n",
    "       result=Vizier.query_object(names[i],radius=Angle(5/3600.,\"deg\"),catalog=['J/AJ/133/2524'])\n",
    "       try:\n",
    "          newHK=result[0]['logRHK'][0]\n",
    "          caHK=np.minimum(caHK,newHK)\n",
    "       except:\n",
    "          newHK=99\n",
    "\n",
    "\n",
    "       hkact[i]=caHK\n",
    "       bmv[i]=bmag-vmag\n",
    "       print('bmv and CaHK for ',names[i],' are ',bmv[i],hkact[i])\n",
    "\n",
    "    gmag_abs=np.array(gmag-5*np.log10(1e2/plx))\n",
    "\n",
    "    f=open(outfile,'w')\n",
    "    for i in range(len(ra)):\n",
    "       f.write(\"%s %.3s %f %f %f %f %f %f %f %f %f %f\\n\" % (names[i].replace(\" \",\"\"),spt[i],mass[i],chisq[i],ra[i],dec[i],plx[i],gmag_abs[i],gmag[i],bp_rp[i],bmv[i],hkact[i]))\n",
    "       #f.write(\"%s %f %f %f %f %f %f\\n\" % (names[i].replace(\" \",\"\"),ra[i],dec[i],plx[i],gmag_abs[i],gmag[i],bp_rp[i]))\n",
    "\n",
    "    f.close()\n",
    "\n",
    "def tycho_convert(BT,VT):\n",
    "      v=VT-0.09*(BT-VT)\n",
    "      b=v+0.85*(BT-VT)\n",
    "\n",
    "      return b, v\n"
   ]
  },
  {
   "cell_type": "code",
   "execution_count": 179,
   "id": "274250f1",
   "metadata": {},
   "outputs": [
    {
     "name": "stderr",
     "output_type": "stream",
     "text": [
      "/var/folders/jd/2nq0dfy94lsddczv0kg2y33h0000gn/T/ipykernel_44878/1873657264.py:26: DeprecationWarning: `np.int` is a deprecated alias for the builtin `int`. To silence this warning, use `int` by itself. Doing this will not modify any behavior and is safe. When replacing `np.int`, you may wish to use e.g. `np.int64` or `np.int32` to specify the precision. If you wish to review your current use, check the release note link for additional information.\n",
      "Deprecated in NumPy 1.20; for more details and guidance: https://numpy.org/devdocs/release/1.20.0-notes.html#deprecations\n",
      "  'formats':('U20','U20',np.int,np.int,np.float64,np.int,np.int,np.float64,np.float64,'U20',np.float64,np.float64)}\n"
     ]
    },
    {
     "name": "stdout",
     "output_type": "stream",
     "text": [
      "10\n",
      "processing star number  0  star name  HIP 522\n",
      "bmv and CaHK for  HIP 522  are  0.4606998443603514 -4.77036496665\n",
      "processing star number  1  star name  HIP 669\n"
     ]
    },
    {
     "name": "stderr",
     "output_type": "stream",
     "text": [
      "WARNING: UnitsWarning: Unit 'Sun' not supported by the VOUnit standard. Did you mean uN? [astropy.units.format.vounit]\n"
     ]
    },
    {
     "name": "stdout",
     "output_type": "stream",
     "text": [
      "bmv and CaHK for  HIP 669  are  0.5754500389099118 -4.7779998779296875\n",
      "processing star number  2  star name  HIP 1068\n",
      "bmv and CaHK for  HIP 1068  are  10.0 99.0\n",
      "processing star number  3  star name  HIP 1349\n",
      "bmv and CaHK for  HIP 1349  are  0.5865000486373901 -4.75032990602\n",
      "processing star number  4  star name  HIP 1444\n"
     ]
    },
    {
     "name": "stderr",
     "output_type": "stream",
     "text": [
      "WARNING: UnitsWarning: Unit 'Sun' not supported by the VOUnit standard. Did you mean uN? [astropy.units.format.vounit]\n"
     ]
    },
    {
     "name": "stdout",
     "output_type": "stream",
     "text": [
      "bmv and CaHK for  HIP 1444  are  0.5516501426696774 -5.30448706779\n",
      "processing star number  5  star name  HIP 1598\n"
     ]
    },
    {
     "name": "stderr",
     "output_type": "stream",
     "text": [
      "WARNING: UnitsWarning: Unit 'Sun' not supported by the VOUnit standard. Did you mean uN? [astropy.units.format.vounit]\n",
      "WARNING: UnitsWarning: Unit 'Sun' not supported by the VOUnit standard. Did you mean uN? [astropy.units.format.vounit]\n"
     ]
    },
    {
     "name": "stdout",
     "output_type": "stream",
     "text": [
      "bmv and CaHK for  HIP 1598  are  0.5847997665405273 -4.923999786376953\n",
      "processing star number  6  star name  HIP 2790\n",
      "bmv and CaHK for  HIP 2790  are  0.7029497146606438 -4.89611434898\n",
      "processing star number  7  star name  HIP 3008\n",
      "bmv and CaHK for  HIP 3008  are  1.2078495979309078 99.0\n",
      "processing star number  8  star name  HIP 3588\n",
      "bmv and CaHK for  HIP 3588  are  1.2095494747161872 -4.58653262788\n",
      "processing star number  9  star name  HIP 3879\n",
      "bmv and CaHK for  HIP 3879  are  1.1746999740600579 -4.36561680453\n"
     ]
    }
   ],
   "source": [
    "directory='./code/sect3/files/'\n",
    "filename='gkm_30pctest'\n",
    "add_gaia_data(directory+filename)"
   ]
  },
  {
   "cell_type": "markdown",
   "id": "2defdce0",
   "metadata": {},
   "source": [
    "This creates a file that we can read in ..."
   ]
  },
  {
   "cell_type": "code",
   "execution_count": 181,
   "id": "787c2c13",
   "metadata": {},
   "outputs": [
    {
     "name": "stdout",
     "output_type": "stream",
     "text": [
      "[1.583799 2.068107 3.325006 4.226865 4.497121]\n",
      "[-49.075368 -14.824541  69.32568  -52.650335 -13.455642]\n"
     ]
    },
    {
     "data": {
      "image/png": "[encoded data removed]",
      "text/plain": [
       "<Figure size 432x288 with 1 Axes>"
      ]
     },
     "metadata": {
      "needs_background": "light"
     },
     "output_type": "display_data"
    }
   ],
   "source": [
    "from math import exp, log10\n",
    "\n",
    "directory='./code/sect3/files/'\n",
    "file0='gkm_30pctest_plus_gaia_and_cahkv2'\n",
    "def run(infile=file0):\n",
    "   table=np.loadtxt(directory+infile,dtype=np.unicode_)\n",
    "   hgca_name=table[:,0]\n",
    "   hgca_bmv=table[:,10].astype(float)\n",
    "   hgca_cahk=table[:,11].astype(float)\n",
    "   hgca_mass=table[:,2].astype(float)\n",
    "   hgca_ra=table[:,4].astype(float)\n",
    "   hgca_dec=table[:,5].astype(float)\n",
    "   plx=table[:,6].astype(float)\n",
    "\n",
    "   print(hgca_ra[0:5])\n",
    "   print(hgca_dec[0:5])\n",
    "\n",
    "   detectable= np.where( (hgca_mass > 5.0) & (hgca_mass < 30))\n",
    "   lowmass=np.where((hgca_mass < 5.0) & (hgca_mass > 1.0))\n",
    "   c1='lightgray'\n",
    "   m1='.'\n",
    "   #label1='HGCA stars ($M_{comp, 0.5 arcsec}$ = $1-5 M_{J}$)'\n",
    "\n",
    "   c2='lime'\n",
    "   m2='.'\n",
    "   label2='HGCA stars ($M_{comp, 0.5 arcsec}$ = 1-5 $M_{J}$)'\n",
    "\n",
    "   c3='magenta'\n",
    "   m3='.'\n",
    "   label3='HGCA stars ($M_{comp, 0.5 arcsec}$ = 5-30 $M_{J}$)'\n",
    "   plt.xlim(0.45,0.9)\n",
    "   plt.ylim(-5.5,-3.25)\n",
    "   plt.xlabel(\"B-V\")\n",
    "   plt.ylabel(\"log(R'HK)\")\n",
    "   hyades_bmv=[0.5,0.9]\n",
    "   pleiades_bmv=[0.5,0.8]\n",
    "   hyades_cahk=[-4.55,-4.45]\n",
    "   pleiades_cahk=[-4.4,-4.2]\n",
    "   m67_bmv=[0.5,0.8]\n",
    "   m67_cahk=[-4.8,-4.8]\n",
    "   plt.plot(m67_bmv,m67_cahk,'-',zorder=1,label='M67 (3.5 Gyr)',c='black')\n",
    "   plt.plot(hyades_bmv,hyades_cahk,'--',zorder=1,label='Hyades (800 Myr)')\n",
    "   plt.plot(pleiades_bmv,pleiades_cahk,'-.',zorder=1,label='Pleiades (110 Myr)')\n",
    "\n",
    "   plt.scatter(hgca_bmv,hgca_cahk,marker=m1,c=c1,s=30*hgca_mass/2,zorder=2)\n",
    "   plt.scatter(hgca_bmv[detectable],hgca_cahk[detectable],marker=m3,c=c3,label=label3,s=50*hgca_mass[detectable]/2,zorder=2)\n",
    "   plt.scatter(hgca_bmv[lowmass],hgca_cahk[lowmass],marker=m2,c=c2,label=label2,s=50*hgca_mass[lowmass]/2,zorder=2)\n",
    "   plt.legend(loc='upper left',fontsize=8.5)\n",
    "\n",
    "    \n",
    "run()"
   ]
  },
  {
   "cell_type": "markdown",
   "id": "99e23636",
   "metadata": {},
   "source": [
    "A fuller version of this plot (where I didn't truncate the sample), looks like the following...\n",
    "                               \n",
    "![png](./code/sect3/figures/cahk.png)                            "
   ]
  },
  {
   "cell_type": "code",
   "execution_count": null,
   "id": "cf241079",
   "metadata": {},
   "outputs": [],
   "source": []
  }
 ],
 "metadata": {
  "kernelspec": {
   "display_name": "Python 3 (ipykernel)",
   "language": "python",
   "name": "python3"
  },
  "language_info": {
   "codemirror_mode": {
    "name": "ipython",
    "version": 3
   },
   "file_extension": ".py",
   "mimetype": "text/x-python",
   "name": "python",
   "nbconvert_exporter": "python",
   "pygments_lexer": "ipython3",
   "version": "3.10.4"
  }
 },
 "nbformat": 4,
 "nbformat_minor": 5
}
