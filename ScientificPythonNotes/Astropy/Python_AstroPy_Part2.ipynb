{
 "cells": [
  {
   "cell_type": "markdown",
   "id": "d6c4eda7",
   "metadata": {},
   "source": [
    "# _Python for Scientific Data Analysis_\n",
    "\n",
    "\n",
    "#  AstroPy and AstroQuery\n",
    "\n",
    "## Section 2a: Reading in Tables/Files\n",
    "\n",
    "As before, we start off with the basic library import commands:"
   ]
  },
  {
   "cell_type": "code",
   "execution_count": 1,
   "id": "cdebc5c1",
   "metadata": {},
   "outputs": [],
   "source": [
    "import numpy as np\n",
    "import matplotlib.pyplot as plt\n",
    "%matplotlib inline"
   ]
  },
  {
   "cell_type": "markdown",
   "id": "529c204d",
   "metadata": {},
   "source": [
    "Also, for this section, we will be grabbing files from the ./sect2/code/files/ directory often.  So we save this as a variable"
   ]
  },
  {
   "cell_type": "code",
   "execution_count": 2,
   "id": "b7004e0e",
   "metadata": {},
   "outputs": [],
   "source": [
    "directory='./code/sect2/files/'"
   ]
  },
  {
   "cell_type": "markdown",
   "id": "e402c616",
   "metadata": {},
   "source": [
    "### astropy.io.ascii\n",
    "\n",
    "The previous section first focused on reading in and writing astronomical image data stored in the FITS format using ``astropy.io.fits`` function. \n",
    "\n",
    " ``astropy.io.ascii ``provides methods for reading and writing a wide range of ASCII data table formats via built-in Extension Reader Classes. The emphasis is on flexibility and convenience of use, although readers can optionally use a less flexible C-based engine for reading and writing for improved performance. \n",
    " \n",
    " The import call goes like this:\n",
    "        "
   ]
  },
  {
   "cell_type": "code",
   "execution_count": 3,
   "id": "d235af54",
   "metadata": {},
   "outputs": [],
   "source": [
    "\n",
    " from astropy.io import ascii\n"
   ]
  },
  {
   "cell_type": "markdown",
   "id": "f79baaf7",
   "metadata": {},
   "source": [
    " \n",
    " The official documentation goes into a lot of detail on all the different things ``ascii`` can do.  Specifically, it can handle a lot of different input file format names.  I'll include the most important ones below:\n",
    " \n",
    " * ``basic`` - Basic table with custom delimiters\n",
    " * ``cds`` - CDS format table\n",
    " * ``csv`` - Basic, except with comma-separated values\n",
    " * ``fixedwidth`` - fixed width\n",
    " * ``ipac`` - Looks like the following ...\n",
    " \n",
    " ```\n",
    "|  column1   |  column2  | column3 |  Column Names (required)\n",
    "|   double   |   double  |   int   | Data Types (standard)\n",
    "|   unit     |   unit    |   unit  |   Data Units (optional)\n",
    "|   null     |   null    |   null  |  Null Values (optional)\n",
    "   165.466279    -34.704730      5    |     Data Rows (1 required)\n",
    " ```\n",
    " * ``latex``- a LaTeX table\n",
    " * ``mrt`` - AAS Machine-Readable Table format (i.e. what you get if you download a table file from a AAS Journals paper (e.g. Astrophysical Journal)."
   ]
  },
  {
   "cell_type": "markdown",
   "id": "d37f8c87",
   "metadata": {},
   "source": [
    "#### Reading in files\n",
    " \n",
    " The basic call for ``ascii.read`` is:\n",
    " \n",
    " ```\n",
    " variable_name=ascii.read('[file name]',\n",
    "    delimiter=[delimiter],format=[format_name])\n",
    " ```\n",
    " \n",
    " Two examples:\n",
    " \n",
    " ``a=ascii.read('data.csv',format='csv')``\n",
    "\n",
    " Now you have two options when you read in a table.  First, you can _tell_ astropy which format your table is in.  This can be done through the ``format`` keyword.   You can also give clues.  E.g. \n",
    " \n",
    " \n",
    " ``a=ascii.read('data.txt',delimiter=',')`` ...\n",
    " \n",
    "Setting ``delimiter=','`` then tells Astropy that you have a csv file (because you have comma-separated values for your table entries, aka a .csv file)."
   ]
  },
  {
   "cell_type": "markdown",
   "id": "962ee207",
   "metadata": {},
   "source": [
    "#### _Examples_\n",
    "\n",
    "Below are several examples of reading in files with ``ascii``\n",
    "\n",
    "* A csv file"
   ]
  },
  {
   "cell_type": "code",
   "execution_count": 4,
   "id": "d0188453",
   "metadata": {},
   "outputs": [
    {
     "name": "stdout",
     "output_type": "stream",
     "text": [
      "          pl_name                     hostname         sy_snum sy_pnum discoverymethod ... sy_kmagerr1 sy_kmagerr2 sy_gaiamag sy_gaiamagerr1 sy_gaiamagerr2\n",
      "---------------------------- ------------------------- ------- ------- --------------- ... ----------- ----------- ---------- -------------- --------------\n",
      "     1RXS J160929.1-210524 b     1RXS J160929.1-210524       1       1         Imaging ...       0.021      -0.021    12.0572       0.002275      -0.002275\n",
      "2MASS J01033563-5515561 AB b 2MASS J01033563-5515561 A       2       1         Imaging ...       0.022      -0.022         --             --             --\n"
     ]
    }
   ],
   "source": [
    "infile0='imaged_planets_v6.csv'\n",
    "\n",
    "def readinplanetfile(infile=infile0):\n",
    "    \n",
    "    data=ascii.read(directory+infile0)\n",
    "    #print(data[0:5])\n",
    "    #print(data['pl_name'][10:30])\n",
    "    \n",
    "readinplanetfile()\n",
    "\n",
    "#Or\n",
    "\n",
    "\n",
    "#here, the code uses the delimiter keyword to figure out the type of table\n",
    "def readinplanetfile2(infile=infile0):\n",
    "    \n",
    "    data=ascii.read(directory+infile0,delimiter=',')\n",
    "    #print(repr((data[0:2])[0])\n",
    "    print(data[0:2])\n",
    "    \n",
    "readinplanetfile2(infile='imaged_planets_v6.txt')\n"
   ]
  },
  {
   "cell_type": "markdown",
   "id": "53f9cb6b",
   "metadata": {},
   "source": [
    "* a latex file"
   ]
  },
  {
   "cell_type": "code",
   "execution_count": 5,
   "id": "d249f36b",
   "metadata": {},
   "outputs": [
    {
     "data": {
      "text/html": [
       "<div><i>Table length=5</i>\n",
       "<table id=\"table4741933776\" class=\"table-striped table-bordered table-condensed\">\n",
       "<thead><tr><th>Name</th><th>RA</th><th>DEC</th><th>V</th><th>H</th></tr></thead>\n",
       "<thead><tr><th>str8</th><th>str10</th><th>str10</th><th>float64</th><th>float64</th></tr></thead>\n",
       "<tr><td>HIP950</td><td>0:11:44.16</td><td>-35:07:58.</td><td>5.239</td><td>4.159</td></tr>\n",
       "<tr><td>HIP5661</td><td>1:12:45.6</td><td>-37:51:25.</td><td>5.934</td><td>5.288</td></tr>\n",
       "<tr><td>HIP6748</td><td>1:26:51.6</td><td>-13:03:21.</td><td>5.505</td><td>4.831</td></tr>\n",
       "<tr><td>HIP7447</td><td>1:35:54.96</td><td>17:26:02.4</td><td>-99.0</td><td>5.364</td></tr>\n",
       "<tr><td>HIP9977</td><td>2:08:29.52</td><td>37:51:32.4</td><td>4.82</td><td>4.571</td></tr>\n",
       "</table></div>"
      ],
      "text/plain": [
       "<Table length=5>\n",
       "  Name      RA        DEC        V       H   \n",
       "  str8    str10      str10    float64 float64\n",
       "------- ---------- ---------- ------- -------\n",
       " HIP950 0:11:44.16 -35:07:58.   5.239   4.159\n",
       "HIP5661  1:12:45.6 -37:51:25.   5.934   5.288\n",
       "HIP6748  1:26:51.6 -13:03:21.   5.505   4.831\n",
       "HIP7447 1:35:54.96 17:26:02.4   -99.0   5.364\n",
       "HIP9977 2:08:29.52 37:51:32.4    4.82   4.571"
      ]
     },
     "execution_count": 5,
     "metadata": {},
     "output_type": "execute_result"
    }
   ],
   "source": [
    "data=ascii.read(directory+'startable.tex')\n",
    "data[0:5] #prints out the first 5 rows of data\n",
    "#see what happens when you do this ...\n",
    "#data=ascii.read(directory+'startable.tex',format='csv')"
   ]
  },
  {
   "cell_type": "markdown",
   "id": "2924c1bf",
   "metadata": {},
   "source": [
    "* an ipac table file"
   ]
  },
  {
   "cell_type": "code",
   "execution_count": 6,
   "id": "647f3be6",
   "metadata": {},
   "outputs": [],
   "source": [
    "data=ascii.read(directory+'wise_allwise_hip99770.tbl',format='ipac')\n",
    "\n",
    "#data[0:2]['ra'] #prints out the first two right ascensions"
   ]
  },
  {
   "cell_type": "markdown",
   "id": "bf874fb7",
   "metadata": {},
   "source": [
    "* an mrt table file"
   ]
  },
  {
   "cell_type": "code",
   "execution_count": 7,
   "id": "e1067247",
   "metadata": {},
   "outputs": [],
   "source": [
    "# mrt table\n",
    "data=ascii.read(directory+'mgmembers.txt',format='mrt')"
   ]
  },
  {
   "cell_type": "markdown",
   "id": "197b6123",
   "metadata": {},
   "source": [
    "#### Writing Tables\n",
    "\n",
    "The ``ascii.write`` function writes a data table as an ascii table formatted in various ways.\n",
    "\n",
    "The key step is to create a ``Table()`` object which you then populate with entries and execute an ``ascii.write`` command on the table.   \n",
    "\n",
    "Below is a simple example"
   ]
  },
  {
   "cell_type": "code",
   "execution_count": 8,
   "id": "aabcf443",
   "metadata": {},
   "outputs": [],
   "source": [
    "#a simple table\n",
    "from astropy.table import Table\n",
    "\n",
    "entries=Table()\n",
    "#some fake sinusoidal data\n",
    "x = np.linspace(0, 2 * np.pi, 20)\n",
    "y= (np.linspace(0,2*np.pi,20))\n",
    "#[:,None]\n",
    "#[:,None]\n",
    "\n",
    "def f(x,y):\n",
    " return np.sin(x)+np.cos(y)\n",
    "\n",
    "X,Y=np.meshgrid(x,y)\n",
    "\n",
    "entries['x']=X.flatten()\n",
    "entries['y']=Y.flatten()\n",
    "entries['f(x,y)']=f(X,Y).flatten()\n",
    "filename='output2.dat'\n",
    "filename2='output2.csv'\n",
    "filename3='output2.tex'\n",
    "ascii.write(entries,directory+filename,overwrite=True,format='basic')\n",
    "ascii.write(entries,directory+filename2,overwrite=True,format='csv')\n",
    "ascii.write(entries,directory+filename3,overwrite=True,format='latex')"
   ]
  },
  {
   "cell_type": "markdown",
   "id": "137b8a3a",
   "metadata": {},
   "source": [
    "This writes the data to three tables: a simple ascii table, a csv table, and a LaTeX table.\n",
    "\n",
    "The full API for ``ascii.write`` is more involved and gives you control over the column formats, names, etc.   See here: [https://docs.astropy.org/en/stable/io/ascii/write.html]().   Key parameters are:\n",
    "\n",
    "* delimiter (we already covered this)\n",
    "* formats (a dictionary of data type converters)\n",
    "* names (list of output column names)\n",
    "* fill values (if there are missing values, fill with this symbol)\n",
    "\n",
    "Below is an example:\n",
    "    "
   ]
  },
  {
   "cell_type": "code",
   "execution_count": 9,
   "id": "6f23b3d9",
   "metadata": {},
   "outputs": [
    {
     "name": "stderr",
     "output_type": "stream",
     "text": [
      "WARNING: The key(s) {'col1', 'col2', 'col0'} specified in the formats argument do not match a column name. [astropy.io.ascii.ui]\n"
     ]
    }
   ],
   "source": [
    "\n",
    "colformat={'col0':'%.5f', 'col1':'%.5f', 'col2':'%.5f'}\n",
    "colnames=['x','y','f(x,y)']\n",
    "filename4='output2v2.dat'\n",
    "ascii.write([X.flatten(),Y.flatten(),f(X,Y).flatten()],\n",
    "            directory+filename4,names=colnames,formats=colformat,overwrite=True)\n"
   ]
  },
  {
   "cell_type": "markdown",
   "id": "0f4f82c0",
   "metadata": {},
   "source": [
    "This prints out a formatted table with columns of x, y, and f(x,y).   We do not have to first create a Table object: instead, we can just put the columns in closed [ ] in a list. \n",
    " "
   ]
  },
  {
   "cell_type": "markdown",
   "id": "3e3edd26",
   "metadata": {},
   "source": [
    "## Section 2b: Units, Constants and Coordinates\n",
    "### Astropy Quantities: Units and Constants\n",
    "\n",
    "Astropy allows the ability to give variables the attribute of ``units``.   E.g. instead of just a variable that represents a length, astropy saves it as an object with an attribute of meters (or microns or kilometers, etc.).   This is useful for a number of things, including debugging and automatic unit conversion without having to do much thinking.  Very helpful.\n",
    "\n",
    "Similarly, astropy saves a large number of ``constants``, so you do not have to reenter them. \n",
    "\n",
    "To load these modules, add the following lines to code:"
   ]
  },
  {
   "cell_type": "code",
   "execution_count": 10,
   "id": "20b5d63e",
   "metadata": {},
   "outputs": [],
   "source": [
    "import astropy.units as u #since 'units' takes too long to type\n",
    "\n",
    "#from astropy.constants import [name of the constants]\n",
    "#an example ... gravitational constant, Planck constant, Boltzmann's constant\n",
    "from astropy.constants import G,h,k_B"
   ]
  },
  {
   "cell_type": "markdown",
   "id": "22a81c07",
   "metadata": {},
   "source": [
    "To make ``units`` and ``constants`` work with plotting routines, you also should ``from astropy.visualization import quantity_support``.  \n",
    "\n",
    "The official tutorial on units and constants in astropy is very good, so I will repeat it with only minor modifications here.\n",
    "\n",
    "For reference, the full list of units is here:\n",
    "\n",
    "[https://kbarbary-astropy.readthedocs.io/en/latest/units/index.html]()\n",
    "\n",
    "and constants here:\n",
    "\n",
    "[https://docs.astropy.org/en/stable/constants/index.html#module-astropy.constants]()\n",
    " "
   ]
  },
  {
   "cell_type": "markdown",
   "id": "5a7805ee",
   "metadata": {},
   "source": [
    "#### _Examples_\n",
    "\n",
    "\n",
    "1. Galaxy mass\n",
    "\n",
    "In this first example, we will use ``Quantity`` objects to estimate a hypothetical galaxy's mass, given its half-light radius and radial velocities of stars in the galaxy.\n",
    "\n",
    "Let's assume that we measured the half-light radius of the galaxy to be 29 pc projected on the sky at the distance of the galaxy. This radius is often called the \"effective radius\", so we'll store it as a ``Quantity`` object with the name ``R_eff``. \n",
    "\n",
    "We can create a Quantity object by multiplying the value with its unit. Units are accessed as u.\"unit\", in this case u.pc."
   ]
  },
  {
   "cell_type": "code",
   "execution_count": 11,
   "id": "485c168b",
   "metadata": {},
   "outputs": [],
   "source": [
    "R_eff=29*u.pc"
   ]
  },
  {
   "cell_type": "markdown",
   "id": "82cfd8fc",
   "metadata": {},
   "source": [
    "Note, this is a sleek way of creating quantity objects.  The more verbose way is"
   ]
  },
  {
   "cell_type": "code",
   "execution_count": 12,
   "id": "c2a05557",
   "metadata": {},
   "outputs": [],
   "source": [
    "R_eff=u.Quantity(29,unit=u.pc)"
   ]
  },
  {
   "cell_type": "markdown",
   "id": "8781f516",
   "metadata": {},
   "source": [
    "Now, you can access both the value and unit of a ``Quantity`` using the ``value`` and ``unit`` attributes.  E.g."
   ]
  },
  {
   "cell_type": "code",
   "execution_count": 13,
   "id": "88dadbee",
   "metadata": {},
   "outputs": [
    {
     "name": "stdout",
     "output_type": "stream",
     "text": [
      "Half light radius\n",
      "value: 29.0\n",
      "unit: pc\n",
      "The Half light radius value is 29.0 and unit is pc\n"
     ]
    }
   ],
   "source": [
    "\n",
    "print(\"\"\"Half light radius\n",
    "value: {0}\n",
    "unit: {1}\"\"\".format(R_eff.value, R_eff.unit))\n",
    "#prints out...\n",
    "#Half light radius\n",
    "#value:29.0\n",
    "#unit: pc\n",
    "\n",
    "#slightly less elegant way...\n",
    "print(\"The Half light radius value is {0:.1f} and unit is {1:s}\".format(R_eff.value,R_eff.unit))\n",
    "#prints out ...\n",
    "#The Half light radius value is 29.0 and unit is pc\n"
   ]
  },
  {
   "cell_type": "markdown",
   "id": "b3eb2dfb",
   "metadata": {},
   "source": [
    "The half-light radius is in parsecs.  We can convert this to any other length unit.  E.g."
   ]
  },
  {
   "cell_type": "code",
   "execution_count": 14,
   "id": "03c787db",
   "metadata": {},
   "outputs": [
    {
     "name": "stdout",
     "output_type": "stream",
     "text": [
      "8.95e+17 m\n",
      "94.6 lyr\n",
      "8.95e+23 um\n"
     ]
    }
   ],
   "source": [
    "\n",
    "print(\"{0:.3g}\".format(R_eff.to(u.m))) # meters\n",
    "#8.95e+17 m\n",
    "print(\"{0:.3g}\".format(R_eff.to(u.lyr))) # light-years\n",
    "#94.6 lyr\n",
    "print(\"{0:.3g}\".format(R_eff.to(u.um))) # microns\n",
    "#8.95e+23 um\n"
   ]
  },
  {
   "cell_type": "markdown",
   "id": "0262db6b",
   "metadata": {},
   "source": [
    "Next, we'll first create a synthetic dataset of radial velocity measurements, assuming a normal distribution with a mean velocity of 206 km/s and a velocity dispersion of 4.3 km/s."
   ]
  },
  {
   "cell_type": "code",
   "execution_count": 15,
   "id": "b69fc268",
   "metadata": {},
   "outputs": [],
   "source": [
    "\n",
    "vmean = 206\n",
    "sigin = 4.3\n",
    "v = np.random.normal(vmean, sigin, 500)*u.km/u.s\n"
   ]
  },
  {
   "cell_type": "markdown",
   "id": "ba3b6c41",
   "metadata": {},
   "source": [
    "If you plot this with a histogram plot from matplotlib, you see the following:\n",
    "\n",
    "![](./code/sect2/figures/Ex2_1.png)\n",
    "\n",
    "\n",
    "And then convert the radial-velocities to m/s"
   ]
  },
  {
   "cell_type": "code",
   "execution_count": 16,
   "id": "e8a27583",
   "metadata": {},
   "outputs": [
    {
     "name": "stdout",
     "output_type": "stream",
     "text": [
      "First 10 radial velocity measurements: [204.13176754 205.14917577 203.62889657 214.29970927 202.15878516\n",
      " 207.79853984 209.87242521 198.34157696 197.48936017 202.75553118] km / s [204131.76753603 205149.17577343 203628.89656974 214299.7092688\n",
      " 202158.78516392 207798.53983917 209872.42521067 198341.57695653\n",
      " 197489.36017377 202755.53117646] m / s\n"
     ]
    }
   ],
   "source": [
    "\n",
    "print(\"First 10 radial velocity measurements: {0} {1}\".format(v[:10],v.to(u.m/u.s)[:10]))\n",
    "#First 10 radial velocity measurements: [197.75728427 208.75234195 209.30692068 210.00891746 204.54189052\n",
    "# 204.62432297 211.97852361 216.22527279 208.21670381 215.05119579] [197757.28427385 208752.34194905 209306.92068342 210008.91745652\n",
    "# 204541.89052166 204624.32297168 211978.52360975 216225.27279323\n",
    "# 208216.70380613 215051.19578812] m / s\n"
   ]
  },
  {
   "cell_type": "markdown",
   "id": "50d15b5b",
   "metadata": {},
   "source": [
    "One can ocassionally run into issues when attempting to plot Quantity objects with matplotlib libraries. It is always possible to fix this by passing the value array (e.g., v.value) to matplotlib functions. However, calling the astropy.visualization.quantity_support() function will change the settings on your matplotlib session to better handle astropy Quantity objects:\n",
    "\n",
    "``quantity_support()``"
   ]
  },
  {
   "cell_type": "markdown",
   "id": "69cccd7a",
   "metadata": {},
   "source": [
    "Now we can plot a histogram of the velocity dataset. Note that, due to calling quantity_support, the x-axis is automatically labeled with the correct units."
   ]
  },
  {
   "cell_type": "code",
   "execution_count": 17,
   "id": "981ebc03",
   "metadata": {},
   "outputs": [
    {
     "data": {
      "image/png": "[encoded data removed]",
      "text/plain": [
       "<Figure size 432x288 with 1 Axes>"
      ]
     },
     "metadata": {
      "needs_background": "light"
     },
     "output_type": "display_data"
    }
   ],
   "source": [
    "from astropy.visualization import quantity_support\n",
    "def plot_v():\n",
    " fig,axes=plt.subplots()\n",
    " quantity_support()\n",
    "\n",
    " axes.tick_params(which='both', axis='x',direction='in')\n",
    " axes.tick_params(which='major',length=6)\n",
    " axes.tick_params(which='minor',length=3)\n",
    " axes.set_ylabel('Relative Number',fontsize=14)\n",
    " axes.hist(v,bins='auto',histtype='step')\n",
    " #plt.show()\n",
    "\n",
    "plot_v()"
   ]
  },
  {
   "cell_type": "markdown",
   "id": "9b5b708b",
   "metadata": {},
   "source": [
    "\n",
    "\n",
    "Now we can calculate the velocity dispersion of the galaxy. This demonstrates how you can perform basic operations like subtraction and division with Quantity objects, and also use them in standard numpy functions such as mean() and size(). They retain their units through these operations just as you would expect them to."
   ]
  },
  {
   "cell_type": "code",
   "execution_count": 18,
   "id": "d8868283",
   "metadata": {},
   "outputs": [
    {
     "name": "stdout",
     "output_type": "stream",
     "text": [
      "Velocity dispersion: 4.40 km / s\n"
     ]
    }
   ],
   "source": [
    "\n",
    "sigma = np.sqrt(np.sum((v - np.mean(v))**2) / np.size(v))\n",
    "print(\"Velocity dispersion: {0:.2f}\".format(sigma))\n",
    "#Velocity dispersion: 4.31 km / s\n"
   ]
  },
  {
   "cell_type": "markdown",
   "id": "9606574c",
   "metadata": {},
   "source": [
    "Note how we needed to use numpy square root function, because the resulting velocity dispersion quantity is a numpy array. If we used the python standard math library's sqrt function instead, we get an error."
   ]
  },
  {
   "cell_type": "code",
   "execution_count": 19,
   "id": "d15abfec",
   "metadata": {},
   "outputs": [],
   "source": [
    "sigma_scalar = np.sqrt(np.sum((v - np.mean(v))**2) / len(v))"
   ]
  },
  {
   "cell_type": "markdown",
   "id": "f6c208c4",
   "metadata": {},
   "source": [
    "In general, you should only use numpy functions with Quantity objects, not the math equivalents, unless you are sure you understand the consequences.\n",
    "\n",
    "Now for the actual mass calculation. If a galaxy is pressure-supported (for example, an elliptical or dwarf spheroidal galaxy), its mass within the stellar extent can be estimated using a straightforward formula: M1/2=4σ2Reff/G\n",
    ". There are caveats to the use of this formula for science -- see Wolf et al. 2010 for details. For demonstrating Quantity, you can accept that this is often good enough. For the calculation, we can multiply the quantities together, and astropy will keep track of the units."
   ]
  },
  {
   "cell_type": "code",
   "execution_count": 21,
   "id": "3932f040",
   "metadata": {},
   "outputs": [
    {
     "name": "stdout",
     "output_type": "stream",
     "text": [
      "33604150622866.086 kg km2 pc / m3\n"
     ]
    }
   ],
   "source": [
    "\n",
    "M = 4*sigma**2*R_eff/G\n",
    "print(M)\n",
    "#30300318360313.01 kg km2 pc / m3\n"
   ]
  },
  {
   "cell_type": "markdown",
   "id": "aed8e987",
   "metadata": {},
   "source": [
    "The result is in a composite unit, so it's not really obvious it's a mass. However, it can be decomposed to cancel all of the length units (km2pc/m3) using the decompose() method."
   ]
  },
  {
   "cell_type": "code",
   "execution_count": 22,
   "id": "6934881a",
   "metadata": {},
   "outputs": [
    {
     "data": {
      "text/latex": [
       "$1.0369157 \\times 10^{36} \\; \\mathrm{kg}$"
      ],
      "text/plain": [
       "<Quantity 1.03691574e+36 kg>"
      ]
     },
     "execution_count": 22,
     "metadata": {},
     "output_type": "execute_result"
    }
   ],
   "source": [
    "M.decompose()\n",
    "#9.349701307646912e+35 kg"
   ]
  },
  {
   "cell_type": "markdown",
   "id": "d3ce56b9",
   "metadata": {},
   "source": [
    "We can also easily express the mass in whatever form you like -- solar masses are common in astronomy, or maybe you want the default SI and CGS units."
   ]
  },
  {
   "cell_type": "code",
   "execution_count": 23,
   "id": "4818cc41",
   "metadata": {},
   "outputs": [
    {
     "name": "stdout",
     "output_type": "stream",
     "text": [
      "Galaxy mass\n",
      "in solar units: 5.21e+05 solMass\n",
      "SI units: 1.04e+36 kg\n",
      "CGS units: 1.04e+39 g\n"
     ]
    }
   ],
   "source": [
    "\n",
    "print(\"\"\"Galaxy mass\n",
    "in solar units: {0:.3g}\n",
    "SI units: {1:.3g}\n",
    "CGS units: {2:.3g}\"\"\".format(M.to(u.Msun), M.si, M.cgs))\n",
    "\n",
    "#Galaxy mass\n",
    "# in solar units: 4.98e+05 solMass\n",
    "# SI units: 9.9e+35 kg\n",
    "# CGS units: 9.9e+38 g\n"
   ]
  },
  {
   "cell_type": "markdown",
   "id": "453b6498",
   "metadata": {},
   "source": [
    "Or, if you want the log of the mass, you can just use np.log10 as long as the logarithm's argument is dimensionless."
   ]
  },
  {
   "cell_type": "code",
   "execution_count": 24,
   "id": "d2b8b9ab",
   "metadata": {},
   "outputs": [
    {
     "name": "stdout",
     "output_type": "stream",
     "text": [
      "13.526392922666\n",
      "5.717237557527465\n"
     ]
    }
   ],
   "source": [
    "\n",
    "print(np.log10(M.value))\n",
    "#13.488440727046973\n",
    "print(np.log10(M.to_value(u.Msun)))\n",
    "#5.668423518011041\n"
   ]
  },
  {
   "cell_type": "markdown",
   "id": "42ec0791",
   "metadata": {},
   "source": [
    "However, you can't take the log of something with units, as that is not mathematically sensible. So ``np.log10(M)`` will trigger an error."
   ]
  },
  {
   "cell_type": "markdown",
   "id": "081b2499",
   "metadata": {},
   "source": [
    "### Astropy Coordinates\n",
    "\n",
    "[note: as in the prior section, the official documentation/tutorials on astropy for _coordinates_ is really good.  So much of the discussion will basically copy that].\n",
    "\n",
    "The _**coordinates**_ package provides classes for representing a variety of celestial/spatial coordinates and their velocity components, as well as tools for converting between common coordinate systems in a uniform way.\n",
    "\n",
    "#### _SkyCoord_\n",
    "\n",
    "The best way to start using coordinates is to use the SkyCoord class. SkyCoord objects are instantiated by passing in positions (and optional velocities) with specified units and a coordinate frame. Sky positions are commonly passed in as Quantity objects and the frame is specified with the string name.\n",
    "\n",
    "To create a SkyCoord object to represent an ICRS (Right ascension [RA], Declination [Dec]) sky position, the major import command is ``from astropy.coordinates import SkyCoord``.  Below are two simple demonstrations:"
   ]
  },
  {
   "cell_type": "code",
   "execution_count": 25,
   "id": "3a2ff7dc",
   "metadata": {},
   "outputs": [
    {
     "name": "stdout",
     "output_type": "stream",
     "text": [
      "<SkyCoord (ICRS): (ra, dec) in deg\n",
      "    (10.625, 41.2)>\n",
      "<SkyCoord (ICRS): (ra, dec) in deg\n",
      "    (10.625, 41.2)>\n"
     ]
    }
   ],
   "source": [
    "\n",
    "import astropy.units as u\n",
    "from astropy.coordinates import SkyCoord\n",
    "c1 = SkyCoord('00h42m30s', '+41d12m00s', frame='icrs')\n",
    "c2 = SkyCoord(ra=10.625*u.degree, dec=41.2*u.degree, frame='icrs')\n",
    "\n",
    "print(c1)\n",
    "print(c2)\n"
   ]
  },
  {
   "cell_type": "markdown",
   "id": "2c4e0c3e",
   "metadata": {},
   "source": [
    "Note that in the first case, you do not need to multiply by u.[unit], as AstroPy interprets the two strings directly.   Similarly, writing coordinate strings in degrees:minutes:seconds works.   E.g. ``SkyCoord('00d42m30s', '+41d12m00s', frame='icrs')``.  Angle units must be specified for all components, either by passing in a Quantity object (e.g., ``10.5*u.degree``), by including them in the value (e.g., ``'+41d12m00s'``), or via the ``unit`` keyword.\n",
    "\n",
    "The right ascension and declination for the object c can then be accessed as a property of c: e.g. ``c.ra`` or ``c.dec``.  \n",
    "\n",
    "SkyCoord and all other coordinates objects also support array coordinates. These work in the same way as single-value coordinates, but they store multiple coordinates in a single object. When you are going to apply the same operation to many different coordinates (say, from a catalog), this is a better choice than a list of SkyCoord objects, because it will be much faster than applying the operation to each SkyCoord in a for loop. Like the underlying ndarray instances that contain the data, SkyCoord objects can be sliced, reshaped, etc., and can be used with functions like numpy.moveaxis, etc., that affect the shape:"
   ]
  },
  {
   "cell_type": "code",
   "execution_count": 26,
   "id": "d171a7bb",
   "metadata": {},
   "outputs": [
    {
     "name": "stdout",
     "output_type": "stream",
     "text": [
      "<SkyCoord (ICRS): (ra, dec) in deg\n",
      "    [(10., 41.), (11., -5.), (12., 42.), (13.,  0.)]>\n"
     ]
    },
    {
     "data": {
      "text/plain": [
       "<SkyCoord (ICRS): (ra, dec) in deg\n",
       "    [(13.,  0.), (10., 41.), (11., -5.), (12., 42.)]>"
      ]
     },
     "execution_count": 26,
     "metadata": {},
     "output_type": "execute_result"
    }
   ],
   "source": [
    "\n",
    "c = SkyCoord(ra=[10, 11, 12, 13]*u.degree, dec=[41, -5, 42, 0]*u.degree)\n",
    "print(c)\n",
    "#<SkyCoord (ICRS): (ra, dec) in deg\n",
    "#    [(10., 41.), (11., -5.), (12., 42.), (13.,  0.)]>\n",
    "c[1]\n",
    "#<SkyCoord (ICRS): (ra, dec) in deg\n",
    "#    (11., -5.)>\n",
    "c.reshape(2, 2)\n",
    "#<SkyCoord (ICRS): (ra, dec) in deg\n",
    "#    [[(10., 41.), (11., -5.)],\n",
    "#     [(12., 42.), (13.,  0.)]]>\n",
    "np.roll(c, 1)\n",
    "#<SkyCoord (ICRS): (ra, dec) in deg\n",
    "#    [(13.,  0.), (10., 41.), (11., -5.), (12., 42.)]>\n"
   ]
  },
  {
   "cell_type": "markdown",
   "id": "4539ba2d",
   "metadata": {},
   "source": [
    "SkyCoord also works with named variables.   E.g. listing the HMSDMS coordinates for several stars as tuples and then reading them into SkyCoord."
   ]
  },
  {
   "cell_type": "markdown",
   "id": "e46bbd1a",
   "metadata": {},
   "source": [
    "#### _Coordinate Access_\n",
    "\n",
    "Once you have a coordinate object you can access the components of that coordinate (e.g., RA, Dec) to get string representations of the full coordinate.\n",
    "\n",
    "The component values are accessed using (typically lowercase) named attributes that depend on the coordinate frame (e.g., ICRS, Galactic, etc.). For the default, ICRS, the coordinate component names are ra and dec.   you can further list attributes of attributes to get combinations of coordinates."
   ]
  },
  {
   "cell_type": "code",
   "execution_count": 27,
   "id": "6c8b58c5",
   "metadata": {},
   "outputs": [
    {
     "name": "stdout",
     "output_type": "stream",
     "text": [
      "10d41m04.488s\n",
      "0.7123053333333335\n",
      "hms_tuple(h=0.0, m=42.0, s=44.299200000000525)\n",
      "41.26917\n",
      "0.7202828960652683\n"
     ]
    }
   ],
   "source": [
    "\n",
    "c = SkyCoord(ra=10.68458*u.degree, dec=41.26917*u.degree)\n",
    "print(c.ra)\n",
    "#<Longitude 10.68458 deg>\n",
    "print(c.ra.hour )\n",
    "\n",
    "#0.7123053333333335\n",
    "\n",
    "print(c.ra.hms  )\n",
    "#hms_tuple(h=0.0, m=42.0, s=44.299200000000525)\n",
    "\n",
    "print(c.dec.degree  )\n",
    "#41.26917\n",
    "\n",
    "print(c.dec.radian)\n",
    "#0.7202828960652683\n"
   ]
  },
  {
   "cell_type": "markdown",
   "id": "f7e08377",
   "metadata": {},
   "source": [
    "Coordinates can be converted to strings using the ``to_string()`` method:"
   ]
  },
  {
   "cell_type": "code",
   "execution_count": 28,
   "id": "17e2a9d1",
   "metadata": {},
   "outputs": [
    {
     "name": "stdout",
     "output_type": "stream",
     "text": [
      "10.6846 41.2692\n",
      "10d41m04.488s 41d16m09.012s\n",
      "00h42m44.2992s +41d16m09.012s\n"
     ]
    }
   ],
   "source": [
    "\n",
    "print(c.to_string('decimal'))\n",
    "#'10.6846 41.2692'\n",
    "print(c.to_string('dms'))\n",
    "#'10d41m04.488s 41d16m09.012s'\n",
    "\n",
    "print(c.to_string('hmsdms'))\n",
    "#00h42m44.2992s +41d16m09.012s\n"
   ]
  },
  {
   "cell_type": "markdown",
   "id": "6e9350f2",
   "metadata": {},
   "source": [
    "#### _Transformation_\n",
    "\n",
    "One convenient way to transform to a new coordinate frame is by accessing the appropriately named attribute.\n",
    "\n",
    "To get the coordinate in the Galactic frame use:"
   ]
  },
  {
   "cell_type": "code",
   "execution_count": 29,
   "id": "b7fc8a86",
   "metadata": {},
   "outputs": [
    {
     "name": "stdout",
     "output_type": "stream",
     "text": [
      "<SkyCoord (Galactic): (l, b) in deg\n",
      "    (121.17424181, -21.57288557)>\n"
     ]
    }
   ],
   "source": [
    "\n",
    "c_icrs = SkyCoord(ra=10.68458*u.degree, dec=41.26917*u.degree, frame='icrs')\n",
    "print(c_icrs.galactic  )\n",
    "#<SkyCoord (Galactic): (l, b) in deg\n",
    "#   (121.17424181, -21.57288557)>\n"
   ]
  },
  {
   "cell_type": "markdown",
   "id": "4023f53a",
   "metadata": {},
   "source": [
    "For more control, you can use the transform_to method, which accepts a frame name, frame class, or frame instance:\n",
    "\n",
    "    "
   ]
  },
  {
   "cell_type": "code",
   "execution_count": 30,
   "id": "e9be7412",
   "metadata": {},
   "outputs": [
    {
     "data": {
      "text/plain": [
       "<SkyCoord (FK5: equinox=J1975.000): (ra, dec) in deg\n",
       "    (10.34209135, 41.13232112)>"
      ]
     },
     "execution_count": 30,
     "metadata": {},
     "output_type": "execute_result"
    }
   ],
   "source": [
    "\n",
    "c_fk5 = c_icrs.transform_to('fk5')\n",
    "#<SkyCoord (FK5: equinox=J2000.000): (ra, dec) in deg\n",
    "#    (10.68459154, 41.26917146)>\n",
    "\n",
    "from astropy.coordinates import FK5\n",
    "c_fk5.transform_to(FK5(equinox='J1975')) \n",
    "#<SkyCoord (FK5: equinox=J1975.000): (ra, dec) in deg\n",
    "#    (10.34209135, 41.13232112)>\n"
   ]
  },
  {
   "cell_type": "markdown",
   "id": "2ba5d4b5",
   "metadata": {},
   "source": [
    "This form of transform_to also makes it possible to convert from celestial coordinates to AltAz coordinates, allowing the use of SkyCoord as a tool for planning observations. For a more complete example of this, see Determining and plotting the altitude/azimuth of a celestial object."
   ]
  },
  {
   "cell_type": "markdown",
   "id": "b5f92da5",
   "metadata": {},
   "source": [
    "#### _Representation_\n",
    "\n",
    "So far we have been using a spherical coordinate representation in all of our examples, and this is the default for the built-in frames. Frequently it is convenient to initialize or work with a coordinate using a different representation such as Cartesian or Cylindrical. This can be done by setting the representation_type for either SkyCoord objects or low-level frame coordinate objects.\n",
    "\n",
    "To initialize or work with a coordinate using a different representation such as Cartesian or Cylindrical:\n",
    "\n",
    "    "
   ]
  },
  {
   "cell_type": "code",
   "execution_count": 31,
   "id": "05c67c9b",
   "metadata": {},
   "outputs": [
    {
     "name": "stdout",
     "output_type": "stream",
     "text": [
      "1.0 kpc 2.0 kpc 3.0 kpc\n",
      "<SkyCoord (ICRS): (rho, phi, z) in (kpc, deg, kpc)\n",
      "    (2.23606798, 63.43494882, 3.)>\n"
     ]
    }
   ],
   "source": [
    "\n",
    "c = SkyCoord(x=1, y=2, z=3, unit='kpc', representation_type='cartesian')\n",
    "print(c.x, c.y, c.z )\n",
    "#(<Quantity 1. kpc>, <Quantity 2. kpc>, <Quantity 3. kpc>)\n",
    "\n",
    "c.representation_type = 'cylindrical'\n",
    "print(c)\n",
    "#<SkyCoord (ICRS): (rho, phi, z) in (kpc, deg, kpc)\n",
    "#   (2.23606798, 63.43494882, 3.)>\n",
    "\n"
   ]
  },
  {
   "cell_type": "markdown",
   "id": "fc472947",
   "metadata": {},
   "source": [
    "#### _Distance_\n",
    "\n",
    "SkyCoord and the individual frame classes also support specifying a distance from the frame origin. The origin depends on the particular coordinate frame; this can be, for example, centered on the earth, centered on the solar system barycenter, etc.\n",
    "\n",
    "Two angles and a distance specify a unique point in 3D space, which also allows converting the coordinates to a Cartesian representation:\n",
    "\n",
    "    "
   ]
  },
  {
   "cell_type": "code",
   "execution_count": 32,
   "id": "0ceb2934",
   "metadata": {},
   "outputs": [
    {
     "name": "stdout",
     "output_type": "stream",
     "text": [
      "568.7128654235231 kpc\n",
      "107.3008974042025 kpc\n",
      "507.88994291875713 kpc\n"
     ]
    }
   ],
   "source": [
    "\n",
    " c = SkyCoord(ra=10.68458*u.degree, dec=41.26917*u.degree, distance=770*u.kpc)\n",
    "\n",
    " print(c.cartesian.x  )\n",
    " #<Quantity 568.71286542 kpc>\n",
    "\n",
    " print(c.cartesian.y)\n",
    " #<Quantity 107.3008974 kpc>\n",
    "\n",
    " print(c.cartesian.z  )\n",
    " #<Quantity 507.88994292 kpc>\n"
   ]
  },
  {
   "cell_type": "markdown",
   "id": "a7f5b8e6",
   "metadata": {},
   "source": [
    "With distances assigned, SkyCoord convenience methods are more powerful, as they can make use of the 3D information. For example, to compute the physical, 3D separation between two points in space:\n",
    "\n",
    "    "
   ]
  },
  {
   "cell_type": "code",
   "execution_count": 33,
   "id": "2ccef412",
   "metadata": {},
   "outputs": [
    {
     "name": "stdout",
     "output_type": "stream",
     "text": [
      "1.5228602415117987 pc\n"
     ]
    }
   ],
   "source": [
    "\n",
    "c1 = SkyCoord(ra=10*u.degree, dec=9*u.degree, distance=10*u.pc, frame='icrs')\n",
    "c2 = SkyCoord(ra=11*u.degree, dec=10*u.degree, distance=11.5*u.pc, frame='icrs')\n",
    " \n",
    "angsep=c1.separation_3d(c2)\n",
    "print(angsep)\n"
   ]
  },
  {
   "cell_type": "markdown",
   "id": "2ecc9a69",
   "metadata": {},
   "source": [
    "SkyCoord defines a number of convenience methods that support, for example, computing on-sky (i.e., angular) and 3D separations between two coordinates.\n",
    "\n",
    "To compute on-sky and 3D separations between two coordinates, even when the units are different:"
   ]
  },
  {
   "cell_type": "code",
   "execution_count": 34,
   "id": "2c0bf726",
   "metadata": {},
   "outputs": [
    {
     "name": "stdout",
     "output_type": "stream",
     "text": [
      "1.4045335865905848\n"
     ]
    }
   ],
   "source": [
    "\n",
    "c1 = SkyCoord(ra=10*u.degree, dec=9*u.degree, frame='icrs')\n",
    "\n",
    "c2 = SkyCoord(ra=11*u.degree, dec=10*u.degree, frame='fk5')\n",
    "\n",
    "sep=c1.separation(c2)  # Differing frames handled correctly  \n",
    "print(sep.deg)\n",
    "#<Angle 1.40453359 deg>\n"
   ]
  },
  {
   "cell_type": "markdown",
   "id": "e81441ae",
   "metadata": {},
   "source": [
    "#### _Quick Target Querying_\n",
    "\n",
    "The astropy.coordinates sub-package also provides a quick way to get coordinates for named objects, assuming you have an active internet connection. The from_name method of SkyCoord uses Sesame -- [https://cds.unistra.fr/cgi-bin/Sesame]() -- to retrieve coordinates for a particular named object.\n",
    "\n",
    "To retrieve coordinates for a particular named object:\n",
    "\n",
    "    "
   ]
  },
  {
   "cell_type": "code",
   "execution_count": 35,
   "id": "20cfc548",
   "metadata": {},
   "outputs": [
    {
     "data": {
      "text/plain": [
       "<SkyCoord (ICRS): (ra, dec) in deg\n",
       "    (346.86964884, 21.13425299)>"
      ]
     },
     "execution_count": 35,
     "metadata": {},
     "output_type": "execute_result"
    }
   ],
   "source": [
    "\n",
    "SkyCoord.from_name(\"HR 8799\")\n",
    "#<SkyCoord (ICRS): (ra, dec) in deg\n",
    "#    (346.86964884, 21.13425299)>\n"
   ]
  },
  {
   "cell_type": "markdown",
   "id": "e275535a",
   "metadata": {},
   "source": [
    "Note that this method is rather simple, not allowing for complex querying.  To obtain a wide range of information about targets from querying public databases, we will need to use _**astroquery**_."
   ]
  },
  {
   "cell_type": "code",
   "execution_count": null,
   "id": "e80b9324",
   "metadata": {},
   "outputs": [],
   "source": []
  }
 ],
 "metadata": {
  "kernelspec": {
   "display_name": "Python 3 (ipykernel)",
   "language": "python",
   "name": "python3"
  },
  "language_info": {
   "codemirror_mode": {
    "name": "ipython",
    "version": 3
   },
   "file_extension": ".py",
   "mimetype": "text/x-python",
   "name": "python",
   "nbconvert_exporter": "python",
   "pygments_lexer": "ipython3",
   "version": "3.10.4"
  }
 },
 "nbformat": 4,
 "nbformat_minor": 5
}
